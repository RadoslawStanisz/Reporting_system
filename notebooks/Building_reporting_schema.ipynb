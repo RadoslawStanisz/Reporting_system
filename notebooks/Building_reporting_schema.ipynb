{
 "cells": [
  {
   "cell_type": "markdown",
   "metadata": {},
   "source": [
    " # Description\n",
    " \n",
    " In order to build a reporting system according to business requirements, data from the database needs to be prepared (e.g., aggregated, etc.). This notebook focuses on loading `reporting.sql` file, where a **new schema** is to be created - `reporting`. This schema will contain a few views that will facilitate building visualizations in Dash, which is the last step in this project.\n",
    "\n",
    "Business requirements for reporting system:\n",
    "\n",
    "1. Displaying TOP 10 airports (in terms of the highest percentage of delays) based on the number of departures, also including information about the number of arrivals - view `top_airports_by_departure`.\n",
    "2. Displaying TOP 10 flight routes (in terms of the highest percentage of delays). The minimum number of flights operated on the route should be at least **10,000 flights** - view `top_reliability_roads`.\n",
    "3. Comparison between the year 2019 vs. 2020 to track the impact of COVID on flight operations:\n",
    "month-to-month, (for example, the delay percentage in January 2019 vs. the delay percentage in January 2020) - view `year_to_year_comparison`,\n",
    "day-to-day, (for example, the delay percentage on Tuesday 2019 vs. the delay percentage on Tuesday 2020) - view `day_to_day_comparison`.\n",
    "4. Daily comparison, which shows how the aircraft delay indicator looked globally on a given day, i.e., the delay percentage on 01-01-2019, the delay percentage on 02-01-2019, and so on."
   ]
  },
  {
   "cell_type": "markdown",
   "metadata": {},
   "source": [
    "#### Notebook configuration"
   ]
  },
  {
   "cell_type": "code",
   "execution_count": 1,
   "metadata": {},
   "outputs": [],
   "source": [
    "import psycopg2\n",
    "import os\n",
    "from dotenv import load_dotenv"
   ]
  },
  {
   "cell_type": "code",
   "execution_count": 2,
   "metadata": {},
   "outputs": [
    {
     "data": {
      "text/plain": [
       "True"
      ]
     },
     "execution_count": 2,
     "metadata": {},
     "output_type": "execute_result"
    }
   ],
   "source": [
    "load_dotenv()"
   ]
  },
  {
   "cell_type": "code",
   "execution_count": 3,
   "metadata": {},
   "outputs": [],
   "source": [
    "connection = psycopg2.connect(\n",
    "                        host='localhost',\n",
    "                        user='postgres',\n",
    "                        password=os.environ['Db_PASSWORD'],\n",
    "                        dbname='postgres',\n",
    "                        port = 5432,\n",
    ")"
   ]
  },
  {
   "cell_type": "code",
   "execution_count": 4,
   "metadata": {},
   "outputs": [],
   "source": [
    "cursor = connection.cursor()"
   ]
  },
  {
   "cell_type": "markdown",
   "metadata": {},
   "source": [
    " #### Creating  new schema based on `reporting.sql`"
   ]
  },
  {
   "cell_type": "code",
   "execution_count": 5,
   "metadata": {},
   "outputs": [],
   "source": [
    "with open(r'../sql/reporting.sql', 'r', encoding='utf-8') as file:\n",
    "    sql_script = file.read()"
   ]
  },
  {
   "cell_type": "code",
   "execution_count": 6,
   "metadata": {},
   "outputs": [],
   "source": [
    "queries = sql_script.split(';')"
   ]
  },
  {
   "cell_type": "code",
   "execution_count": 7,
   "metadata": {},
   "outputs": [],
   "source": [
    "for query in queries:\n",
    "    if query:   \n",
    "        cursor.execute(query)\n",
    "        connection.commit()"
   ]
  },
  {
   "cell_type": "markdown",
   "metadata": {},
   "source": [
    "#### Check\n"
   ]
  },
  {
   "cell_type": "code",
   "execution_count": 8,
   "metadata": {},
   "outputs": [],
   "source": [
    "def check_if_view_exists(view_name):\n",
    "    msg = f\"Checking whether {view_name} exists\"\n",
    "    print(msg)\n",
    "\n",
    "    query = f\"select 1 from {view_name}\"\n",
    "    cursor.execute(query)\n",
    "    print('OK!')"
   ]
  },
  {
   "cell_type": "code",
   "execution_count": 9,
   "metadata": {},
   "outputs": [],
   "source": [
    "views_to_test = [\n",
    "    'reporting.flight',\n",
    "    'reporting.top_reliability_roads',\n",
    "    'reporting.year_to_year_comparision',\n",
    "    'reporting.day_to_day_comparision',\n",
    "    'reporting.day_by_day_reliability'\n",
    "]"
   ]
  },
  {
   "cell_type": "code",
   "execution_count": 10,
   "metadata": {},
   "outputs": [
    {
     "name": "stdout",
     "output_type": "stream",
     "text": [
      "Checking whether reporting.flight exists\n",
      "OK!\n",
      "Checking whether reporting.top_reliability_roads exists\n",
      "OK!\n",
      "Checking whether reporting.year_to_year_comparision exists\n",
      "OK!\n",
      "Checking whether reporting.day_to_day_comparision exists\n",
      "OK!\n",
      "Checking whether reporting.day_by_day_reliability exists\n",
      "OK!\n"
     ]
    }
   ],
   "source": [
    "for view in views_to_test:\n",
    "    check_if_view_exists(view)"
   ]
  },
  {
   "cell_type": "code",
   "execution_count": 11,
   "metadata": {},
   "outputs": [],
   "source": [
    "connection.close()"
   ]
  },
  {
   "cell_type": "markdown",
   "metadata": {},
   "source": [
    " # Summary\n",
    " \n",
    " In this notebook the views defined in `reporting.sql` file were created in the new schema 'reporting' in the database. Now the data is ready for visualization in Dash."
   ]
  }
 ],
 "metadata": {
  "kernelspec": {
   "display_name": "Flights_Analysis",
   "language": "python",
   "name": "flights_analysis"
  },
  "language_info": {
   "codemirror_mode": {
    "name": "ipython",
    "version": 3
   },
   "file_extension": ".py",
   "mimetype": "text/x-python",
   "name": "python",
   "nbconvert_exporter": "python",
   "pygments_lexer": "ipython3",
   "version": "3.11.5"
  },
  "vscode": {
   "interpreter": {
    "hash": "38d75d0df746d7f75dd34c5d1915af59cb55786647bd68b8d9064425d7680b12"
   }
  }
 },
 "nbformat": 4,
 "nbformat_minor": 2
}
