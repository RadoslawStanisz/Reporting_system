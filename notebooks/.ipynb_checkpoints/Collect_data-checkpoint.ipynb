{
 "cells": [
  {
   "cell_type": "markdown",
   "metadata": {},
   "source": [
    " # Description\n",
    "\n",
    "In this notebook I have collected data from a dedicated API: [click](https://api-datalab.coderslab.com/v2/docs/).\n",
    "\n",
    " According to the documentation there are 4 endpoints available:\n",
    " - `airport` - airport data, parameters: airport_id (the list of airports to be passed is in the **airports.csv** file in folder 'data' of project repository,\n",
    " - `weather` - weather details at the airport on a given day,\n",
    " - `aircraft` - aircrafts' manufacture data \n",
    " - `flights` - daily data regarding departures from the airport.\n",
    "\n",
    "### Remarks:\n",
    "\n",
    "- To collect succesfully the data from these endpoints an authorization token is required. The API key is stored in the environment variable and is represented in the code as 'APIKEY'\n",
    "- The construction of the endpoints differs from endpoint to endpoint requiring slightly different approaches to successfully collect all data.\n",
    "- API call limit is 1000/min"
   ]
  },
  {
   "cell_type": "markdown",
   "metadata": {},
   "source": [
    " # Notebook configuration"
   ]
  },
  {
   "cell_type": "code",
   "execution_count": 1,
   "metadata": {},
   "outputs": [],
   "source": [
    "import os\n",
    "from dotenv import load_dotenv\n",
    "import json\n",
    "import requests\n",
    "from time import sleep\n",
    "from tqdm import tqdm\n",
    "import pandas as pd"
   ]
  },
  {
   "cell_type": "code",
   "execution_count": 2,
   "metadata": {},
   "outputs": [],
   "source": [
    "load_dotenv()\n",
    "APIKEY = os.environ.get('API_KEY')\n",
    "API_URL = 'https://api-datalab.coderslab.com/api/v2'"
   ]
  },
  {
   "cell_type": "code",
   "execution_count": 3,
   "metadata": {},
   "outputs": [],
   "source": [
    "df = pd.read_csv(r'..\\data\\airports.csv')"
   ]
  },
  {
   "cell_type": "code",
   "execution_count": 4,
   "metadata": {},
   "outputs": [
    {
     "data": {
      "text/plain": [
       "(364, 1)"
      ]
     },
     "execution_count": 4,
     "metadata": {},
     "output_type": "execute_result"
    }
   ],
   "source": [
    "df.shape"
   ]
  },
  {
   "cell_type": "code",
   "execution_count": 5,
   "metadata": {},
   "outputs": [
    {
     "data": {
      "text/html": [
       "<div>\n",
       "<style scoped>\n",
       "    .dataframe tbody tr th:only-of-type {\n",
       "        vertical-align: middle;\n",
       "    }\n",
       "\n",
       "    .dataframe tbody tr th {\n",
       "        vertical-align: top;\n",
       "    }\n",
       "\n",
       "    .dataframe thead th {\n",
       "        text-align: right;\n",
       "    }\n",
       "</style>\n",
       "<table border=\"1\" class=\"dataframe\">\n",
       "  <thead>\n",
       "    <tr style=\"text-align: right;\">\n",
       "      <th></th>\n",
       "      <th>origin_airport_id</th>\n",
       "    </tr>\n",
       "  </thead>\n",
       "  <tbody>\n",
       "    <tr>\n",
       "      <th>0</th>\n",
       "      <td>10874</td>\n",
       "    </tr>\n",
       "    <tr>\n",
       "      <th>1</th>\n",
       "      <td>11233</td>\n",
       "    </tr>\n",
       "    <tr>\n",
       "      <th>2</th>\n",
       "      <td>13360</td>\n",
       "    </tr>\n",
       "    <tr>\n",
       "      <th>3</th>\n",
       "      <td>15008</td>\n",
       "    </tr>\n",
       "    <tr>\n",
       "      <th>4</th>\n",
       "      <td>11638</td>\n",
       "    </tr>\n",
       "  </tbody>\n",
       "</table>\n",
       "</div>"
      ],
      "text/plain": [
       "   origin_airport_id\n",
       "0              10874\n",
       "1              11233\n",
       "2              13360\n",
       "3              15008\n",
       "4              11638"
      ]
     },
     "execution_count": 5,
     "metadata": {},
     "output_type": "execute_result"
    }
   ],
   "source": [
    "df.head()"
   ]
  },
  {
   "cell_type": "code",
   "execution_count": 6,
   "metadata": {},
   "outputs": [
    {
     "data": {
      "text/plain": [
       "364"
      ]
     },
     "execution_count": 6,
     "metadata": {},
     "output_type": "execute_result"
    }
   ],
   "source": [
    "airport_id_list = df['origin_airport_id'].unique().tolist()\n",
    "len(airport_id_list)"
   ]
  },
  {
   "cell_type": "markdown",
   "metadata": {},
   "source": [
    "There are 364 unique airports on the list"
   ]
  },
  {
   "cell_type": "markdown",
   "metadata": {},
   "source": [
    " # Collect data from `Airport` endpoint"
   ]
  },
  {
   "cell_type": "code",
   "execution_count": 7,
   "metadata": {
    "collapsed": true
   },
   "outputs": [
    {
     "name": "stderr",
     "output_type": "stream",
     "text": [
      "  0%|▏                                                                                 | 1/364 [00:00<05:06,  1.19it/s]"
     ]
    },
    {
     "name": "stdout",
     "output_type": "stream",
     "text": [
      "No data for airport 10874 (code status: 400)\n"
     ]
    },
    {
     "name": "stderr",
     "output_type": "stream",
     "text": [
      "\r",
      "  1%|▍                                                                                 | 2/364 [00:01<04:55,  1.22it/s]"
     ]
    },
    {
     "name": "stdout",
     "output_type": "stream",
     "text": [
      "No data for airport 11233 (code status: 400)\n"
     ]
    },
    {
     "name": "stderr",
     "output_type": "stream",
     "text": [
      "\r",
      "  1%|▋                                                                                 | 3/364 [00:02<04:42,  1.28it/s]"
     ]
    },
    {
     "name": "stdout",
     "output_type": "stream",
     "text": [
      "No data for airport 13360 (code status: 400)\n"
     ]
    },
    {
     "name": "stderr",
     "output_type": "stream",
     "text": [
      "\r",
      "  1%|▉                                                                                 | 4/364 [00:03<04:36,  1.30it/s]"
     ]
    },
    {
     "name": "stdout",
     "output_type": "stream",
     "text": [
      "No data for airport 15008 (code status: 400)\n"
     ]
    },
    {
     "name": "stderr",
     "output_type": "stream",
     "text": [
      "  2%|█▎                                                                                | 6/364 [00:04<04:30,  1.32it/s]"
     ]
    },
    {
     "name": "stdout",
     "output_type": "stream",
     "text": [
      "No data for airport 14150 (code status: 400)\n"
     ]
    },
    {
     "name": "stderr",
     "output_type": "stream",
     "text": [
      "\r",
      "  2%|█▌                                                                                | 7/364 [00:05<04:32,  1.31it/s]"
     ]
    },
    {
     "name": "stdout",
     "output_type": "stream",
     "text": [
      "No data for airport 15323 (code status: 400)\n"
     ]
    },
    {
     "name": "stderr",
     "output_type": "stream",
     "text": [
      "\r",
      "  2%|█▊                                                                                | 8/364 [00:06<04:38,  1.28it/s]"
     ]
    },
    {
     "name": "stdout",
     "output_type": "stream",
     "text": [
      "No data for airport 14814 (code status: 400)\n"
     ]
    },
    {
     "name": "stderr",
     "output_type": "stream",
     "text": [
      "\r",
      "  2%|██                                                                                | 9/364 [00:06<04:33,  1.30it/s]"
     ]
    },
    {
     "name": "stdout",
     "output_type": "stream",
     "text": [
      "No data for airport 12007 (code status: 400)\n"
     ]
    },
    {
     "name": "stderr",
     "output_type": "stream",
     "text": [
      "\r",
      "  3%|██▏                                                                              | 10/364 [00:07<04:30,  1.31it/s]"
     ]
    },
    {
     "name": "stdout",
     "output_type": "stream",
     "text": [
      "No data for airport 11337 (code status: 400)\n"
     ]
    },
    {
     "name": "stderr",
     "output_type": "stream",
     "text": [
      "  3%|██▋                                                                              | 12/364 [00:09<04:27,  1.31it/s]"
     ]
    },
    {
     "name": "stdout",
     "output_type": "stream",
     "text": [
      "No data for airport 15070 (code status: 400)\n"
     ]
    },
    {
     "name": "stderr",
     "output_type": "stream",
     "text": [
      "  4%|███                                                                              | 14/364 [00:10<04:35,  1.27it/s]"
     ]
    },
    {
     "name": "stdout",
     "output_type": "stream",
     "text": [
      "No data for airport 12280 (code status: 400)\n"
     ]
    },
    {
     "name": "stderr",
     "output_type": "stream",
     "text": [
      "  4%|███▌                                                                             | 16/364 [00:12<04:38,  1.25it/s]"
     ]
    },
    {
     "name": "stdout",
     "output_type": "stream",
     "text": [
      "No data for airport 11641 (code status: 400)\n"
     ]
    },
    {
     "name": "stderr",
     "output_type": "stream",
     "text": [
      "\r",
      "  5%|███▊                                                                             | 17/364 [00:13<04:34,  1.26it/s]"
     ]
    },
    {
     "name": "stdout",
     "output_type": "stream",
     "text": [
      "No data for airport 13832 (code status: 400)\n"
     ]
    },
    {
     "name": "stderr",
     "output_type": "stream",
     "text": [
      "\r",
      "  5%|████                                                                             | 18/364 [00:14<04:32,  1.27it/s]"
     ]
    },
    {
     "name": "stdout",
     "output_type": "stream",
     "text": [
      "No data for airport 10268 (code status: 400)\n"
     ]
    },
    {
     "name": "stderr",
     "output_type": "stream",
     "text": [
      "  5%|████▍                                                                            | 20/364 [00:15<04:24,  1.30it/s]"
     ]
    },
    {
     "name": "stdout",
     "output_type": "stream",
     "text": [
      "No data for airport 15041 (code status: 400)\n"
     ]
    },
    {
     "name": "stderr",
     "output_type": "stream",
     "text": [
      "  6%|████▉                                                                            | 22/364 [00:17<04:15,  1.34it/s]"
     ]
    },
    {
     "name": "stdout",
     "output_type": "stream",
     "text": [
      "No data for airport 12119 (code status: 400)\n"
     ]
    },
    {
     "name": "stderr",
     "output_type": "stream",
     "text": [
      "\r",
      "  6%|█████                                                                            | 23/364 [00:17<04:16,  1.33it/s]"
     ]
    },
    {
     "name": "stdout",
     "output_type": "stream",
     "text": [
      "No data for airport 11537 (code status: 400)\n"
     ]
    },
    {
     "name": "stderr",
     "output_type": "stream",
     "text": [
      "\r",
      "  7%|█████▎                                                                           | 24/364 [00:18<04:13,  1.34it/s]"
     ]
    },
    {
     "name": "stdout",
     "output_type": "stream",
     "text": [
      "No data for airport 11092 (code status: 400)\n"
     ]
    },
    {
     "name": "stderr",
     "output_type": "stream",
     "text": [
      "\r",
      "  7%|█████▌                                                                           | 25/364 [00:19<04:11,  1.35it/s]"
     ]
    },
    {
     "name": "stdout",
     "output_type": "stream",
     "text": [
      "No data for airport 10581 (code status: 400)\n"
     ]
    },
    {
     "name": "stderr",
     "output_type": "stream",
     "text": [
      "\r",
      "  7%|█████▊                                                                           | 26/364 [00:19<04:10,  1.35it/s]"
     ]
    },
    {
     "name": "stdout",
     "output_type": "stream",
     "text": [
      "No data for airport 13829 (code status: 400)\n"
     ]
    },
    {
     "name": "stderr",
     "output_type": "stream",
     "text": [
      "\r",
      "  7%|██████                                                                           | 27/364 [00:20<04:10,  1.34it/s]"
     ]
    },
    {
     "name": "stdout",
     "output_type": "stream",
     "text": [
      "No data for airport 15389 (code status: 400)\n"
     ]
    },
    {
     "name": "stderr",
     "output_type": "stream",
     "text": [
      "  8%|██████▍                                                                          | 29/364 [00:22<04:06,  1.36it/s]"
     ]
    },
    {
     "name": "stdout",
     "output_type": "stream",
     "text": [
      "No data for airport 12389 (code status: 400)\n"
     ]
    },
    {
     "name": "stderr",
     "output_type": "stream",
     "text": [
      "\r",
      "  8%|██████▋                                                                          | 30/364 [00:22<04:08,  1.35it/s]"
     ]
    },
    {
     "name": "stdout",
     "output_type": "stream",
     "text": [
      "No data for airport 11648 (code status: 400)\n"
     ]
    },
    {
     "name": "stderr",
     "output_type": "stream",
     "text": [
      "\r",
      "  9%|██████▉                                                                          | 31/364 [00:23<04:06,  1.35it/s]"
     ]
    },
    {
     "name": "stdout",
     "output_type": "stream",
     "text": [
      "No data for airport 15023 (code status: 400)\n"
     ]
    },
    {
     "name": "stderr",
     "output_type": "stream",
     "text": [
      "\r",
      "  9%|███████                                                                          | 32/364 [00:24<04:13,  1.31it/s]"
     ]
    },
    {
     "name": "stdout",
     "output_type": "stream",
     "text": [
      "No data for airport 11982 (code status: 400)\n"
     ]
    },
    {
     "name": "stderr",
     "output_type": "stream",
     "text": [
      "\r",
      "  9%|███████▎                                                                         | 33/364 [00:25<04:15,  1.30it/s]"
     ]
    },
    {
     "name": "stdout",
     "output_type": "stream",
     "text": [
      "No data for airport 10967 (code status: 400)\n"
     ]
    },
    {
     "name": "stderr",
     "output_type": "stream",
     "text": [
      "\r",
      "  9%|███████▌                                                                         | 34/364 [00:26<04:15,  1.29it/s]"
     ]
    },
    {
     "name": "stdout",
     "output_type": "stream",
     "text": [
      "No data for airport 11525 (code status: 400)\n"
     ]
    },
    {
     "name": "stderr",
     "output_type": "stream",
     "text": [
      " 10%|████████                                                                         | 36/364 [00:27<04:14,  1.29it/s]"
     ]
    },
    {
     "name": "stdout",
     "output_type": "stream",
     "text": [
      "No data for airport 14259 (code status: 400)\n"
     ]
    },
    {
     "name": "stderr",
     "output_type": "stream",
     "text": [
      "\r",
      " 10%|████████▏                                                                        | 37/364 [00:28<04:15,  1.28it/s]"
     ]
    },
    {
     "name": "stdout",
     "output_type": "stream",
     "text": [
      "No data for airport 11637 (code status: 400)\n"
     ]
    },
    {
     "name": "stderr",
     "output_type": "stream",
     "text": [
      "\r",
      " 10%|████████▍                                                                        | 38/364 [00:29<04:19,  1.26it/s]"
     ]
    },
    {
     "name": "stdout",
     "output_type": "stream",
     "text": [
      "No data for airport 10466 (code status: 400)\n"
     ]
    },
    {
     "name": "stderr",
     "output_type": "stream",
     "text": [
      " 11%|████████▉                                                                        | 40/364 [00:30<04:12,  1.28it/s]"
     ]
    },
    {
     "name": "stdout",
     "output_type": "stream",
     "text": [
      "No data for airport 10208 (code status: 400)\n"
     ]
    },
    {
     "name": "stderr",
     "output_type": "stream",
     "text": [
      "\r",
      " 11%|█████████                                                                        | 41/364 [00:31<04:12,  1.28it/s]"
     ]
    },
    {
     "name": "stdout",
     "output_type": "stream",
     "text": [
      "No data for airport 15841 (code status: 400)\n"
     ]
    },
    {
     "name": "stderr",
     "output_type": "stream",
     "text": [
      " 12%|█████████▌                                                                       | 43/364 [00:33<04:06,  1.30it/s]"
     ]
    },
    {
     "name": "stdout",
     "output_type": "stream",
     "text": [
      "No data for airport 12898 (code status: 400)\n"
     ]
    },
    {
     "name": "stderr",
     "output_type": "stream",
     "text": [
      "\r",
      " 12%|█████████▊                                                                       | 44/364 [00:33<04:11,  1.27it/s]"
     ]
    },
    {
     "name": "stdout",
     "output_type": "stream",
     "text": [
      "No data for airport 13241 (code status: 400)\n"
     ]
    },
    {
     "name": "stderr",
     "output_type": "stream",
     "text": [
      "\r",
      " 12%|██████████                                                                       | 45/364 [00:34<04:15,  1.25it/s]"
     ]
    },
    {
     "name": "stdout",
     "output_type": "stream",
     "text": [
      "No data for airport 13367 (code status: 400)\n"
     ]
    },
    {
     "name": "stderr",
     "output_type": "stream",
     "text": [
      "\r",
      " 13%|██████████▏                                                                      | 46/364 [00:35<04:11,  1.26it/s]"
     ]
    },
    {
     "name": "stdout",
     "output_type": "stream",
     "text": [
      "No data for airport 11481 (code status: 400)\n"
     ]
    },
    {
     "name": "stderr",
     "output_type": "stream",
     "text": [
      "\r",
      " 13%|██████████▍                                                                      | 47/364 [00:37<05:59,  1.13s/it]"
     ]
    },
    {
     "name": "stdout",
     "output_type": "stream",
     "text": [
      "No data for airport 14108 (code status: 400)\n"
     ]
    },
    {
     "name": "stderr",
     "output_type": "stream",
     "text": [
      " 13%|██████████▉                                                                      | 49/364 [00:39<05:17,  1.01s/it]"
     ]
    },
    {
     "name": "stdout",
     "output_type": "stream",
     "text": [
      "No data for airport 13873 (code status: 400)\n"
     ]
    },
    {
     "name": "stderr",
     "output_type": "stream",
     "text": [
      "\r",
      " 14%|███████████▏                                                                     | 50/364 [00:40<05:05,  1.03it/s]"
     ]
    },
    {
     "name": "stdout",
     "output_type": "stream",
     "text": [
      "No data for airport 10157 (code status: 400)\n"
     ]
    },
    {
     "name": "stderr",
     "output_type": "stream",
     "text": [
      "\r",
      " 14%|███████████▎                                                                     | 51/364 [00:40<04:48,  1.09it/s]"
     ]
    },
    {
     "name": "stdout",
     "output_type": "stream",
     "text": [
      "No data for airport 10245 (code status: 400)\n"
     ]
    },
    {
     "name": "stderr",
     "output_type": "stream",
     "text": [
      "\r",
      " 14%|███████████▌                                                                     | 52/364 [00:41<04:35,  1.13it/s]"
     ]
    },
    {
     "name": "stdout",
     "output_type": "stream",
     "text": [
      "No data for airport 11146 (code status: 400)\n"
     ]
    },
    {
     "name": "stderr",
     "output_type": "stream",
     "text": [
      "\r",
      " 15%|███████████▊                                                                     | 53/364 [00:42<04:20,  1.19it/s]"
     ]
    },
    {
     "name": "stdout",
     "output_type": "stream",
     "text": [
      "No data for airport 13277 (code status: 400)\n"
     ]
    },
    {
     "name": "stderr",
     "output_type": "stream",
     "text": [
      " 15%|████████████▏                                                                    | 55/364 [00:44<04:12,  1.22it/s]"
     ]
    },
    {
     "name": "stdout",
     "output_type": "stream",
     "text": [
      "No data for airport 11109 (code status: 400)\n"
     ]
    },
    {
     "name": "stderr",
     "output_type": "stream",
     "text": [
      "\r",
      " 15%|████████████▍                                                                    | 56/364 [00:44<04:06,  1.25it/s]"
     ]
    },
    {
     "name": "stdout",
     "output_type": "stream",
     "text": [
      "No data for airport 13459 (code status: 400)\n"
     ]
    },
    {
     "name": "stderr",
     "output_type": "stream",
     "text": [
      "\r",
      " 16%|████████████▋                                                                    | 57/364 [00:45<04:02,  1.27it/s]"
     ]
    },
    {
     "name": "stdout",
     "output_type": "stream",
     "text": [
      "No data for airport 11775 (code status: 400)\n"
     ]
    },
    {
     "name": "stderr",
     "output_type": "stream",
     "text": [
      "\r",
      " 16%|████████████▉                                                                    | 58/364 [00:46<03:59,  1.28it/s]"
     ]
    },
    {
     "name": "stdout",
     "output_type": "stream",
     "text": [
      "No data for airport 16218 (code status: 400)\n"
     ]
    },
    {
     "name": "stderr",
     "output_type": "stream",
     "text": [
      "\r",
      " 16%|█████████████▏                                                                   | 59/364 [00:47<03:55,  1.29it/s]"
     ]
    },
    {
     "name": "stdout",
     "output_type": "stream",
     "text": [
      "No data for airport 14698 (code status: 400)\n"
     ]
    },
    {
     "name": "stderr",
     "output_type": "stream",
     "text": [
      "\r",
      " 16%|█████████████▎                                                                   | 60/364 [00:47<03:51,  1.31it/s]"
     ]
    },
    {
     "name": "stdout",
     "output_type": "stream",
     "text": [
      "No data for airport 14252 (code status: 400)\n"
     ]
    },
    {
     "name": "stderr",
     "output_type": "stream",
     "text": [
      "\r",
      " 17%|█████████████▌                                                                   | 61/364 [00:48<03:51,  1.31it/s]"
     ]
    },
    {
     "name": "stdout",
     "output_type": "stream",
     "text": [
      "No data for airport 13256 (code status: 400)\n"
     ]
    },
    {
     "name": "stderr",
     "output_type": "stream",
     "text": [
      "\r",
      " 17%|█████████████▊                                                                   | 62/364 [00:49<03:49,  1.32it/s]"
     ]
    },
    {
     "name": "stdout",
     "output_type": "stream",
     "text": [
      "No data for airport 13139 (code status: 400)\n"
     ]
    },
    {
     "name": "stderr",
     "output_type": "stream",
     "text": [
      "\r",
      " 17%|██████████████                                                                   | 63/364 [00:50<03:49,  1.31it/s]"
     ]
    },
    {
     "name": "stdout",
     "output_type": "stream",
     "text": [
      "No data for airport 12250 (code status: 400)\n"
     ]
    },
    {
     "name": "stderr",
     "output_type": "stream",
     "text": [
      " 18%|██████████████▍                                                                  | 65/364 [00:51<03:43,  1.34it/s]"
     ]
    },
    {
     "name": "stdout",
     "output_type": "stream",
     "text": [
      "No data for airport 11468 (code status: 400)\n"
     ]
    },
    {
     "name": "stderr",
     "output_type": "stream",
     "text": [
      "\r",
      " 18%|██████████████▋                                                                  | 66/364 [00:52<03:41,  1.34it/s]"
     ]
    },
    {
     "name": "stdout",
     "output_type": "stream",
     "text": [
      "No data for airport 14952 (code status: 400)\n"
     ]
    },
    {
     "name": "stderr",
     "output_type": "stream",
     "text": [
      "\r",
      " 18%|██████████████▉                                                                  | 67/364 [00:53<03:42,  1.33it/s]"
     ]
    },
    {
     "name": "stdout",
     "output_type": "stream",
     "text": [
      "No data for airport 12402 (code status: 400)\n"
     ]
    },
    {
     "name": "stderr",
     "output_type": "stream",
     "text": [
      "\r",
      " 19%|███████████████▏                                                                 | 68/364 [00:53<03:41,  1.34it/s]"
     ]
    },
    {
     "name": "stdout",
     "output_type": "stream",
     "text": [
      "No data for airport 14574 (code status: 400)\n"
     ]
    },
    {
     "name": "stderr",
     "output_type": "stream",
     "text": [
      " 19%|███████████████▌                                                                 | 70/364 [00:55<03:43,  1.32it/s]"
     ]
    },
    {
     "name": "stdout",
     "output_type": "stream",
     "text": [
      "No data for airport 11977 (code status: 400)\n"
     ]
    },
    {
     "name": "stderr",
     "output_type": "stream",
     "text": [
      "\r",
      " 20%|███████████████▊                                                                 | 71/364 [00:56<03:43,  1.31it/s]"
     ]
    },
    {
     "name": "stdout",
     "output_type": "stream",
     "text": [
      "No data for airport 11867 (code status: 400)\n"
     ]
    },
    {
     "name": "stderr",
     "output_type": "stream",
     "text": [
      "\r",
      " 20%|████████████████                                                                 | 72/364 [00:56<03:46,  1.29it/s]"
     ]
    },
    {
     "name": "stdout",
     "output_type": "stream",
     "text": [
      "No data for airport 11203 (code status: 400)\n"
     ]
    },
    {
     "name": "stderr",
     "output_type": "stream",
     "text": [
      " 21%|████████████████▋                                                                | 75/364 [00:59<03:42,  1.30it/s]"
     ]
    },
    {
     "name": "stdout",
     "output_type": "stream",
     "text": [
      "No data for airport 10747 (code status: 400)\n"
     ]
    },
    {
     "name": "stderr",
     "output_type": "stream",
     "text": [
      "\r",
      " 21%|████████████████▉                                                                | 76/364 [01:00<03:40,  1.31it/s]"
     ]
    },
    {
     "name": "stdout",
     "output_type": "stream",
     "text": [
      "No data for airport 14905 (code status: 400)\n"
     ]
    },
    {
     "name": "stderr",
     "output_type": "stream",
     "text": [
      "\r",
      " 21%|█████████████████▏                                                               | 77/364 [01:00<03:36,  1.33it/s]"
     ]
    },
    {
     "name": "stdout",
     "output_type": "stream",
     "text": [
      "No data for airport 12012 (code status: 400)\n"
     ]
    },
    {
     "name": "stderr",
     "output_type": "stream",
     "text": [
      "\r",
      " 21%|█████████████████▎                                                               | 78/364 [01:01<03:33,  1.34it/s]"
     ]
    },
    {
     "name": "stdout",
     "output_type": "stream",
     "text": [
      "No data for airport 14783 (code status: 400)\n"
     ]
    },
    {
     "name": "stderr",
     "output_type": "stream",
     "text": [
      " 22%|█████████████████▊                                                               | 80/364 [01:02<03:27,  1.37it/s]"
     ]
    },
    {
     "name": "stdout",
     "output_type": "stream",
     "text": [
      "No data for airport 10431 (code status: 400)\n"
     ]
    },
    {
     "name": "stderr",
     "output_type": "stream",
     "text": [
      "\r",
      " 22%|██████████████████                                                               | 81/364 [01:03<03:29,  1.35it/s]"
     ]
    },
    {
     "name": "stdout",
     "output_type": "stream",
     "text": [
      "No data for airport 10434 (code status: 400)\n"
     ]
    },
    {
     "name": "stderr",
     "output_type": "stream",
     "text": [
      "\r",
      " 23%|██████████████████▏                                                              | 82/364 [01:04<03:29,  1.34it/s]"
     ]
    },
    {
     "name": "stdout",
     "output_type": "stream",
     "text": [
      "No data for airport 16869 (code status: 400)\n"
     ]
    },
    {
     "name": "stderr",
     "output_type": "stream",
     "text": [
      "\r",
      " 23%|██████████████████▍                                                              | 83/364 [01:05<03:52,  1.21it/s]"
     ]
    },
    {
     "name": "stdout",
     "output_type": "stream",
     "text": [
      "No data for airport 10408 (code status: 400)\n"
     ]
    },
    {
     "name": "stderr",
     "output_type": "stream",
     "text": [
      " 24%|███████████████████▊                                                             | 89/364 [01:10<03:36,  1.27it/s]"
     ]
    },
    {
     "name": "stdout",
     "output_type": "stream",
     "text": [
      "No data for airport 11624 (code status: 400)\n"
     ]
    },
    {
     "name": "stderr",
     "output_type": "stream",
     "text": [
      "\r",
      " 25%|████████████████████                                                             | 90/364 [01:10<03:42,  1.23it/s]"
     ]
    },
    {
     "name": "stdout",
     "output_type": "stream",
     "text": [
      "No data for airport 13541 (code status: 400)\n"
     ]
    },
    {
     "name": "stderr",
     "output_type": "stream",
     "text": [
      "\r",
      " 25%|████████████████████▎                                                            | 91/364 [01:11<03:49,  1.19it/s]"
     ]
    },
    {
     "name": "stdout",
     "output_type": "stream",
     "text": [
      "No data for airport 13422 (code status: 400)\n"
     ]
    },
    {
     "name": "stderr",
     "output_type": "stream",
     "text": [
      " 26%|█████████████████████▏                                                           | 95/364 [01:15<03:42,  1.21it/s]"
     ]
    },
    {
     "name": "stdout",
     "output_type": "stream",
     "text": [
      "No data for airport 14689 (code status: 400)\n"
     ]
    },
    {
     "name": "stderr",
     "output_type": "stream",
     "text": [
      "\r",
      " 26%|█████████████████████▎                                                           | 96/364 [01:15<03:39,  1.22it/s]"
     ]
    },
    {
     "name": "stdout",
     "output_type": "stream",
     "text": [
      "No data for airport 12391 (code status: 400)\n"
     ]
    },
    {
     "name": "stderr",
     "output_type": "stream",
     "text": [
      "\r",
      " 27%|█████████████████████▌                                                           | 97/364 [01:16<03:35,  1.24it/s]"
     ]
    },
    {
     "name": "stdout",
     "output_type": "stream",
     "text": [
      "No data for airport 10868 (code status: 400)\n"
     ]
    },
    {
     "name": "stderr",
     "output_type": "stream",
     "text": [
      "\r",
      " 27%|█████████████████████▊                                                           | 98/364 [01:17<03:35,  1.23it/s]"
     ]
    },
    {
     "name": "stdout",
     "output_type": "stream",
     "text": [
      "No data for airport 14711 (code status: 400)\n"
     ]
    },
    {
     "name": "stderr",
     "output_type": "stream",
     "text": [
      " 27%|█████████████████████▉                                                          | 100/364 [01:19<03:30,  1.25it/s]"
     ]
    },
    {
     "name": "stdout",
     "output_type": "stream",
     "text": [
      "No data for airport 11067 (code status: 400)\n"
     ]
    },
    {
     "name": "stderr",
     "output_type": "stream",
     "text": [
      "\r",
      " 28%|██████████████████████▏                                                         | 101/364 [01:19<03:25,  1.28it/s]"
     ]
    },
    {
     "name": "stdout",
     "output_type": "stream",
     "text": [
      "No data for airport 10562 (code status: 400)\n"
     ]
    },
    {
     "name": "stderr",
     "output_type": "stream",
     "text": [
      "\r",
      " 28%|██████████████████████▍                                                         | 102/364 [01:20<03:22,  1.29it/s]"
     ]
    },
    {
     "name": "stdout",
     "output_type": "stream",
     "text": [
      "No data for airport 11695 (code status: 400)\n"
     ]
    },
    {
     "name": "stderr",
     "output_type": "stream",
     "text": [
      " 29%|██████████████████████▊                                                         | 104/364 [01:22<03:20,  1.30it/s]"
     ]
    },
    {
     "name": "stdout",
     "output_type": "stream",
     "text": [
      "No data for airport 14109 (code status: 400)\n"
     ]
    },
    {
     "name": "stderr",
     "output_type": "stream",
     "text": [
      "\r",
      " 29%|███████████████████████                                                         | 105/364 [01:22<03:17,  1.31it/s]"
     ]
    },
    {
     "name": "stdout",
     "output_type": "stream",
     "text": [
      "No data for airport 13970 (code status: 400)\n"
     ]
    },
    {
     "name": "stderr",
     "output_type": "stream",
     "text": [
      " 29%|███████████████████████▌                                                        | 107/364 [01:24<03:17,  1.30it/s]"
     ]
    },
    {
     "name": "stdout",
     "output_type": "stream",
     "text": [
      "No data for airport 11076 (code status: 400)\n"
     ]
    },
    {
     "name": "stderr",
     "output_type": "stream",
     "text": [
      "\r",
      " 30%|███████████████████████▋                                                        | 108/364 [01:25<03:19,  1.29it/s]"
     ]
    },
    {
     "name": "stdout",
     "output_type": "stream",
     "text": [
      "No data for airport 14092 (code status: 400)\n"
     ]
    },
    {
     "name": "stderr",
     "output_type": "stream",
     "text": [
      "\r",
      " 30%|███████████████████████▉                                                        | 109/364 [01:25<03:19,  1.28it/s]"
     ]
    },
    {
     "name": "stdout",
     "output_type": "stream",
     "text": [
      "No data for airport 11122 (code status: 400)\n"
     ]
    },
    {
     "name": "stderr",
     "output_type": "stream",
     "text": [
      "\r",
      " 30%|████████████████████████▏                                                       | 110/364 [01:26<03:14,  1.30it/s]"
     ]
    },
    {
     "name": "stdout",
     "output_type": "stream",
     "text": [
      "No data for airport 11288 (code status: 400)\n"
     ]
    },
    {
     "name": "stderr",
     "output_type": "stream",
     "text": [
      "\r",
      " 30%|████████████████████████▍                                                       | 111/364 [01:27<03:20,  1.26it/s]"
     ]
    },
    {
     "name": "stdout",
     "output_type": "stream",
     "text": [
      "No data for airport 11308 (code status: 400)\n"
     ]
    },
    {
     "name": "stderr",
     "output_type": "stream",
     "text": [
      "\r",
      " 31%|████████████████████████▌                                                       | 112/364 [01:28<03:20,  1.26it/s]"
     ]
    },
    {
     "name": "stdout",
     "output_type": "stream",
     "text": [
      "No data for airport 10754 (code status: 400)\n"
     ]
    },
    {
     "name": "stderr",
     "output_type": "stream",
     "text": [
      "\r",
      " 31%|████████████████████████▊                                                       | 113/364 [01:29<03:24,  1.23it/s]"
     ]
    },
    {
     "name": "stdout",
     "output_type": "stream",
     "text": [
      "No data for airport 12884 (code status: 400)\n"
     ]
    },
    {
     "name": "stderr",
     "output_type": "stream",
     "text": [
      " 32%|█████████████████████████▎                                                      | 115/364 [01:30<03:19,  1.25it/s]"
     ]
    },
    {
     "name": "stdout",
     "output_type": "stream",
     "text": [
      "No data for airport 14588 (code status: 400)\n"
     ]
    },
    {
     "name": "stderr",
     "output_type": "stream",
     "text": [
      " 32%|█████████████████████████▋                                                      | 117/364 [01:32<03:13,  1.28it/s]"
     ]
    },
    {
     "name": "stdout",
     "output_type": "stream",
     "text": [
      "No data for airport 12915 (code status: 400)\n"
     ]
    },
    {
     "name": "stderr",
     "output_type": "stream",
     "text": [
      " 33%|██████████████████████████▎                                                     | 120/364 [01:34<03:04,  1.32it/s]"
     ]
    },
    {
     "name": "stdout",
     "output_type": "stream",
     "text": [
      "No data for airport 11603 (code status: 400)\n"
     ]
    },
    {
     "name": "stderr",
     "output_type": "stream",
     "text": [
      "\r",
      " 33%|██████████████████████████▌                                                     | 121/364 [01:35<03:03,  1.32it/s]"
     ]
    },
    {
     "name": "stdout",
     "output_type": "stream",
     "text": [
      "No data for airport 14457 (code status: 400)\n"
     ]
    },
    {
     "name": "stderr",
     "output_type": "stream",
     "text": [
      "\r",
      " 34%|██████████████████████████▊                                                     | 122/364 [01:36<03:03,  1.32it/s]"
     ]
    },
    {
     "name": "stdout",
     "output_type": "stream",
     "text": [
      "No data for airport 12206 (code status: 400)\n"
     ]
    },
    {
     "name": "stderr",
     "output_type": "stream",
     "text": [
      "\r",
      " 34%|███████████████████████████                                                     | 123/364 [01:36<03:03,  1.31it/s]"
     ]
    },
    {
     "name": "stdout",
     "output_type": "stream",
     "text": [
      "No data for airport 11252 (code status: 400)\n"
     ]
    },
    {
     "name": "stderr",
     "output_type": "stream",
     "text": [
      "\r",
      " 34%|███████████████████████████▎                                                    | 124/364 [01:37<03:03,  1.31it/s]"
     ]
    },
    {
     "name": "stdout",
     "output_type": "stream",
     "text": [
      "No data for airport 11905 (code status: 400)\n"
     ]
    },
    {
     "name": "stderr",
     "output_type": "stream",
     "text": [
      " 35%|███████████████████████████▋                                                    | 126/364 [01:39<03:04,  1.29it/s]"
     ]
    },
    {
     "name": "stdout",
     "output_type": "stream",
     "text": [
      "No data for airport 14120 (code status: 400)\n"
     ]
    },
    {
     "name": "stderr",
     "output_type": "stream",
     "text": [
      "\r",
      " 35%|███████████████████████████▉                                                    | 127/364 [01:40<03:03,  1.29it/s]"
     ]
    },
    {
     "name": "stdout",
     "output_type": "stream",
     "text": [
      "No data for airport 11980 (code status: 400)\n"
     ]
    },
    {
     "name": "stderr",
     "output_type": "stream",
     "text": [
      "\r",
      " 35%|████████████████████████████▏                                                   | 128/364 [01:40<03:01,  1.30it/s]"
     ]
    },
    {
     "name": "stdout",
     "output_type": "stream",
     "text": [
      "No data for airport 14025 (code status: 400)\n"
     ]
    },
    {
     "name": "stderr",
     "output_type": "stream",
     "text": [
      "\r",
      " 35%|████████████████████████████▎                                                   | 129/364 [01:41<03:00,  1.30it/s]"
     ]
    },
    {
     "name": "stdout",
     "output_type": "stream",
     "text": [
      "No data for airport 11150 (code status: 400)\n"
     ]
    },
    {
     "name": "stderr",
     "output_type": "stream",
     "text": [
      "\r",
      " 36%|████████████████████████████▌                                                   | 130/364 [01:42<02:58,  1.31it/s]"
     ]
    },
    {
     "name": "stdout",
     "output_type": "stream",
     "text": [
      "No data for airport 14709 (code status: 400)\n"
     ]
    },
    {
     "name": "stderr",
     "output_type": "stream",
     "text": [
      "\r",
      " 36%|████████████████████████████▊                                                   | 131/364 [01:43<02:55,  1.32it/s]"
     ]
    },
    {
     "name": "stdout",
     "output_type": "stream",
     "text": [
      "No data for airport 15897 (code status: 400)\n"
     ]
    },
    {
     "name": "stderr",
     "output_type": "stream",
     "text": [
      " 37%|█████████████████████████████▏                                                  | 133/364 [01:44<02:53,  1.33it/s]"
     ]
    },
    {
     "name": "stdout",
     "output_type": "stream",
     "text": [
      "No data for airport 14006 (code status: 400)\n"
     ]
    },
    {
     "name": "stderr",
     "output_type": "stream",
     "text": [
      " 37%|█████████████████████████████▋                                                  | 135/364 [01:46<02:53,  1.32it/s]"
     ]
    },
    {
     "name": "stdout",
     "output_type": "stream",
     "text": [
      "No data for airport 12902 (code status: 400)\n"
     ]
    },
    {
     "name": "stderr",
     "output_type": "stream",
     "text": [
      "\r",
      " 37%|█████████████████████████████▉                                                  | 136/364 [01:46<02:52,  1.32it/s]"
     ]
    },
    {
     "name": "stdout",
     "output_type": "stream",
     "text": [
      "No data for airport 13061 (code status: 400)\n"
     ]
    },
    {
     "name": "stderr",
     "output_type": "stream",
     "text": [
      "\r",
      " 38%|██████████████████████████████                                                  | 137/364 [01:47<02:50,  1.33it/s]"
     ]
    },
    {
     "name": "stdout",
     "output_type": "stream",
     "text": [
      "No data for airport 12016 (code status: 400)\n"
     ]
    },
    {
     "name": "stderr",
     "output_type": "stream",
     "text": [
      "\r",
      " 38%|██████████████████████████████▎                                                 | 138/364 [01:48<02:51,  1.32it/s]"
     ]
    },
    {
     "name": "stdout",
     "output_type": "stream",
     "text": [
      "No data for airport 14794 (code status: 400)\n"
     ]
    },
    {
     "name": "stderr",
     "output_type": "stream",
     "text": [
      "\r",
      " 38%|██████████████████████████████▌                                                 | 139/364 [01:49<02:53,  1.30it/s]"
     ]
    },
    {
     "name": "stdout",
     "output_type": "stream",
     "text": [
      "No data for airport 11921 (code status: 400)\n"
     ]
    },
    {
     "name": "stderr",
     "output_type": "stream",
     "text": [
      "\r",
      " 38%|██████████████████████████████▊                                                 | 140/364 [01:49<02:53,  1.29it/s]"
     ]
    },
    {
     "name": "stdout",
     "output_type": "stream",
     "text": [
      "No data for airport 10731 (code status: 400)\n"
     ]
    },
    {
     "name": "stderr",
     "output_type": "stream",
     "text": [
      "\r",
      " 39%|██████████████████████████████▉                                                 | 141/364 [01:50<02:51,  1.30it/s]"
     ]
    },
    {
     "name": "stdout",
     "output_type": "stream",
     "text": [
      "No data for airport 14828 (code status: 400)\n"
     ]
    },
    {
     "name": "stderr",
     "output_type": "stream",
     "text": [
      " 39%|███████████████████████████████▍                                                | 143/364 [01:52<02:49,  1.30it/s]"
     ]
    },
    {
     "name": "stdout",
     "output_type": "stream",
     "text": [
      "No data for airport 12441 (code status: 400)\n"
     ]
    },
    {
     "name": "stderr",
     "output_type": "stream",
     "text": [
      "\r",
      " 40%|███████████████████████████████▋                                                | 144/364 [01:52<02:49,  1.30it/s]"
     ]
    },
    {
     "name": "stdout",
     "output_type": "stream",
     "text": [
      "No data for airport 14802 (code status: 400)\n"
     ]
    },
    {
     "name": "stderr",
     "output_type": "stream",
     "text": [
      "\r",
      " 40%|███████████████████████████████▊                                                | 145/364 [01:53<02:47,  1.31it/s]"
     ]
    },
    {
     "name": "stdout",
     "output_type": "stream",
     "text": [
      "No data for airport 13230 (code status: 400)\n"
     ]
    },
    {
     "name": "stderr",
     "output_type": "stream",
     "text": [
      "\r",
      " 40%|████████████████████████████████                                                | 146/364 [01:54<02:48,  1.29it/s]"
     ]
    },
    {
     "name": "stdout",
     "output_type": "stream",
     "text": [
      "No data for airport 10631 (code status: 400)\n"
     ]
    },
    {
     "name": "stderr",
     "output_type": "stream",
     "text": [
      " 41%|████████████████████████████████▌                                               | 148/364 [01:56<02:45,  1.30it/s]"
     ]
    },
    {
     "name": "stdout",
     "output_type": "stream",
     "text": [
      "No data for airport 10141 (code status: 400)\n"
     ]
    },
    {
     "name": "stderr",
     "output_type": "stream",
     "text": [
      " 41%|█████████████████████████████████▏                                              | 151/364 [01:58<02:45,  1.29it/s]"
     ]
    },
    {
     "name": "stdout",
     "output_type": "stream",
     "text": [
      "No data for airport 13184 (code status: 400)\n"
     ]
    },
    {
     "name": "stderr",
     "output_type": "stream",
     "text": [
      "\r",
      " 42%|█████████████████████████████████▍                                              | 152/364 [01:59<02:43,  1.29it/s]"
     ]
    },
    {
     "name": "stdout",
     "output_type": "stream",
     "text": [
      "No data for airport 10643 (code status: 400)\n"
     ]
    },
    {
     "name": "stderr",
     "output_type": "stream",
     "text": [
      "\r",
      " 42%|█████████████████████████████████▋                                              | 153/364 [01:59<02:41,  1.30it/s]"
     ]
    },
    {
     "name": "stdout",
     "output_type": "stream",
     "text": [
      "No data for airport 10333 (code status: 400)\n"
     ]
    },
    {
     "name": "stderr",
     "output_type": "stream",
     "text": [
      "\r",
      " 42%|█████████████████████████████████▊                                              | 154/364 [02:00<02:39,  1.32it/s]"
     ]
    },
    {
     "name": "stdout",
     "output_type": "stream",
     "text": [
      "No data for airport 12255 (code status: 400)\n"
     ]
    },
    {
     "name": "stderr",
     "output_type": "stream",
     "text": [
      "\r",
      " 43%|██████████████████████████████████                                              | 155/364 [02:01<02:42,  1.29it/s]"
     ]
    },
    {
     "name": "stdout",
     "output_type": "stream",
     "text": [
      "No data for airport 14487 (code status: 400)\n"
     ]
    },
    {
     "name": "stderr",
     "output_type": "stream",
     "text": [
      "\r",
      " 43%|██████████████████████████████████▎                                             | 156/364 [02:02<02:40,  1.30it/s]"
     ]
    },
    {
     "name": "stdout",
     "output_type": "stream",
     "text": [
      "No data for airport 12129 (code status: 400)\n"
     ]
    },
    {
     "name": "stderr",
     "output_type": "stream",
     "text": [
      "\r",
      " 43%|██████████████████████████████████▌                                             | 157/364 [02:03<02:41,  1.28it/s]"
     ]
    },
    {
     "name": "stdout",
     "output_type": "stream",
     "text": [
      "No data for airport 10551 (code status: 400)\n"
     ]
    },
    {
     "name": "stderr",
     "output_type": "stream",
     "text": [
      " 44%|██████████████████████████████████▉                                             | 159/364 [02:04<02:36,  1.31it/s]"
     ]
    },
    {
     "name": "stdout",
     "output_type": "stream",
     "text": [
      "No data for airport 14256 (code status: 400)\n"
     ]
    },
    {
     "name": "stderr",
     "output_type": "stream",
     "text": [
      " 44%|███████████████████████████████████▍                                            | 161/364 [02:06<02:40,  1.26it/s]"
     ]
    },
    {
     "name": "stdout",
     "output_type": "stream",
     "text": [
      "No data for airport 13377 (code status: 400)\n"
     ]
    },
    {
     "name": "stderr",
     "output_type": "stream",
     "text": [
      " 45%|███████████████████████████████████▊                                            | 163/364 [02:07<02:35,  1.29it/s]"
     ]
    },
    {
     "name": "stdout",
     "output_type": "stream",
     "text": [
      "No data for airport 10627 (code status: 400)\n"
     ]
    },
    {
     "name": "stderr",
     "output_type": "stream",
     "text": [
      "\r",
      " 45%|████████████████████████████████████                                            | 164/364 [02:08<02:36,  1.28it/s]"
     ]
    },
    {
     "name": "stdout",
     "output_type": "stream",
     "text": [
      "No data for airport 12335 (code status: 400)\n"
     ]
    },
    {
     "name": "stderr",
     "output_type": "stream",
     "text": [
      "\r",
      " 45%|████████████████████████████████████▎                                           | 165/364 [02:09<02:34,  1.28it/s]"
     ]
    },
    {
     "name": "stdout",
     "output_type": "stream",
     "text": [
      "No data for airport 14633 (code status: 400)\n"
     ]
    },
    {
     "name": "stderr",
     "output_type": "stream",
     "text": [
      "\r",
      " 46%|████████████████████████████████████▍                                           | 166/364 [02:09<02:32,  1.30it/s]"
     ]
    },
    {
     "name": "stdout",
     "output_type": "stream",
     "text": [
      "No data for airport 11274 (code status: 400)\n"
     ]
    },
    {
     "name": "stderr",
     "output_type": "stream",
     "text": [
      "\r",
      " 46%|████████████████████████████████████▋                                           | 167/364 [02:10<02:32,  1.30it/s]"
     ]
    },
    {
     "name": "stdout",
     "output_type": "stream",
     "text": [
      "No data for airport 14543 (code status: 400)\n"
     ]
    },
    {
     "name": "stderr",
     "output_type": "stream",
     "text": [
      " 46%|█████████████████████████████████████▏                                          | 169/364 [02:12<02:33,  1.27it/s]"
     ]
    },
    {
     "name": "stdout",
     "output_type": "stream",
     "text": [
      "No data for airport 10158 (code status: 400)\n"
     ]
    },
    {
     "name": "stderr",
     "output_type": "stream",
     "text": [
      "\r",
      " 47%|█████████████████████████████████████▎                                          | 170/364 [02:13<02:33,  1.27it/s]"
     ]
    },
    {
     "name": "stdout",
     "output_type": "stream",
     "text": [
      "No data for airport 12951 (code status: 400)\n"
     ]
    },
    {
     "name": "stderr",
     "output_type": "stream",
     "text": [
      "\r",
      " 47%|█████████████████████████████████████▌                                          | 171/364 [02:13<02:29,  1.29it/s]"
     ]
    },
    {
     "name": "stdout",
     "output_type": "stream",
     "text": [
      "No data for airport 14004 (code status: 400)\n"
     ]
    },
    {
     "name": "stderr",
     "output_type": "stream",
     "text": [
      "\r",
      " 47%|█████████████████████████████████████▊                                          | 172/364 [02:14<02:28,  1.30it/s]"
     ]
    },
    {
     "name": "stdout",
     "output_type": "stream",
     "text": [
      "No data for airport 12544 (code status: 400)\n"
     ]
    },
    {
     "name": "stderr",
     "output_type": "stream",
     "text": [
      "\r",
      " 48%|██████████████████████████████████████                                          | 173/364 [02:15<02:26,  1.30it/s]"
     ]
    },
    {
     "name": "stdout",
     "output_type": "stream",
     "text": [
      "No data for airport 10739 (code status: 400)\n"
     ]
    },
    {
     "name": "stderr",
     "output_type": "stream",
     "text": [
      "\r",
      " 48%|██████████████████████████████████████▏                                         | 174/364 [02:16<02:27,  1.29it/s]"
     ]
    },
    {
     "name": "stdout",
     "output_type": "stream",
     "text": [
      "No data for airport 10165 (code status: 400)\n"
     ]
    },
    {
     "name": "stderr",
     "output_type": "stream",
     "text": [
      "\r",
      " 48%|██████████████████████████████████████▍                                         | 175/364 [02:16<02:24,  1.31it/s]"
     ]
    },
    {
     "name": "stdout",
     "output_type": "stream",
     "text": [
      "No data for airport 13964 (code status: 400)\n"
     ]
    },
    {
     "name": "stderr",
     "output_type": "stream",
     "text": [
      "\r",
      " 48%|██████████████████████████████████████▋                                         | 176/364 [02:17<02:24,  1.30it/s]"
     ]
    },
    {
     "name": "stdout",
     "output_type": "stream",
     "text": [
      "No data for airport 14314 (code status: 400)\n"
     ]
    },
    {
     "name": "stderr",
     "output_type": "stream",
     "text": [
      "\r",
      " 49%|██████████████████████████████████████▉                                         | 177/364 [02:18<02:27,  1.27it/s]"
     ]
    },
    {
     "name": "stdout",
     "output_type": "stream",
     "text": [
      "No data for airport 10990 (code status: 400)\n"
     ]
    },
    {
     "name": "stderr",
     "output_type": "stream",
     "text": [
      "\r",
      " 49%|███████████████████████████████████████                                         | 178/364 [02:19<02:25,  1.28it/s]"
     ]
    },
    {
     "name": "stdout",
     "output_type": "stream",
     "text": [
      "No data for airport 14812 (code status: 400)\n"
     ]
    },
    {
     "name": "stderr",
     "output_type": "stream",
     "text": [
      " 49%|███████████████████████████████████████▌                                        | 180/364 [02:20<02:20,  1.31it/s]"
     ]
    },
    {
     "name": "stdout",
     "output_type": "stream",
     "text": [
      "No data for airport 10561 (code status: 400)\n"
     ]
    },
    {
     "name": "stderr",
     "output_type": "stream",
     "text": [
      "\r",
      " 50%|███████████████████████████████████████▊                                        | 181/364 [02:21<02:21,  1.29it/s]"
     ]
    },
    {
     "name": "stdout",
     "output_type": "stream",
     "text": [
      "No data for airport 10146 (code status: 400)\n"
     ]
    },
    {
     "name": "stderr",
     "output_type": "stream",
     "text": [
      " 50%|████████████████████████████████████████▏                                       | 183/364 [02:23<02:17,  1.31it/s]"
     ]
    },
    {
     "name": "stdout",
     "output_type": "stream",
     "text": [
      "No data for airport 15991 (code status: 400)\n"
     ]
    },
    {
     "name": "stderr",
     "output_type": "stream",
     "text": [
      " 51%|████████████████████████████████████████▋                                       | 185/364 [02:24<02:17,  1.31it/s]"
     ]
    },
    {
     "name": "stdout",
     "output_type": "stream",
     "text": [
      "No data for airport 15401 (code status: 400)\n"
     ]
    },
    {
     "name": "stderr",
     "output_type": "stream",
     "text": [
      "\r",
      " 51%|████████████████████████████████████████▉                                       | 186/364 [02:25<02:15,  1.31it/s]"
     ]
    },
    {
     "name": "stdout",
     "output_type": "stream",
     "text": [
      "No data for airport 11587 (code status: 400)\n"
     ]
    },
    {
     "name": "stderr",
     "output_type": "stream",
     "text": [
      "\r",
      " 51%|█████████████████████████████████████████                                       | 187/364 [02:26<02:14,  1.32it/s]"
     ]
    },
    {
     "name": "stdout",
     "output_type": "stream",
     "text": [
      "No data for airport 14520 (code status: 400)\n"
     ]
    },
    {
     "name": "stderr",
     "output_type": "stream",
     "text": [
      " 52%|█████████████████████████████████████████▌                                      | 189/364 [02:27<02:16,  1.28it/s]"
     ]
    },
    {
     "name": "stdout",
     "output_type": "stream",
     "text": [
      "No data for airport 10185 (code status: 400)\n"
     ]
    },
    {
     "name": "stderr",
     "output_type": "stream",
     "text": [
      " 52%|█████████████████████████████████████████▉                                      | 191/364 [02:29<02:11,  1.32it/s]"
     ]
    },
    {
     "name": "stdout",
     "output_type": "stream",
     "text": [
      "No data for airport 14534 (code status: 400)\n"
     ]
    },
    {
     "name": "stderr",
     "output_type": "stream",
     "text": [
      " 53%|██████████████████████████████████████████▋                                     | 194/364 [02:31<02:10,  1.30it/s]"
     ]
    },
    {
     "name": "stdout",
     "output_type": "stream",
     "text": [
      "No data for airport 11111 (code status: 400)\n"
     ]
    },
    {
     "name": "stderr",
     "output_type": "stream",
     "text": [
      "\r",
      " 54%|██████████████████████████████████████████▊                                     | 195/364 [02:32<02:11,  1.29it/s]"
     ]
    },
    {
     "name": "stdout",
     "output_type": "stream",
     "text": [
      "No data for airport 15024 (code status: 400)\n"
     ]
    },
    {
     "name": "stderr",
     "output_type": "stream",
     "text": [
      "\r",
      " 54%|███████████████████████████████████████████                                     | 196/364 [02:33<02:10,  1.29it/s]"
     ]
    },
    {
     "name": "stdout",
     "output_type": "stream",
     "text": [
      "No data for airport 12917 (code status: 400)\n"
     ]
    },
    {
     "name": "stderr",
     "output_type": "stream",
     "text": [
      "\r",
      " 54%|███████████████████████████████████████████▎                                    | 197/364 [02:33<02:10,  1.28it/s]"
     ]
    },
    {
     "name": "stdout",
     "output_type": "stream",
     "text": [
      "No data for airport 12124 (code status: 400)\n"
     ]
    },
    {
     "name": "stderr",
     "output_type": "stream",
     "text": [
      "\r",
      " 54%|███████████████████████████████████████████▌                                    | 198/364 [02:34<02:10,  1.27it/s]"
     ]
    },
    {
     "name": "stdout",
     "output_type": "stream",
     "text": [
      "No data for airport 12523 (code status: 400)\n"
     ]
    },
    {
     "name": "stderr",
     "output_type": "stream",
     "text": [
      " 55%|████████████████████████████████████████████▏                                   | 201/364 [02:37<02:06,  1.29it/s]"
     ]
    },
    {
     "name": "stdout",
     "output_type": "stream",
     "text": [
      "No data for airport 11630 (code status: 400)\n"
     ]
    },
    {
     "name": "stderr",
     "output_type": "stream",
     "text": [
      "\r",
      " 55%|████████████████████████████████████████████▍                                   | 202/364 [02:37<02:04,  1.30it/s]"
     ]
    },
    {
     "name": "stdout",
     "output_type": "stream",
     "text": [
      "No data for airport 10170 (code status: 400)\n"
     ]
    },
    {
     "name": "stderr",
     "output_type": "stream",
     "text": [
      "\r",
      " 56%|████████████████████████████████████████████▌                                   | 203/364 [02:38<02:02,  1.32it/s]"
     ]
    },
    {
     "name": "stdout",
     "output_type": "stream",
     "text": [
      "No data for airport 12448 (code status: 400)\n"
     ]
    },
    {
     "name": "stderr",
     "output_type": "stream",
     "text": [
      " 56%|█████████████████████████████████████████████                                   | 205/364 [02:40<01:59,  1.33it/s]"
     ]
    },
    {
     "name": "stdout",
     "output_type": "stream",
     "text": [
      "No data for airport 10918 (code status: 400)\n"
     ]
    },
    {
     "name": "stderr",
     "output_type": "stream",
     "text": [
      "\r",
      " 57%|█████████████████████████████████████████████▎                                  | 206/364 [02:40<01:59,  1.32it/s]"
     ]
    },
    {
     "name": "stdout",
     "output_type": "stream",
     "text": [
      "No data for airport 15356 (code status: 400)\n"
     ]
    },
    {
     "name": "stderr",
     "output_type": "stream",
     "text": [
      "\r",
      " 57%|█████████████████████████████████████████████▍                                  | 207/364 [02:41<01:58,  1.32it/s]"
     ]
    },
    {
     "name": "stdout",
     "output_type": "stream",
     "text": [
      "No data for airport 13344 (code status: 400)\n"
     ]
    },
    {
     "name": "stderr",
     "output_type": "stream",
     "text": [
      "\r",
      " 57%|█████████████████████████████████████████████▋                                  | 208/364 [02:42<01:58,  1.31it/s]"
     ]
    },
    {
     "name": "stdout",
     "output_type": "stream",
     "text": [
      "No data for airport 10676 (code status: 400)\n"
     ]
    },
    {
     "name": "stderr",
     "output_type": "stream",
     "text": [
      "\r",
      " 57%|█████████████████████████████████████████████▉                                  | 209/364 [02:43<01:58,  1.31it/s]"
     ]
    },
    {
     "name": "stdout",
     "output_type": "stream",
     "text": [
      "No data for airport 10926 (code status: 400)\n"
     ]
    },
    {
     "name": "stderr",
     "output_type": "stream",
     "text": [
      " 58%|██████████████████████████████████████████████▌                                 | 212/364 [02:45<01:55,  1.31it/s]"
     ]
    },
    {
     "name": "stdout",
     "output_type": "stream",
     "text": [
      "No data for airport 12156 (code status: 400)\n"
     ]
    },
    {
     "name": "stderr",
     "output_type": "stream",
     "text": [
      "\r",
      " 59%|██████████████████████████████████████████████▊                                 | 213/364 [02:46<01:54,  1.32it/s]"
     ]
    },
    {
     "name": "stdout",
     "output_type": "stream",
     "text": [
      "No data for airport 12244 (code status: 400)\n"
     ]
    },
    {
     "name": "stderr",
     "output_type": "stream",
     "text": [
      "\r",
      " 59%|███████████████████████████████████████████████                                 | 214/364 [02:46<01:54,  1.31it/s]"
     ]
    },
    {
     "name": "stdout",
     "output_type": "stream",
     "text": [
      "No data for airport 10666 (code status: 400)\n"
     ]
    },
    {
     "name": "stderr",
     "output_type": "stream",
     "text": [
      "\r",
      " 59%|███████████████████████████████████████████████▎                                | 215/364 [02:47<01:53,  1.31it/s]"
     ]
    },
    {
     "name": "stdout",
     "output_type": "stream",
     "text": [
      "No data for airport 11612 (code status: 400)\n"
     ]
    },
    {
     "name": "stderr",
     "output_type": "stream",
     "text": [
      "\r",
      " 59%|███████████████████████████████████████████████▍                                | 216/364 [02:48<01:52,  1.31it/s]"
     ]
    },
    {
     "name": "stdout",
     "output_type": "stream",
     "text": [
      "No data for airport 13476 (code status: 400)\n"
     ]
    },
    {
     "name": "stderr",
     "output_type": "stream",
     "text": [
      "\r",
      " 60%|███████████████████████████████████████████████▋                                | 217/364 [02:49<01:53,  1.30it/s]"
     ]
    },
    {
     "name": "stdout",
     "output_type": "stream",
     "text": [
      "No data for airport 13029 (code status: 400)\n"
     ]
    },
    {
     "name": "stderr",
     "output_type": "stream",
     "text": [
      " 60%|████████████████████████████████████████████████▏                               | 219/364 [02:50<01:50,  1.32it/s]"
     ]
    },
    {
     "name": "stdout",
     "output_type": "stream",
     "text": [
      "No data for airport 15411 (code status: 400)\n"
     ]
    },
    {
     "name": "stderr",
     "output_type": "stream",
     "text": [
      "\r",
      " 60%|████████████████████████████████████████████████▎                               | 220/364 [02:51<01:49,  1.31it/s]"
     ]
    },
    {
     "name": "stdout",
     "output_type": "stream",
     "text": [
      "No data for airport 14986 (code status: 400)\n"
     ]
    },
    {
     "name": "stderr",
     "output_type": "stream",
     "text": [
      "\r",
      " 61%|████████████████████████████████████████████████▌                               | 221/364 [02:52<01:49,  1.31it/s]"
     ]
    },
    {
     "name": "stdout",
     "output_type": "stream",
     "text": [
      "No data for airport 11471 (code status: 400)\n"
     ]
    },
    {
     "name": "stderr",
     "output_type": "stream",
     "text": [
      " 62%|█████████████████████████████████████████████████▏                              | 224/364 [02:54<01:51,  1.25it/s]"
     ]
    },
    {
     "name": "stdout",
     "output_type": "stream",
     "text": [
      "No data for airport 10155 (code status: 400)\n"
     ]
    },
    {
     "name": "stderr",
     "output_type": "stream",
     "text": [
      "\r",
      " 62%|█████████████████████████████████████████████████▍                              | 225/364 [02:55<01:49,  1.27it/s]"
     ]
    },
    {
     "name": "stdout",
     "output_type": "stream",
     "text": [
      "No data for airport 13486 (code status: 400)\n"
     ]
    },
    {
     "name": "stderr",
     "output_type": "stream",
     "text": [
      "\r",
      " 62%|█████████████████████████████████████████████████▋                              | 226/364 [02:56<01:48,  1.28it/s]"
     ]
    },
    {
     "name": "stdout",
     "output_type": "stream",
     "text": [
      "No data for airport 14716 (code status: 400)\n"
     ]
    },
    {
     "name": "stderr",
     "output_type": "stream",
     "text": [
      "\r",
      " 62%|█████████████████████████████████████████████████▉                              | 227/364 [02:57<01:46,  1.28it/s]"
     ]
    },
    {
     "name": "stdout",
     "output_type": "stream",
     "text": [
      "No data for airport 13296 (code status: 400)\n"
     ]
    },
    {
     "name": "stderr",
     "output_type": "stream",
     "text": [
      "\r",
      " 63%|██████████████████████████████████████████████████                              | 228/364 [02:57<01:45,  1.29it/s]"
     ]
    },
    {
     "name": "stdout",
     "output_type": "stream",
     "text": [
      "No data for airport 11283 (code status: 400)\n"
     ]
    },
    {
     "name": "stderr",
     "output_type": "stream",
     "text": [
      "\r",
      " 63%|██████████████████████████████████████████████████▎                             | 229/364 [02:58<01:42,  1.32it/s]"
     ]
    },
    {
     "name": "stdout",
     "output_type": "stream",
     "text": [
      "No data for airport 10732 (code status: 400)\n"
     ]
    },
    {
     "name": "stderr",
     "output_type": "stream",
     "text": [
      " 64%|██████████████████████████████████████████████████▉                             | 232/364 [03:00<01:39,  1.33it/s]"
     ]
    },
    {
     "name": "stdout",
     "output_type": "stream",
     "text": [
      "No data for airport 11003 (code status: 400)\n"
     ]
    },
    {
     "name": "stderr",
     "output_type": "stream",
     "text": [
      "\r",
      " 64%|███████████████████████████████████████████████████▏                            | 233/364 [03:01<01:39,  1.32it/s]"
     ]
    },
    {
     "name": "stdout",
     "output_type": "stream",
     "text": [
      "No data for airport 12094 (code status: 400)\n"
     ]
    },
    {
     "name": "stderr",
     "output_type": "stream",
     "text": [
      " 65%|███████████████████████████████████████████████████▋                            | 235/364 [03:03<01:37,  1.32it/s]"
     ]
    },
    {
     "name": "stdout",
     "output_type": "stream",
     "text": [
      "No data for airport 13158 (code status: 400)\n"
     ]
    },
    {
     "name": "stderr",
     "output_type": "stream",
     "text": [
      "\r",
      " 65%|███████████████████████████████████████████████████▊                            | 236/364 [03:03<01:36,  1.33it/s]"
     ]
    },
    {
     "name": "stdout",
     "output_type": "stream",
     "text": [
      "No data for airport 13121 (code status: 400)\n"
     ]
    },
    {
     "name": "stderr",
     "output_type": "stream",
     "text": [
      " 65%|████████████████████████████████████████████████████▎                           | 238/364 [03:05<01:34,  1.33it/s]"
     ]
    },
    {
     "name": "stdout",
     "output_type": "stream",
     "text": [
      "No data for airport 14877 (code status: 400)\n"
     ]
    },
    {
     "name": "stderr",
     "output_type": "stream",
     "text": [
      "\r",
      " 66%|████████████████████████████████████████████████████▌                           | 239/364 [03:06<01:37,  1.28it/s]"
     ]
    },
    {
     "name": "stdout",
     "output_type": "stream",
     "text": [
      "No data for airport 12217 (code status: 400)\n"
     ]
    },
    {
     "name": "stderr",
     "output_type": "stream",
     "text": [
      " 66%|████████████████████████████████████████████████████▉                           | 241/364 [03:07<01:44,  1.17it/s]"
     ]
    },
    {
     "name": "stdout",
     "output_type": "stream",
     "text": [
      "No data for airport 10372 (code status: 400)\n"
     ]
    },
    {
     "name": "stderr",
     "output_type": "stream",
     "text": [
      "\r",
      " 66%|█████████████████████████████████████████████████████▏                          | 242/364 [03:08<01:43,  1.18it/s]"
     ]
    },
    {
     "name": "stdout",
     "output_type": "stream",
     "text": [
      "No data for airport 13264 (code status: 400)\n"
     ]
    },
    {
     "name": "stderr",
     "output_type": "stream",
     "text": [
      "\r",
      " 67%|█████████████████████████████████████████████████████▍                          | 243/364 [03:09<01:43,  1.17it/s]"
     ]
    },
    {
     "name": "stdout",
     "output_type": "stream",
     "text": [
      "No data for airport 10469 (code status: 400)\n"
     ]
    },
    {
     "name": "stderr",
     "output_type": "stream",
     "text": [
      "\r",
      " 67%|█████████████████████████████████████████████████████▋                          | 244/364 [03:10<01:41,  1.19it/s]"
     ]
    },
    {
     "name": "stdout",
     "output_type": "stream",
     "text": [
      "No data for airport 11336 (code status: 400)\n"
     ]
    },
    {
     "name": "stderr",
     "output_type": "stream",
     "text": [
      " 68%|██████████████████████████████████████████████████████                          | 246/364 [03:12<01:40,  1.17it/s]"
     ]
    },
    {
     "name": "stdout",
     "output_type": "stream",
     "text": [
      "No data for airport 14112 (code status: 400)\n"
     ]
    },
    {
     "name": "stderr",
     "output_type": "stream",
     "text": [
      "\r",
      " 68%|██████████████████████████████████████████████████████▎                         | 247/364 [03:13<01:37,  1.20it/s]"
     ]
    },
    {
     "name": "stdout",
     "output_type": "stream",
     "text": [
      "No data for airport 13502 (code status: 400)\n"
     ]
    },
    {
     "name": "stderr",
     "output_type": "stream",
     "text": [
      " 68%|██████████████████████████████████████████████████████▋                         | 249/364 [03:14<01:35,  1.21it/s]"
     ]
    },
    {
     "name": "stdout",
     "output_type": "stream",
     "text": [
      "No data for airport 15027 (code status: 400)\n"
     ]
    },
    {
     "name": "stderr",
     "output_type": "stream",
     "text": [
      "\r",
      " 69%|██████████████████████████████████████████████████████▉                         | 250/364 [03:15<01:33,  1.22it/s]"
     ]
    },
    {
     "name": "stdout",
     "output_type": "stream",
     "text": [
      "No data for airport 11973 (code status: 400)\n"
     ]
    },
    {
     "name": "stderr",
     "output_type": "stream",
     "text": [
      " 69%|███████████████████████████████████████████████████████▍                        | 252/364 [03:17<01:29,  1.25it/s]"
     ]
    },
    {
     "name": "stdout",
     "output_type": "stream",
     "text": [
      "No data for airport 10361 (code status: 400)\n"
     ]
    },
    {
     "name": "stderr",
     "output_type": "stream",
     "text": [
      "\r",
      " 70%|███████████████████████████████████████████████████████▌                        | 253/364 [03:17<01:29,  1.24it/s]"
     ]
    },
    {
     "name": "stdout",
     "output_type": "stream",
     "text": [
      "No data for airport 13388 (code status: 400)\n"
     ]
    },
    {
     "name": "stderr",
     "output_type": "stream",
     "text": [
      " 70%|████████████████████████████████████████████████████████                        | 255/364 [03:19<01:26,  1.26it/s]"
     ]
    },
    {
     "name": "stdout",
     "output_type": "stream",
     "text": [
      "No data for airport 10577 (code status: 400)\n"
     ]
    },
    {
     "name": "stderr",
     "output_type": "stream",
     "text": [
      " 71%|████████████████████████████████████████████████████████▍                       | 257/364 [03:21<01:34,  1.14it/s]"
     ]
    },
    {
     "name": "stdout",
     "output_type": "stream",
     "text": [
      "No data for airport 13290 (code status: 400)\n"
     ]
    },
    {
     "name": "stderr",
     "output_type": "stream",
     "text": [
      " 71%|█████████████████████████████████████████████████████████▏                      | 260/364 [03:23<01:25,  1.22it/s]"
     ]
    },
    {
     "name": "stdout",
     "output_type": "stream",
     "text": [
      "No data for airport 11577 (code status: 400)\n"
     ]
    },
    {
     "name": "stderr",
     "output_type": "stream",
     "text": [
      "\r",
      " 72%|█████████████████████████████████████████████████████████▎                      | 261/364 [03:24<01:22,  1.25it/s]"
     ]
    },
    {
     "name": "stdout",
     "output_type": "stream",
     "text": [
      "No data for airport 11140 (code status: 400)\n"
     ]
    },
    {
     "name": "stderr",
     "output_type": "stream",
     "text": [
      " 72%|█████████████████████████████████████████████████████████▊                      | 263/364 [03:26<01:20,  1.25it/s]"
     ]
    },
    {
     "name": "stdout",
     "output_type": "stream",
     "text": [
      "No data for airport 15048 (code status: 400)\n"
     ]
    },
    {
     "name": "stderr",
     "output_type": "stream",
     "text": [
      "\r",
      " 73%|██████████████████████████████████████████████████████████                      | 264/364 [03:26<01:21,  1.23it/s]"
     ]
    },
    {
     "name": "stdout",
     "output_type": "stream",
     "text": [
      "No data for airport 14960 (code status: 400)\n"
     ]
    },
    {
     "name": "stderr",
     "output_type": "stream",
     "text": [
      "\r",
      " 73%|██████████████████████████████████████████████████████████▏                     | 265/364 [03:27<01:25,  1.16it/s]"
     ]
    },
    {
     "name": "stdout",
     "output_type": "stream",
     "text": [
      "No data for airport 15295 (code status: 400)\n"
     ]
    },
    {
     "name": "stderr",
     "output_type": "stream",
     "text": [
      "\r",
      " 73%|██████████████████████████████████████████████████████████▍                     | 266/364 [03:28<01:22,  1.19it/s]"
     ]
    },
    {
     "name": "stdout",
     "output_type": "stream",
     "text": [
      "No data for airport 11865 (code status: 400)\n"
     ]
    },
    {
     "name": "stderr",
     "output_type": "stream",
     "text": [
      " 74%|██████████████████████████████████████████████████████████▉                     | 268/364 [03:30<01:18,  1.22it/s]"
     ]
    },
    {
     "name": "stdout",
     "output_type": "stream",
     "text": [
      "No data for airport 11049 (code status: 400)\n"
     ]
    },
    {
     "name": "stderr",
     "output_type": "stream",
     "text": [
      " 74%|███████████████████████████████████████████████████████████▎                    | 270/364 [03:31<01:16,  1.23it/s]"
     ]
    },
    {
     "name": "stdout",
     "output_type": "stream",
     "text": [
      "No data for airport 11953 (code status: 400)\n"
     ]
    },
    {
     "name": "stderr",
     "output_type": "stream",
     "text": [
      "\r",
      " 74%|███████████████████████████████████████████████████████████▌                    | 271/364 [03:32<01:13,  1.26it/s]"
     ]
    },
    {
     "name": "stdout",
     "output_type": "stream",
     "text": [
      "No data for airport 12223 (code status: 400)\n"
     ]
    },
    {
     "name": "stderr",
     "output_type": "stream",
     "text": [
      "\r",
      " 75%|███████████████████████████████████████████████████████████▊                    | 272/364 [03:33<01:12,  1.26it/s]"
     ]
    },
    {
     "name": "stdout",
     "output_type": "stream",
     "text": [
      "No data for airport 14254 (code status: 400)\n"
     ]
    },
    {
     "name": "stderr",
     "output_type": "stream",
     "text": [
      "\r",
      " 75%|████████████████████████████████████████████████████████████                    | 273/364 [03:34<01:10,  1.29it/s]"
     ]
    },
    {
     "name": "stdout",
     "output_type": "stream",
     "text": [
      "No data for airport 11823 (code status: 400)\n"
     ]
    },
    {
     "name": "stderr",
     "output_type": "stream",
     "text": [
      "\r",
      " 75%|████████████████████████████████████████████████████████████▏                   | 274/364 [03:34<01:09,  1.29it/s]"
     ]
    },
    {
     "name": "stdout",
     "output_type": "stream",
     "text": [
      "No data for airport 15380 (code status: 400)\n"
     ]
    },
    {
     "name": "stderr",
     "output_type": "stream",
     "text": [
      "\r",
      " 76%|████████████████████████████████████████████████████████████▍                   | 275/364 [03:35<01:08,  1.29it/s]"
     ]
    },
    {
     "name": "stdout",
     "output_type": "stream",
     "text": [
      "No data for airport 11447 (code status: 400)\n"
     ]
    },
    {
     "name": "stderr",
     "output_type": "stream",
     "text": [
      "\r",
      " 76%|████████████████████████████████████████████████████████████▋                   | 276/364 [03:36<01:09,  1.27it/s]"
     ]
    },
    {
     "name": "stdout",
     "output_type": "stream",
     "text": [
      "No data for airport 12003 (code status: 400)\n"
     ]
    },
    {
     "name": "stderr",
     "output_type": "stream",
     "text": [
      "\r",
      " 76%|████████████████████████████████████████████████████████████▉                   | 277/364 [03:37<01:09,  1.25it/s]"
     ]
    },
    {
     "name": "stdout",
     "output_type": "stream",
     "text": [
      "No data for airport 14489 (code status: 400)\n"
     ]
    },
    {
     "name": "stderr",
     "output_type": "stream",
     "text": [
      " 77%|█████████████████████████████████████████████████████████████▌                  | 280/364 [03:39<01:10,  1.19it/s]"
     ]
    },
    {
     "name": "stdout",
     "output_type": "stream",
     "text": [
      "No data for airport 14082 (code status: 400)\n"
     ]
    },
    {
     "name": "stderr",
     "output_type": "stream",
     "text": [
      " 77%|█████████████████████████████████████████████████████████████▉                  | 282/364 [03:41<01:04,  1.26it/s]"
     ]
    },
    {
     "name": "stdout",
     "output_type": "stream",
     "text": [
      "No data for airport 14113 (code status: 400)\n"
     ]
    },
    {
     "name": "stderr",
     "output_type": "stream",
     "text": [
      "\r",
      " 78%|██████████████████████████████████████████████████████████████▏                 | 283/364 [03:42<01:03,  1.28it/s]"
     ]
    },
    {
     "name": "stdout",
     "output_type": "stream",
     "text": [
      "No data for airport 12891 (code status: 400)\n"
     ]
    },
    {
     "name": "stderr",
     "output_type": "stream",
     "text": [
      "\r",
      " 78%|██████████████████████████████████████████████████████████████▍                 | 284/364 [03:42<01:01,  1.30it/s]"
     ]
    },
    {
     "name": "stdout",
     "output_type": "stream",
     "text": [
      "No data for airport 15249 (code status: 400)\n"
     ]
    },
    {
     "name": "stderr",
     "output_type": "stream",
     "text": [
      "\r",
      " 78%|██████████████████████████████████████████████████████████████▋                 | 285/364 [03:43<01:00,  1.30it/s]"
     ]
    },
    {
     "name": "stdout",
     "output_type": "stream",
     "text": [
      "No data for airport 12819 (code status: 400)\n"
     ]
    },
    {
     "name": "stderr",
     "output_type": "stream",
     "text": [
      " 79%|███████████████████████████████████████████████████████████████                 | 287/364 [03:45<01:01,  1.26it/s]"
     ]
    },
    {
     "name": "stdout",
     "output_type": "stream",
     "text": [
      "No data for airport 12323 (code status: 400)\n"
     ]
    },
    {
     "name": "stderr",
     "output_type": "stream",
     "text": [
      " 79%|███████████████████████████████████████████████████████████████▌                | 289/364 [03:46<00:59,  1.26it/s]"
     ]
    },
    {
     "name": "stdout",
     "output_type": "stream",
     "text": [
      "No data for airport 12343 (code status: 400)\n"
     ]
    },
    {
     "name": "stderr",
     "output_type": "stream",
     "text": [
      "\r",
      " 80%|███████████████████████████████████████████████████████████████▋                | 290/364 [03:47<00:58,  1.26it/s]"
     ]
    },
    {
     "name": "stdout",
     "output_type": "stream",
     "text": [
      "No data for airport 13076 (code status: 400)\n"
     ]
    },
    {
     "name": "stderr",
     "output_type": "stream",
     "text": [
      "\r",
      " 80%|███████████████████████████████████████████████████████████████▉                | 291/364 [03:48<00:57,  1.26it/s]"
     ]
    },
    {
     "name": "stdout",
     "output_type": "stream",
     "text": [
      "No data for airport 11503 (code status: 400)\n"
     ]
    },
    {
     "name": "stderr",
     "output_type": "stream",
     "text": [
      "\r",
      " 80%|████████████████████████████████████████████████████████████████▏               | 292/364 [03:49<00:55,  1.29it/s]"
     ]
    },
    {
     "name": "stdout",
     "output_type": "stream",
     "text": [
      "No data for airport 11617 (code status: 400)\n"
     ]
    },
    {
     "name": "stderr",
     "output_type": "stream",
     "text": [
      "\r",
      " 80%|████████████████████████████████████████████████████████████████▍               | 293/364 [03:50<00:54,  1.29it/s]"
     ]
    },
    {
     "name": "stdout",
     "output_type": "stream",
     "text": [
      "No data for airport 10728 (code status: 400)\n"
     ]
    },
    {
     "name": "stderr",
     "output_type": "stream",
     "text": [
      "\r",
      " 81%|████████████████████████████████████████████████████████████████▌               | 294/364 [03:50<00:53,  1.30it/s]"
     ]
    },
    {
     "name": "stdout",
     "output_type": "stream",
     "text": [
      "No data for airport 10785 (code status: 400)\n"
     ]
    },
    {
     "name": "stderr",
     "output_type": "stream",
     "text": [
      " 82%|█████████████████████████████████████████████████████████████████▎              | 297/364 [03:53<00:50,  1.33it/s]"
     ]
    },
    {
     "name": "stdout",
     "output_type": "stream",
     "text": [
      "No data for airport 14674 (code status: 400)\n"
     ]
    },
    {
     "name": "stderr",
     "output_type": "stream",
     "text": [
      "\r",
      " 82%|█████████████████████████████████████████████████████████████████▍              | 298/364 [03:53<00:49,  1.34it/s]"
     ]
    },
    {
     "name": "stdout",
     "output_type": "stream",
     "text": [
      "No data for airport 12197 (code status: 400)\n"
     ]
    },
    {
     "name": "stderr",
     "output_type": "stream",
     "text": [
      "\r",
      " 82%|█████████████████████████████████████████████████████████████████▋              | 299/364 [03:54<00:49,  1.31it/s]"
     ]
    },
    {
     "name": "stdout",
     "output_type": "stream",
     "text": [
      "No data for airport 14696 (code status: 400)\n"
     ]
    },
    {
     "name": "stderr",
     "output_type": "stream",
     "text": [
      " 83%|██████████████████████████████████████████████████████████████████▏             | 301/364 [03:56<00:47,  1.33it/s]"
     ]
    },
    {
     "name": "stdout",
     "output_type": "stream",
     "text": [
      "No data for airport 10781 (code status: 400)\n"
     ]
    },
    {
     "name": "stderr",
     "output_type": "stream",
     "text": [
      "\r",
      " 83%|██████████████████████████████████████████████████████████████████▎             | 302/364 [03:56<00:46,  1.34it/s]"
     ]
    },
    {
     "name": "stdout",
     "output_type": "stream",
     "text": [
      "No data for airport 10849 (code status: 400)\n"
     ]
    },
    {
     "name": "stderr",
     "output_type": "stream",
     "text": [
      "\r",
      " 83%|██████████████████████████████████████████████████████████████████▌             | 303/364 [03:57<00:47,  1.29it/s]"
     ]
    },
    {
     "name": "stdout",
     "output_type": "stream",
     "text": [
      "No data for airport 14955 (code status: 400)\n"
     ]
    },
    {
     "name": "stderr",
     "output_type": "stream",
     "text": [
      "\r",
      " 84%|██████████████████████████████████████████████████████████████████▊             | 304/364 [03:58<00:46,  1.28it/s]"
     ]
    },
    {
     "name": "stdout",
     "output_type": "stream",
     "text": [
      "No data for airport 13433 (code status: 400)\n"
     ]
    },
    {
     "name": "stderr",
     "output_type": "stream",
     "text": [
      "\r",
      " 84%|███████████████████████████████████████████████████████████████████             | 305/364 [03:59<00:45,  1.29it/s]"
     ]
    },
    {
     "name": "stdout",
     "output_type": "stream",
     "text": [
      "No data for airport 15074 (code status: 400)\n"
     ]
    },
    {
     "name": "stderr",
     "output_type": "stream",
     "text": [
      "\r",
      " 84%|███████████████████████████████████████████████████████████████████▎            | 306/364 [03:59<00:44,  1.31it/s]"
     ]
    },
    {
     "name": "stdout",
     "output_type": "stream",
     "text": [
      "No data for airport 13127 (code status: 400)\n"
     ]
    },
    {
     "name": "stderr",
     "output_type": "stream",
     "text": [
      "\r",
      " 84%|███████████████████████████████████████████████████████████████████▍            | 307/364 [04:00<00:43,  1.32it/s]"
     ]
    },
    {
     "name": "stdout",
     "output_type": "stream",
     "text": [
      "No data for airport 11013 (code status: 400)\n"
     ]
    },
    {
     "name": "stderr",
     "output_type": "stream",
     "text": [
      " 85%|███████████████████████████████████████████████████████████████████▉            | 309/364 [04:02<00:42,  1.28it/s]"
     ]
    },
    {
     "name": "stdout",
     "output_type": "stream",
     "text": [
      "No data for airport 10154 (code status: 400)\n"
     ]
    },
    {
     "name": "stderr",
     "output_type": "stream",
     "text": [
      "\r",
      " 85%|████████████████████████████████████████████████████████████████████▏           | 310/364 [04:03<00:43,  1.26it/s]"
     ]
    },
    {
     "name": "stdout",
     "output_type": "stream",
     "text": [
      "No data for airport 10980 (code status: 400)\n"
     ]
    },
    {
     "name": "stderr",
     "output_type": "stream",
     "text": [
      "\r",
      " 85%|████████████████████████████████████████████████████████████████████▎           | 311/364 [04:03<00:42,  1.25it/s]"
     ]
    },
    {
     "name": "stdout",
     "output_type": "stream",
     "text": [
      "No data for airport 14098 (code status: 400)\n"
     ]
    },
    {
     "name": "stderr",
     "output_type": "stream",
     "text": [
      " 86%|████████████████████████████████████████████████████████████████████▊           | 313/364 [04:05<00:39,  1.29it/s]"
     ]
    },
    {
     "name": "stdout",
     "output_type": "stream",
     "text": [
      "No data for airport 14512 (code status: 400)\n"
     ]
    },
    {
     "name": "stderr",
     "output_type": "stream",
     "text": [
      "\r",
      " 86%|█████████████████████████████████████████████████████████████████████           | 314/364 [04:06<00:38,  1.29it/s]"
     ]
    },
    {
     "name": "stdout",
     "output_type": "stream",
     "text": [
      "No data for airport 12278 (code status: 400)\n"
     ]
    },
    {
     "name": "stderr",
     "output_type": "stream",
     "text": [
      " 87%|█████████████████████████████████████████████████████████████████████▉          | 318/364 [04:09<00:35,  1.31it/s]"
     ]
    },
    {
     "name": "stdout",
     "output_type": "stream",
     "text": [
      "No data for airport 13933 (code status: 400)\n"
     ]
    },
    {
     "name": "stderr",
     "output_type": "stream",
     "text": [
      " 88%|██████████████████████████████████████████████████████████████████████▎         | 320/364 [04:10<00:33,  1.33it/s]"
     ]
    },
    {
     "name": "stdout",
     "output_type": "stream",
     "text": [
      "No data for airport 11997 (code status: 400)\n"
     ]
    },
    {
     "name": "stderr",
     "output_type": "stream",
     "text": [
      "\r",
      " 88%|██████████████████████████████████████████████████████████████████████▌         | 321/364 [04:11<00:32,  1.33it/s]"
     ]
    },
    {
     "name": "stdout",
     "output_type": "stream",
     "text": [
      "No data for airport 11027 (code status: 400)\n"
     ]
    },
    {
     "name": "stderr",
     "output_type": "stream",
     "text": [
      "\r",
      " 88%|██████████████████████████████████████████████████████████████████████▊         | 322/364 [04:12<00:31,  1.32it/s]"
     ]
    },
    {
     "name": "stdout",
     "output_type": "stream",
     "text": [
      "No data for airport 15582 (code status: 400)\n"
     ]
    },
    {
     "name": "stderr",
     "output_type": "stream",
     "text": [
      "\r",
      " 89%|██████████████████████████████████████████████████████████████████████▉         | 323/364 [04:13<00:31,  1.30it/s]"
     ]
    },
    {
     "name": "stdout",
     "output_type": "stream",
     "text": [
      "No data for airport 11721 (code status: 400)\n"
     ]
    },
    {
     "name": "stderr",
     "output_type": "stream",
     "text": [
      "\r",
      " 89%|███████████████████████████████████████████████████████████████████████▏        | 324/364 [04:13<00:30,  1.32it/s]"
     ]
    },
    {
     "name": "stdout",
     "output_type": "stream",
     "text": [
      "No data for airport 12896 (code status: 400)\n"
     ]
    },
    {
     "name": "stderr",
     "output_type": "stream",
     "text": [
      "\r",
      " 89%|███████████████████████████████████████████████████████████████████████▍        | 325/364 [04:14<00:29,  1.32it/s]"
     ]
    },
    {
     "name": "stdout",
     "output_type": "stream",
     "text": [
      "No data for airport 10279 (code status: 400)\n"
     ]
    },
    {
     "name": "stderr",
     "output_type": "stream",
     "text": [
      "\r",
      " 90%|███████████████████████████████████████████████████████████████████████▋        | 326/364 [04:15<00:29,  1.30it/s]"
     ]
    },
    {
     "name": "stdout",
     "output_type": "stream",
     "text": [
      "No data for airport 11778 (code status: 400)\n"
     ]
    },
    {
     "name": "stderr",
     "output_type": "stream",
     "text": [
      "\r",
      " 90%|███████████████████████████████████████████████████████████████████████▊        | 327/364 [04:16<00:28,  1.30it/s]"
     ]
    },
    {
     "name": "stdout",
     "output_type": "stream",
     "text": [
      "No data for airport 12888 (code status: 400)\n"
     ]
    },
    {
     "name": "stderr",
     "output_type": "stream",
     "text": [
      " 90%|████████████████████████████████████████████████████████████████████████▎       | 329/364 [04:17<00:26,  1.32it/s]"
     ]
    },
    {
     "name": "stdout",
     "output_type": "stream",
     "text": [
      "No data for airport 11415 (code status: 400)\n"
     ]
    },
    {
     "name": "stderr",
     "output_type": "stream",
     "text": [
      "\r",
      " 91%|████████████████████████████████████████████████████████████████████████▌       | 330/364 [04:18<00:26,  1.29it/s]"
     ]
    },
    {
     "name": "stdout",
     "output_type": "stream",
     "text": [
      "No data for airport 10685 (code status: 400)\n"
     ]
    },
    {
     "name": "stderr",
     "output_type": "stream",
     "text": [
      "\r",
      " 91%|████████████████████████████████████████████████████████████████████████▋       | 331/364 [04:19<00:25,  1.30it/s]"
     ]
    },
    {
     "name": "stdout",
     "output_type": "stream",
     "text": [
      "No data for airport 14842 (code status: 400)\n"
     ]
    },
    {
     "name": "stderr",
     "output_type": "stream",
     "text": [
      " 92%|█████████████████████████████████████████████████████████████████████████▍      | 334/364 [04:21<00:22,  1.31it/s]"
     ]
    },
    {
     "name": "stdout",
     "output_type": "stream",
     "text": [
      "No data for airport 12265 (code status: 400)\n"
     ]
    },
    {
     "name": "stderr",
     "output_type": "stream",
     "text": [
      "\r",
      " 92%|█████████████████████████████████████████████████████████████████████████▋      | 335/364 [04:22<00:21,  1.32it/s]"
     ]
    },
    {
     "name": "stdout",
     "output_type": "stream",
     "text": [
      "No data for airport 14288 (code status: 400)\n"
     ]
    },
    {
     "name": "stderr",
     "output_type": "stream",
     "text": [
      " 93%|██████████████████████████████████████████████████████████████████████████      | 337/364 [04:23<00:20,  1.34it/s]"
     ]
    },
    {
     "name": "stdout",
     "output_type": "stream",
     "text": [
      "No data for airport 12397 (code status: 400)\n"
     ]
    },
    {
     "name": "stderr",
     "output_type": "stream",
     "text": [
      "\r",
      " 93%|██████████████████████████████████████████████████████████████████████████▎     | 338/364 [04:24<00:19,  1.31it/s]"
     ]
    },
    {
     "name": "stdout",
     "output_type": "stream",
     "text": [
      "No data for airport 15624 (code status: 400)\n"
     ]
    },
    {
     "name": "stderr",
     "output_type": "stream",
     "text": [
      " 93%|██████████████████████████████████████████████████████████████████████████▋     | 340/364 [04:25<00:18,  1.30it/s]"
     ]
    },
    {
     "name": "stdout",
     "output_type": "stream",
     "text": [
      "No data for airport 10409 (code status: 400)\n"
     ]
    },
    {
     "name": "stderr",
     "output_type": "stream",
     "text": [
      "\r",
      " 94%|██████████████████████████████████████████████████████████████████████████▉     | 341/364 [04:26<00:17,  1.31it/s]"
     ]
    },
    {
     "name": "stdout",
     "output_type": "stream",
     "text": [
      "No data for airport 12519 (code status: 400)\n"
     ]
    },
    {
     "name": "stderr",
     "output_type": "stream",
     "text": [
      "\r",
      " 94%|███████████████████████████████████████████████████████████████████████████▏    | 342/364 [04:27<00:16,  1.31it/s]"
     ]
    },
    {
     "name": "stdout",
     "output_type": "stream",
     "text": [
      "No data for airport 10136 (code status: 400)\n"
     ]
    },
    {
     "name": "stderr",
     "output_type": "stream",
     "text": [
      "\r",
      " 94%|███████████████████████████████████████████████████████████████████████████▍    | 343/364 [04:28<00:16,  1.30it/s]"
     ]
    },
    {
     "name": "stdout",
     "output_type": "stream",
     "text": [
      "No data for airport 15607 (code status: 400)\n"
     ]
    },
    {
     "name": "stderr",
     "output_type": "stream",
     "text": [
      "\r",
      " 95%|███████████████████████████████████████████████████████████████████████████▌    | 344/364 [04:29<00:15,  1.30it/s]"
     ]
    },
    {
     "name": "stdout",
     "output_type": "stream",
     "text": [
      "No data for airport 14237 (code status: 400)\n"
     ]
    },
    {
     "name": "stderr",
     "output_type": "stream",
     "text": [
      "\r",
      " 95%|███████████████████████████████████████████████████████████████████████████▊    | 345/364 [04:29<00:14,  1.30it/s]"
     ]
    },
    {
     "name": "stdout",
     "output_type": "stream",
     "text": [
      "No data for airport 10779 (code status: 400)\n"
     ]
    },
    {
     "name": "stderr",
     "output_type": "stream",
     "text": [
      "\r",
      " 95%|████████████████████████████████████████████████████████████████████████████    | 346/364 [04:30<00:13,  1.29it/s]"
     ]
    },
    {
     "name": "stdout",
     "output_type": "stream",
     "text": [
      "No data for airport 11898 (code status: 400)\n"
     ]
    },
    {
     "name": "stderr",
     "output_type": "stream",
     "text": [
      "\r",
      " 95%|████████████████████████████████████████████████████████████████████████████▎   | 347/364 [04:31<00:13,  1.29it/s]"
     ]
    },
    {
     "name": "stdout",
     "output_type": "stream",
     "text": [
      "No data for airport 11413 (code status: 400)\n"
     ]
    },
    {
     "name": "stderr",
     "output_type": "stream",
     "text": [
      "\r",
      " 96%|████████████████████████████████████████████████████████████████████████████▍   | 348/364 [04:32<00:12,  1.31it/s]"
     ]
    },
    {
     "name": "stdout",
     "output_type": "stream",
     "text": [
      "No data for airport 13983 (code status: 400)\n"
     ]
    },
    {
     "name": "stderr",
     "output_type": "stream",
     "text": [
      "\r",
      " 96%|████████████████████████████████████████████████████████████████████████████▋   | 349/364 [04:32<00:11,  1.32it/s]"
     ]
    },
    {
     "name": "stdout",
     "output_type": "stream",
     "text": [
      "No data for airport 10558 (code status: 400)\n"
     ]
    },
    {
     "name": "stderr",
     "output_type": "stream",
     "text": [
      "\r",
      " 96%|████████████████████████████████████████████████████████████████████████████▉   | 350/364 [04:33<00:10,  1.27it/s]"
     ]
    },
    {
     "name": "stdout",
     "output_type": "stream",
     "text": [
      "No data for airport 10620 (code status: 400)\n"
     ]
    },
    {
     "name": "stderr",
     "output_type": "stream",
     "text": [
      "\r",
      " 96%|█████████████████████████████████████████████████████████████████████████████▏  | 351/364 [04:34<00:10,  1.26it/s]"
     ]
    },
    {
     "name": "stdout",
     "output_type": "stream",
     "text": [
      "No data for airport 14222 (code status: 400)\n"
     ]
    },
    {
     "name": "stderr",
     "output_type": "stream",
     "text": [
      " 97%|█████████████████████████████████████████████████████████████████████████████▊  | 354/364 [04:36<00:07,  1.26it/s]"
     ]
    },
    {
     "name": "stdout",
     "output_type": "stream",
     "text": [
      "No data for airport 11097 (code status: 400)\n"
     ]
    },
    {
     "name": "stderr",
     "output_type": "stream",
     "text": [
      "\r",
      " 98%|██████████████████████████████████████████████████████████████████████████████  | 355/364 [04:37<00:07,  1.25it/s]"
     ]
    },
    {
     "name": "stdout",
     "output_type": "stream",
     "text": [
      "No data for airport 15454 (code status: 400)\n"
     ]
    },
    {
     "name": "stderr",
     "output_type": "stream",
     "text": [
      " 98%|██████████████████████████████████████████████████████████████████████████████▍ | 357/364 [04:39<00:05,  1.29it/s]"
     ]
    },
    {
     "name": "stdout",
     "output_type": "stream",
     "text": [
      "No data for airport 12899 (code status: 400)\n"
     ]
    },
    {
     "name": "stderr",
     "output_type": "stream",
     "text": [
      "\r",
      " 98%|██████████████████████████████████████████████████████████████████████████████▋ | 358/364 [04:39<00:04,  1.29it/s]"
     ]
    },
    {
     "name": "stdout",
     "output_type": "stream",
     "text": [
      "No data for airport 10135 (code status: 400)\n"
     ]
    },
    {
     "name": "stderr",
     "output_type": "stream",
     "text": [
      "\r",
      " 99%|██████████████████████████████████████████████████████████████████████████████▉ | 359/364 [04:40<00:03,  1.30it/s]"
     ]
    },
    {
     "name": "stdout",
     "output_type": "stream",
     "text": [
      "No data for airport 12177 (code status: 400)\n"
     ]
    },
    {
     "name": "stderr",
     "output_type": "stream",
     "text": [
      " 99%|███████████████████████████████████████████████████████████████████████████████▎| 361/364 [04:42<00:02,  1.28it/s]"
     ]
    },
    {
     "name": "stdout",
     "output_type": "stream",
     "text": [
      "No data for airport 13795 (code status: 400)\n"
     ]
    },
    {
     "name": "stderr",
     "output_type": "stream",
     "text": [
      "100%|███████████████████████████████████████████████████████████████████████████████▊| 363/364 [04:43<00:00,  1.28it/s]"
     ]
    },
    {
     "name": "stdout",
     "output_type": "stream",
     "text": [
      "No data for airport 12945 (code status: 400)\n"
     ]
    },
    {
     "name": "stderr",
     "output_type": "stream",
     "text": [
      "100%|████████████████████████████████████████████████████████████████████████████████| 364/364 [04:44<00:00,  1.28it/s]"
     ]
    },
    {
     "name": "stdout",
     "output_type": "stream",
     "text": [
      "No data for airport 12511 (code status: 400)\n"
     ]
    },
    {
     "name": "stderr",
     "output_type": "stream",
     "text": [
      "\n"
     ]
    }
   ],
   "source": [
    "airports = []\n",
    "\n",
    "for airport in tqdm(airport_id_list):\n",
    "    response_airport = requests.get(f'{API_URL}/airport/{airport}', headers={'Authorization': APIKEY})\n",
    "    \n",
    "    if response_airport.status_code == 200:    \n",
    "        airports.append(response_airport.json())\n",
    "    elif response_airport.status_code == 400:\n",
    "        print(f'No data for airport {airport} (code status: 400)')\n",
    "    else:\n",
    "        print(f'Error retrieving airport data {airport} (code status: {response_airport.status_code})')"
   ]
  },
  {
   "cell_type": "code",
   "execution_count": 11,
   "metadata": {},
   "outputs": [
    {
     "data": {
      "text/plain": [
       "97"
      ]
     },
     "execution_count": 11,
     "metadata": {},
     "output_type": "execute_result"
    }
   ],
   "source": [
    "len(airports)"
   ]
  },
  {
   "cell_type": "markdown",
   "metadata": {},
   "source": [
    "The output contains data for 97 airports out of 364. It is a list of dictionaries so **from.records()** function is used to create a Dataframe."
   ]
  },
  {
   "cell_type": "code",
   "execution_count": 9,
   "metadata": {},
   "outputs": [],
   "source": [
    "airport_df = pd.DataFrame.from_records(airports)"
   ]
  },
  {
   "cell_type": "code",
   "execution_count": 10,
   "metadata": {},
   "outputs": [
    {
     "data": {
      "text/html": [
       "<div>\n",
       "<style scoped>\n",
       "    .dataframe tbody tr th:only-of-type {\n",
       "        vertical-align: middle;\n",
       "    }\n",
       "\n",
       "    .dataframe tbody tr th {\n",
       "        vertical-align: top;\n",
       "    }\n",
       "\n",
       "    .dataframe thead th {\n",
       "        text-align: right;\n",
       "    }\n",
       "</style>\n",
       "<table border=\"1\" class=\"dataframe\">\n",
       "  <thead>\n",
       "    <tr style=\"text-align: right;\">\n",
       "      <th></th>\n",
       "      <th>ORIGIN_AIRPORT_ID</th>\n",
       "      <th>DISPLAY_AIRPORT_NAME</th>\n",
       "      <th>ORIGIN_CITY_NAME</th>\n",
       "      <th>NAME</th>\n",
       "    </tr>\n",
       "  </thead>\n",
       "  <tbody>\n",
       "    <tr>\n",
       "      <th>0</th>\n",
       "      <td>11638</td>\n",
       "      <td>Fresno Air Terminal</td>\n",
       "      <td>Fresno, CA</td>\n",
       "      <td>FRESNO YOSEMITE INTERNATIONAL, CA US</td>\n",
       "    </tr>\n",
       "    <tr>\n",
       "      <th>1</th>\n",
       "      <td>13342</td>\n",
       "      <td>General Mitchell Field</td>\n",
       "      <td>Milwaukee, WI</td>\n",
       "      <td>MILWAUKEE MITCHELL AIRPORT, WI US</td>\n",
       "    </tr>\n",
       "    <tr>\n",
       "      <th>2</th>\n",
       "      <td>13244</td>\n",
       "      <td>Memphis International</td>\n",
       "      <td>Memphis, TN</td>\n",
       "      <td>MEMPHIS INTERNATIONAL AIRPORT, TN US</td>\n",
       "    </tr>\n",
       "    <tr>\n",
       "      <th>3</th>\n",
       "      <td>15096</td>\n",
       "      <td>Syracuse Hancock International</td>\n",
       "      <td>Syracuse, NY</td>\n",
       "      <td>SYRACUSE HANCOCK INTERNATIONAL AIRPORT, NY US</td>\n",
       "    </tr>\n",
       "    <tr>\n",
       "      <th>4</th>\n",
       "      <td>10397</td>\n",
       "      <td>Atlanta Municipal</td>\n",
       "      <td>Atlanta, GA</td>\n",
       "      <td>ATLANTA HARTSFIELD JACKSON INTERNATIONAL AIRPO...</td>\n",
       "    </tr>\n",
       "  </tbody>\n",
       "</table>\n",
       "</div>"
      ],
      "text/plain": [
       "   ORIGIN_AIRPORT_ID            DISPLAY_AIRPORT_NAME ORIGIN_CITY_NAME  \\\n",
       "0              11638             Fresno Air Terminal       Fresno, CA   \n",
       "1              13342          General Mitchell Field    Milwaukee, WI   \n",
       "2              13244           Memphis International      Memphis, TN   \n",
       "3              15096  Syracuse Hancock International     Syracuse, NY   \n",
       "4              10397               Atlanta Municipal      Atlanta, GA   \n",
       "\n",
       "                                                NAME  \n",
       "0               FRESNO YOSEMITE INTERNATIONAL, CA US  \n",
       "1                  MILWAUKEE MITCHELL AIRPORT, WI US  \n",
       "2               MEMPHIS INTERNATIONAL AIRPORT, TN US  \n",
       "3      SYRACUSE HANCOCK INTERNATIONAL AIRPORT, NY US  \n",
       "4  ATLANTA HARTSFIELD JACKSON INTERNATIONAL AIRPO...  "
      ]
     },
     "execution_count": 10,
     "metadata": {},
     "output_type": "execute_result"
    }
   ],
   "source": [
    "airport_df.head()"
   ]
  },
  {
   "cell_type": "code",
   "execution_count": 12,
   "metadata": {},
   "outputs": [],
   "source": [
    "#airport_df.to_csv(r'..\\data\\raw\\airport_list.csv', index = False)"
   ]
  },
  {
   "cell_type": "markdown",
   "metadata": {},
   "source": [
    " # Collect data from `Weather` endpoint"
   ]
  },
  {
   "cell_type": "code",
   "execution_count": 13,
   "metadata": {},
   "outputs": [
    {
     "name": "stderr",
     "output_type": "stream",
     "text": [
      "100%|██████████████████████████████████████████████████████████████████████████████████| 15/15 [00:26<00:00,  1.76s/it]\n"
     ]
    }
   ],
   "source": [
    "months = ['2019-01', '2019-02', '2019-03', '2019-04', '2019-05', \n",
    "          '2019-06', '2019-07', '2019-08', '2019-09', '2019-10', \n",
    "          '2019-11', '2019-12', '2020-01', '2020-02', '2020-03']\n",
    "\n",
    "dates=[]\n",
    "for month in tqdm(months):\n",
    "    response_dates = requests.get(f'{API_URL}/airportWeather?date={month}', headers={'Authorization': APIKEY})\n",
    "    if response_dates.status_code == 200:    \n",
    "        dates.append(response_dates.json())\n",
    "    else:\n",
    "        print(f'Error retrieving weather data {month} (code status: {response_airport.status_code})')"
   ]
  },
  {
   "cell_type": "markdown",
   "metadata": {},
   "source": [
    "The output is a list of lists of dictionaries and needs to be flatten in order to create a Dataframe."
   ]
  },
  {
   "cell_type": "code",
   "execution_count": 15,
   "metadata": {},
   "outputs": [],
   "source": [
    "def flatten_data(API_content):\n",
    "    flat_list = []\n",
    "    for q in API_content:\n",
    "        flat_list.extend(q)\n",
    "    return flat_list"
   ]
  },
  {
   "cell_type": "code",
   "execution_count": 16,
   "metadata": {},
   "outputs": [],
   "source": [
    "weather = flatten_data(dates)"
   ]
  },
  {
   "cell_type": "code",
   "execution_count": 19,
   "metadata": {},
   "outputs": [
    {
     "data": {
      "text/html": [
       "<div>\n",
       "<style scoped>\n",
       "    .dataframe tbody tr th:only-of-type {\n",
       "        vertical-align: middle;\n",
       "    }\n",
       "\n",
       "    .dataframe tbody tr th {\n",
       "        vertical-align: top;\n",
       "    }\n",
       "\n",
       "    .dataframe thead th {\n",
       "        text-align: right;\n",
       "    }\n",
       "</style>\n",
       "<table border=\"1\" class=\"dataframe\">\n",
       "  <thead>\n",
       "    <tr style=\"text-align: right;\">\n",
       "      <th></th>\n",
       "      <th>WT18</th>\n",
       "      <th>STATION</th>\n",
       "      <th>NAME</th>\n",
       "      <th>DATE</th>\n",
       "      <th>AWND</th>\n",
       "      <th>PRCP</th>\n",
       "      <th>SNOW</th>\n",
       "      <th>SNWD</th>\n",
       "      <th>TAVG</th>\n",
       "      <th>TMAX</th>\n",
       "      <th>...</th>\n",
       "      <th>PGTM</th>\n",
       "      <th>WT10</th>\n",
       "      <th>WESD</th>\n",
       "      <th>SN32</th>\n",
       "      <th>SX32</th>\n",
       "      <th>PSUN</th>\n",
       "      <th>TSUN</th>\n",
       "      <th>TOBS</th>\n",
       "      <th>WT07</th>\n",
       "      <th>WT11</th>\n",
       "    </tr>\n",
       "  </thead>\n",
       "  <tbody>\n",
       "    <tr>\n",
       "      <th>0</th>\n",
       "      <td>None</td>\n",
       "      <td>USW00013874</td>\n",
       "      <td>ATLANTA HARTSFIELD JACKSON INTERNATIONAL AIRPO...</td>\n",
       "      <td>2019-01-01</td>\n",
       "      <td>4.70</td>\n",
       "      <td>0.14</td>\n",
       "      <td>0.0</td>\n",
       "      <td>0.0</td>\n",
       "      <td>64.0</td>\n",
       "      <td>66.0</td>\n",
       "      <td>...</td>\n",
       "      <td>NaN</td>\n",
       "      <td>NaN</td>\n",
       "      <td>NaN</td>\n",
       "      <td>NaN</td>\n",
       "      <td>NaN</td>\n",
       "      <td>NaN</td>\n",
       "      <td>NaN</td>\n",
       "      <td>NaN</td>\n",
       "      <td>NaN</td>\n",
       "      <td>NaN</td>\n",
       "    </tr>\n",
       "    <tr>\n",
       "      <th>1</th>\n",
       "      <td>None</td>\n",
       "      <td>USW00013874</td>\n",
       "      <td>ATLANTA HARTSFIELD JACKSON INTERNATIONAL AIRPO...</td>\n",
       "      <td>2019-01-02</td>\n",
       "      <td>4.92</td>\n",
       "      <td>0.57</td>\n",
       "      <td>0.0</td>\n",
       "      <td>0.0</td>\n",
       "      <td>56.0</td>\n",
       "      <td>59.0</td>\n",
       "      <td>...</td>\n",
       "      <td>NaN</td>\n",
       "      <td>NaN</td>\n",
       "      <td>NaN</td>\n",
       "      <td>NaN</td>\n",
       "      <td>NaN</td>\n",
       "      <td>NaN</td>\n",
       "      <td>NaN</td>\n",
       "      <td>NaN</td>\n",
       "      <td>NaN</td>\n",
       "      <td>NaN</td>\n",
       "    </tr>\n",
       "    <tr>\n",
       "      <th>2</th>\n",
       "      <td>None</td>\n",
       "      <td>USW00013874</td>\n",
       "      <td>ATLANTA HARTSFIELD JACKSON INTERNATIONAL AIRPO...</td>\n",
       "      <td>2019-01-03</td>\n",
       "      <td>5.37</td>\n",
       "      <td>0.15</td>\n",
       "      <td>0.0</td>\n",
       "      <td>0.0</td>\n",
       "      <td>52.0</td>\n",
       "      <td>55.0</td>\n",
       "      <td>...</td>\n",
       "      <td>NaN</td>\n",
       "      <td>NaN</td>\n",
       "      <td>NaN</td>\n",
       "      <td>NaN</td>\n",
       "      <td>NaN</td>\n",
       "      <td>NaN</td>\n",
       "      <td>NaN</td>\n",
       "      <td>NaN</td>\n",
       "      <td>NaN</td>\n",
       "      <td>NaN</td>\n",
       "    </tr>\n",
       "    <tr>\n",
       "      <th>3</th>\n",
       "      <td>None</td>\n",
       "      <td>USW00013874</td>\n",
       "      <td>ATLANTA HARTSFIELD JACKSON INTERNATIONAL AIRPO...</td>\n",
       "      <td>2019-01-04</td>\n",
       "      <td>12.08</td>\n",
       "      <td>1.44</td>\n",
       "      <td>0.0</td>\n",
       "      <td>0.0</td>\n",
       "      <td>56.0</td>\n",
       "      <td>66.0</td>\n",
       "      <td>...</td>\n",
       "      <td>NaN</td>\n",
       "      <td>NaN</td>\n",
       "      <td>NaN</td>\n",
       "      <td>NaN</td>\n",
       "      <td>NaN</td>\n",
       "      <td>NaN</td>\n",
       "      <td>NaN</td>\n",
       "      <td>NaN</td>\n",
       "      <td>NaN</td>\n",
       "      <td>NaN</td>\n",
       "    </tr>\n",
       "    <tr>\n",
       "      <th>4</th>\n",
       "      <td>None</td>\n",
       "      <td>USW00013874</td>\n",
       "      <td>ATLANTA HARTSFIELD JACKSON INTERNATIONAL AIRPO...</td>\n",
       "      <td>2019-01-05</td>\n",
       "      <td>13.42</td>\n",
       "      <td>0.00</td>\n",
       "      <td>0.0</td>\n",
       "      <td>0.0</td>\n",
       "      <td>49.0</td>\n",
       "      <td>59.0</td>\n",
       "      <td>...</td>\n",
       "      <td>NaN</td>\n",
       "      <td>NaN</td>\n",
       "      <td>NaN</td>\n",
       "      <td>NaN</td>\n",
       "      <td>NaN</td>\n",
       "      <td>NaN</td>\n",
       "      <td>NaN</td>\n",
       "      <td>NaN</td>\n",
       "      <td>NaN</td>\n",
       "      <td>NaN</td>\n",
       "    </tr>\n",
       "  </tbody>\n",
       "</table>\n",
       "<p>5 rows × 33 columns</p>\n",
       "</div>"
      ],
      "text/plain": [
       "   WT18      STATION                                               NAME  \\\n",
       "0  None  USW00013874  ATLANTA HARTSFIELD JACKSON INTERNATIONAL AIRPO...   \n",
       "1  None  USW00013874  ATLANTA HARTSFIELD JACKSON INTERNATIONAL AIRPO...   \n",
       "2  None  USW00013874  ATLANTA HARTSFIELD JACKSON INTERNATIONAL AIRPO...   \n",
       "3  None  USW00013874  ATLANTA HARTSFIELD JACKSON INTERNATIONAL AIRPO...   \n",
       "4  None  USW00013874  ATLANTA HARTSFIELD JACKSON INTERNATIONAL AIRPO...   \n",
       "\n",
       "         DATE   AWND  PRCP  SNOW  SNWD  TAVG  TMAX  ...  PGTM  WT10  WESD  \\\n",
       "0  2019-01-01   4.70  0.14   0.0   0.0  64.0  66.0  ...   NaN   NaN   NaN   \n",
       "1  2019-01-02   4.92  0.57   0.0   0.0  56.0  59.0  ...   NaN   NaN   NaN   \n",
       "2  2019-01-03   5.37  0.15   0.0   0.0  52.0  55.0  ...   NaN   NaN   NaN   \n",
       "3  2019-01-04  12.08  1.44   0.0   0.0  56.0  66.0  ...   NaN   NaN   NaN   \n",
       "4  2019-01-05  13.42  0.00   0.0   0.0  49.0  59.0  ...   NaN   NaN   NaN   \n",
       "\n",
       "   SN32  SX32  PSUN  TSUN  TOBS  WT07  WT11  \n",
       "0   NaN   NaN   NaN   NaN   NaN   NaN   NaN  \n",
       "1   NaN   NaN   NaN   NaN   NaN   NaN   NaN  \n",
       "2   NaN   NaN   NaN   NaN   NaN   NaN   NaN  \n",
       "3   NaN   NaN   NaN   NaN   NaN   NaN   NaN  \n",
       "4   NaN   NaN   NaN   NaN   NaN   NaN   NaN  \n",
       "\n",
       "[5 rows x 33 columns]"
      ]
     },
     "execution_count": 19,
     "metadata": {},
     "output_type": "execute_result"
    }
   ],
   "source": [
    "weather_df = pd.DataFrame.from_records(weather)\n",
    "weather_df.head()"
   ]
  },
  {
   "cell_type": "code",
   "execution_count": 18,
   "metadata": {},
   "outputs": [],
   "source": [
    "#weather_df.to_csv(r'..\\data\\raw\\airport_weather.csv', index = False)"
   ]
  },
  {
   "cell_type": "markdown",
   "metadata": {},
   "source": [
    " # Collect data from `Aircraft` endpoint"
   ]
  },
  {
   "cell_type": "code",
   "execution_count": 21,
   "metadata": {
    "collapsed": true
   },
   "outputs": [
    {
     "data": {
      "text/plain": [
       "[{'MANUFACTURE_YEAR': 1944, 'TAIL_NUM': 'N54514', 'NUMBER_OF_SEATS': 0},\n",
       " {'MANUFACTURE_YEAR': 1945, 'TAIL_NUM': 'N1651M', 'NUMBER_OF_SEATS': 0},\n",
       " {'MANUFACTURE_YEAR': 1953, 'TAIL_NUM': 'N100CE', 'NUMBER_OF_SEATS': 0},\n",
       " {'MANUFACTURE_YEAR': 1953, 'TAIL_NUM': 'N141FL', 'NUMBER_OF_SEATS': 0},\n",
       " {'MANUFACTURE_YEAR': 1953, 'TAIL_NUM': 'N151FL', 'NUMBER_OF_SEATS': 0},\n",
       " {'MANUFACTURE_YEAR': 1953, 'TAIL_NUM': 'N381FL', 'NUMBER_OF_SEATS': 0},\n",
       " {'MANUFACTURE_YEAR': 1954, 'TAIL_NUM': 'N6174C', 'NUMBER_OF_SEATS': 0},\n",
       " {'MANUFACTURE_YEAR': 1954, 'TAIL_NUM': 'N400UA', 'NUMBER_OF_SEATS': 0},\n",
       " {'MANUFACTURE_YEAR': 1955, 'TAIL_NUM': 'N747CE', 'NUMBER_OF_SEATS': 2},\n",
       " {'MANUFACTURE_YEAR': 1955, 'TAIL_NUM': 'N9148F', 'NUMBER_OF_SEATS': 0},\n",
       " {'MANUFACTURE_YEAR': 1955, 'TAIL_NUM': 'N131FL', 'NUMBER_OF_SEATS': 0},\n",
       " {'MANUFACTURE_YEAR': 1955, 'TAIL_NUM': 'N351FL', 'NUMBER_OF_SEATS': 0},\n",
       " {'MANUFACTURE_YEAR': 1955, 'TAIL_NUM': 'N391FL', 'NUMBER_OF_SEATS': 0},\n",
       " {'MANUFACTURE_YEAR': 1956, 'TAIL_NUM': 'N171FL', 'NUMBER_OF_SEATS': 0},\n",
       " {'MANUFACTURE_YEAR': 1956, 'TAIL_NUM': 'N181FL', 'NUMBER_OF_SEATS': 0},\n",
       " {'MANUFACTURE_YEAR': 1956, 'TAIL_NUM': 'N191FL', 'NUMBER_OF_SEATS': 0},\n",
       " {'MANUFACTURE_YEAR': 1956, 'TAIL_NUM': 'N361FL', 'NUMBER_OF_SEATS': 0},\n",
       " {'MANUFACTURE_YEAR': 1956, 'TAIL_NUM': 'N371FL', 'NUMBER_OF_SEATS': 0},\n",
       " {'MANUFACTURE_YEAR': 1957, 'TAIL_NUM': 'N551CE', 'NUMBER_OF_SEATS': 0},\n",
       " {'MANUFACTURE_YEAR': 1957, 'TAIL_NUM': 'N555SQ', 'NUMBER_OF_SEATS': 0},\n",
       " {'MANUFACTURE_YEAR': 1957, 'TAIL_NUM': 'N751CE', 'NUMBER_OF_SEATS': 0},\n",
       " {'MANUFACTURE_YEAR': 1958, 'TAIL_NUM': 'N151', 'NUMBER_OF_SEATS': 0},\n",
       " {'MANUFACTURE_YEAR': 1958, 'TAIL_NUM': 'N9056R', 'NUMBER_OF_SEATS': 0},\n",
       " {'MANUFACTURE_YEAR': 1958, 'TAIL_NUM': 'N851CE', 'NUMBER_OF_SEATS': 0},\n",
       " {'MANUFACTURE_YEAR': 1958, 'TAIL_NUM': 'N991FL', 'NUMBER_OF_SEATS': 0},\n",
       " {'MANUFACTURE_YEAR': 1966, 'TAIL_NUM': 'N783TW', 'NUMBER_OF_SEATS': 0},\n",
       " {'MANUFACTURE_YEAR': 1967, 'TAIL_NUM': 'N904CE', 'NUMBER_OF_SEATS': 0},\n",
       " {'MANUFACTURE_YEAR': 1967, 'TAIL_NUM': 'N784TW', 'NUMBER_OF_SEATS': 0},\n",
       " {'MANUFACTURE_YEAR': 1967, 'TAIL_NUM': 'N785TW', 'NUMBER_OF_SEATS': 0},\n",
       " {'MANUFACTURE_YEAR': 1967, 'TAIL_NUM': 'N782TW', 'NUMBER_OF_SEATS': 0},\n",
       " {'MANUFACTURE_YEAR': 1967, 'TAIL_NUM': 'N915CK', 'NUMBER_OF_SEATS': 0},\n",
       " {'MANUFACTURE_YEAR': 1967, 'TAIL_NUM': 'N917CK', 'NUMBER_OF_SEATS': 0},\n",
       " {'MANUFACTURE_YEAR': 1967, 'TAIL_NUM': 'N192US', 'NUMBER_OF_SEATS': 0},\n",
       " {'MANUFACTURE_YEAR': 1967, 'TAIL_NUM': 'N195US', 'NUMBER_OF_SEATS': 0},\n",
       " {'MANUFACTURE_YEAR': 1967, 'TAIL_NUM': 'N196US', 'NUMBER_OF_SEATS': 0},\n",
       " {'MANUFACTURE_YEAR': 1968, 'TAIL_NUM': 'N916CK', 'NUMBER_OF_SEATS': 0},\n",
       " {'MANUFACTURE_YEAR': 1968, 'TAIL_NUM': 'N811AA', 'NUMBER_OF_SEATS': 0},\n",
       " {'MANUFACTURE_YEAR': 1968, 'TAIL_NUM': 'N208US', 'NUMBER_OF_SEATS': 0},\n",
       " {'MANUFACTURE_YEAR': 1969, 'TAIL_NUM': 'N930CE', 'NUMBER_OF_SEATS': 0},\n",
       " {'MANUFACTURE_YEAR': 1969, 'TAIL_NUM': 'N935CE', 'NUMBER_OF_SEATS': 0},\n",
       " {'MANUFACTURE_YEAR': 1969, 'TAIL_NUM': 'N822AA', 'NUMBER_OF_SEATS': 0},\n",
       " {'MANUFACTURE_YEAR': 1969, 'TAIL_NUM': 'N327US', 'NUMBER_OF_SEATS': 0},\n",
       " {'MANUFACTURE_YEAR': 1970, 'TAIL_NUM': 'N932CE', 'NUMBER_OF_SEATS': 0},\n",
       " {'MANUFACTURE_YEAR': 1971, 'TAIL_NUM': 'N368FE', 'NUMBER_OF_SEATS': 0},\n",
       " {'MANUFACTURE_YEAR': 1971, 'TAIL_NUM': 'N724CK', 'NUMBER_OF_SEATS': 0},\n",
       " {'MANUFACTURE_YEAR': 1972, 'TAIL_NUM': 'N375FE', 'NUMBER_OF_SEATS': 0},\n",
       " {'MANUFACTURE_YEAR': 1972, 'TAIL_NUM': 'N381FE', 'NUMBER_OF_SEATS': 0},\n",
       " {'MANUFACTURE_YEAR': 1972, 'TAIL_NUM': 'N550FE', 'NUMBER_OF_SEATS': 0},\n",
       " {'MANUFACTURE_YEAR': 1972, 'TAIL_NUM': 'ZS-RSC', 'NUMBER_OF_SEATS': 0},\n",
       " {'MANUFACTURE_YEAR': 1973, 'TAIL_NUM': 'N383FE', 'NUMBER_OF_SEATS': 0},\n",
       " {'MANUFACTURE_YEAR': 1973, 'TAIL_NUM': 'N303FE', 'NUMBER_OF_SEATS': 0},\n",
       " {'MANUFACTURE_YEAR': 1974, 'TAIL_NUM': 'N326TR', 'NUMBER_OF_SEATS': 0},\n",
       " {'MANUFACTURE_YEAR': 1974, 'TAIL_NUM': 'N390FE', 'NUMBER_OF_SEATS': 0},\n",
       " {'MANUFACTURE_YEAR': 1974, 'TAIL_NUM': 'ZS-RSG', 'NUMBER_OF_SEATS': 0},\n",
       " {'MANUFACTURE_YEAR': 1974, 'TAIL_NUM': 'ZS-RSF', 'NUMBER_OF_SEATS': 0},\n",
       " {'MANUFACTURE_YEAR': 1974, 'TAIL_NUM': 'N827AA', 'NUMBER_OF_SEATS': 0},\n",
       " {'MANUFACTURE_YEAR': 1975, 'TAIL_NUM': 'N810TA', 'NUMBER_OF_SEATS': 0},\n",
       " {'MANUFACTURE_YEAR': 1975, 'TAIL_NUM': 'N394FE', 'NUMBER_OF_SEATS': 0},\n",
       " {'MANUFACTURE_YEAR': 1975, 'TAIL_NUM': 'N396FE', 'NUMBER_OF_SEATS': 0},\n",
       " {'MANUFACTURE_YEAR': 1975, 'TAIL_NUM': 'N357FE', 'NUMBER_OF_SEATS': 0},\n",
       " {'MANUFACTURE_YEAR': 1975, 'TAIL_NUM': 'N311FE', 'NUMBER_OF_SEATS': 0},\n",
       " {'MANUFACTURE_YEAR': 1975, 'TAIL_NUM': 'N401LC', 'NUMBER_OF_SEATS': 0},\n",
       " {'MANUFACTURE_YEAR': 1975, 'TAIL_NUM': 'N403LC', 'NUMBER_OF_SEATS': 0},\n",
       " {'MANUFACTURE_YEAR': 1975, 'TAIL_NUM': 'N408LC', 'NUMBER_OF_SEATS': 0},\n",
       " {'MANUFACTURE_YEAR': 1976, 'TAIL_NUM': 'N402LC', 'NUMBER_OF_SEATS': 0},\n",
       " {'MANUFACTURE_YEAR': 1976, 'TAIL_NUM': 'N406LC', 'NUMBER_OF_SEATS': 0},\n",
       " {'MANUFACTURE_YEAR': 1976, 'TAIL_NUM': 'N409LC', 'NUMBER_OF_SEATS': 0},\n",
       " {'MANUFACTURE_YEAR': 1976, 'TAIL_NUM': 'ZS-JIV', 'NUMBER_OF_SEATS': 0},\n",
       " {'MANUFACTURE_YEAR': 1976, 'TAIL_NUM': 'N205US', 'NUMBER_OF_SEATS': 0},\n",
       " {'MANUFACTURE_YEAR': 1977, 'TAIL_NUM': 'N562FE', 'NUMBER_OF_SEATS': 0},\n",
       " {'MANUFACTURE_YEAR': 1977, 'TAIL_NUM': 'N404LC', 'NUMBER_OF_SEATS': 0},\n",
       " {'MANUFACTURE_YEAR': 1978, 'TAIL_NUM': 'N304FE', 'NUMBER_OF_SEATS': 0},\n",
       " {'MANUFACTURE_YEAR': 1978, 'TAIL_NUM': 'N281FL', 'NUMBER_OF_SEATS': 0},\n",
       " {'MANUFACTURE_YEAR': 1978, 'TAIL_NUM': 'ZS-OPS', 'NUMBER_OF_SEATS': 0},\n",
       " {'MANUFACTURE_YEAR': 1979, 'TAIL_NUM': 'N10060', 'NUMBER_OF_SEATS': 0},\n",
       " {'MANUFACTURE_YEAR': 1979, 'TAIL_NUM': 'N318FE', 'NUMBER_OF_SEATS': 0},\n",
       " {'MANUFACTURE_YEAR': 1980, 'TAIL_NUM': 'N359FE', 'NUMBER_OF_SEATS': 0},\n",
       " {'MANUFACTURE_YEAR': 1980, 'TAIL_NUM': 'N360FE', 'NUMBER_OF_SEATS': 0},\n",
       " {'MANUFACTURE_YEAR': 1980, 'TAIL_NUM': 'N571FE', 'NUMBER_OF_SEATS': 0},\n",
       " {'MANUFACTURE_YEAR': 1980, 'TAIL_NUM': 'N320FE', 'NUMBER_OF_SEATS': 0},\n",
       " {'MANUFACTURE_YEAR': 1980, 'TAIL_NUM': 'N321FE', 'NUMBER_OF_SEATS': 0},\n",
       " {'MANUFACTURE_YEAR': 1980, 'TAIL_NUM': 'N319FE', 'NUMBER_OF_SEATS': 0},\n",
       " {'MANUFACTURE_YEAR': 1980, 'TAIL_NUM': 'N725CK', 'NUMBER_OF_SEATS': 0},\n",
       " {'MANUFACTURE_YEAR': 1980, 'TAIL_NUM': 'N726CK', 'NUMBER_OF_SEATS': 0},\n",
       " {'MANUFACTURE_YEAR': 1981, 'TAIL_NUM': 'N705AA', 'NUMBER_OF_SEATS': 0},\n",
       " {'MANUFACTURE_YEAR': 1981, 'TAIL_NUM': 'N727US', 'NUMBER_OF_SEATS': 0},\n",
       " {'MANUFACTURE_YEAR': 1981, 'TAIL_NUM': 'N726US', 'NUMBER_OF_SEATS': 0},\n",
       " {'MANUFACTURE_YEAR': 1982, 'TAIL_NUM': 'N650GT', 'NUMBER_OF_SEATS': 0},\n",
       " {'MANUFACTURE_YEAR': 1982, 'TAIL_NUM': 'N767MW', 'NUMBER_OF_SEATS': 269},\n",
       " {'MANUFACTURE_YEAR': 1982, 'TAIL_NUM': 'N739AX', 'NUMBER_OF_SEATS': 0},\n",
       " {'MANUFACTURE_YEAR': 1982, 'TAIL_NUM': 'N729CK', 'NUMBER_OF_SEATS': 0},\n",
       " {'MANUFACTURE_YEAR': 1982, 'TAIL_NUM': 'N743AX'},\n",
       " {'MANUFACTURE_YEAR': 1982, 'TAIL_NUM': 'N234OU', 'NUMBER_OF_SEATS': 6},\n",
       " {'MANUFACTURE_YEAR': 1983, 'TAIL_NUM': 'N306AL', 'NUMBER_OF_SEATS': 0},\n",
       " {'MANUFACTURE_YEAR': 1983, 'TAIL_NUM': 'N818EC', 'NUMBER_OF_SEATS': 16},\n",
       " {'MANUFACTURE_YEAR': 1983, 'TAIL_NUM': 'N651GT', 'NUMBER_OF_SEATS': 0},\n",
       " {'MANUFACTURE_YEAR': 1983, 'TAIL_NUM': 'N652GT', 'NUMBER_OF_SEATS': 0},\n",
       " {'MANUFACTURE_YEAR': 1983, 'TAIL_NUM': 'N653GT', 'NUMBER_OF_SEATS': 0},\n",
       " {'MANUFACTURE_YEAR': 1983, 'TAIL_NUM': 'N762CX', 'NUMBER_OF_SEATS': 0},\n",
       " {'MANUFACTURE_YEAR': 1983, 'TAIL_NUM': 'N763CX', 'NUMBER_OF_SEATS': 0},\n",
       " {'MANUFACTURE_YEAR': 1983, 'TAIL_NUM': 'N714AX', 'NUMBER_OF_SEATS': 0},\n",
       " {'MANUFACTURE_YEAR': 1983, 'TAIL_NUM': 'N740AX', 'NUMBER_OF_SEATS': 0},\n",
       " {'MANUFACTURE_YEAR': 1983, 'TAIL_NUM': 'N744AX', 'NUMBER_OF_SEATS': 0},\n",
       " {'MANUFACTURE_YEAR': 1983, 'TAIL_NUM': 'N767AX', 'NUMBER_OF_SEATS': 0},\n",
       " {'MANUFACTURE_YEAR': 1983, 'TAIL_NUM': 'N768AX', 'NUMBER_OF_SEATS': 0},\n",
       " {'MANUFACTURE_YEAR': 1983, 'TAIL_NUM': 'N774AX', 'NUMBER_OF_SEATS': 0},\n",
       " {'MANUFACTURE_YEAR': 1983, 'TAIL_NUM': 'N935FD', 'NUMBER_OF_SEATS': 0},\n",
       " {'MANUFACTURE_YEAR': 1984, 'TAIL_NUM': 'N605KW', 'NUMBER_OF_SEATS': 236},\n",
       " {'MANUFACTURE_YEAR': 1984, 'TAIL_NUM': 'N655GT', 'NUMBER_OF_SEATS': 0},\n",
       " {'MANUFACTURE_YEAR': 1984, 'TAIL_NUM': 'N656GT', 'NUMBER_OF_SEATS': 0},\n",
       " {'MANUFACTURE_YEAR': 1984, 'TAIL_NUM': 'N657GT', 'NUMBER_OF_SEATS': 0},\n",
       " {'MANUFACTURE_YEAR': 1984, 'TAIL_NUM': 'N658GT', 'NUMBER_OF_SEATS': 0},\n",
       " {'MANUFACTURE_YEAR': 1984, 'TAIL_NUM': 'N659GT', 'NUMBER_OF_SEATS': 0},\n",
       " {'MANUFACTURE_YEAR': 1984, 'TAIL_NUM': 'N605DL', 'NUMBER_OF_SEATS': 0},\n",
       " {'MANUFACTURE_YEAR': 1984, 'TAIL_NUM': 'N255CM', 'NUMBER_OF_SEATS': 0},\n",
       " {'MANUFACTURE_YEAR': 1984, 'TAIL_NUM': 'N312AA', 'NUMBER_OF_SEATS': 0},\n",
       " {'MANUFACTURE_YEAR': 1984, 'TAIL_NUM': 'N783AX', 'NUMBER_OF_SEATS': 0},\n",
       " {'MANUFACTURE_YEAR': 1984, 'TAIL_NUM': 'N749AX', 'NUMBER_OF_SEATS': 0},\n",
       " {'MANUFACTURE_YEAR': 1984, 'TAIL_NUM': 'N750AX', 'NUMBER_OF_SEATS': 0},\n",
       " {'MANUFACTURE_YEAR': 1984, 'TAIL_NUM': 'N215WE', 'NUMBER_OF_SEATS': 0},\n",
       " {'MANUFACTURE_YEAR': 1984, 'TAIL_NUM': 'N216WE', 'NUMBER_OF_SEATS': 0},\n",
       " {'MANUFACTURE_YEAR': 1985, 'TAIL_NUM': 'N602KW', 'NUMBER_OF_SEATS': 218},\n",
       " {'MANUFACTURE_YEAR': 1985, 'TAIL_NUM': 'N603KW', 'NUMBER_OF_SEATS': 218},\n",
       " {'MANUFACTURE_YEAR': 1985, 'TAIL_NUM': 'N737CS', 'NUMBER_OF_SEATS': 0},\n",
       " {'MANUFACTURE_YEAR': 1985, 'TAIL_NUM': 'N761CX', 'NUMBER_OF_SEATS': 0},\n",
       " {'MANUFACTURE_YEAR': 1985, 'TAIL_NUM': 'N791AX', 'NUMBER_OF_SEATS': 0},\n",
       " {'MANUFACTURE_YEAR': 1985, 'TAIL_NUM': 'N795AX', 'NUMBER_OF_SEATS': 0},\n",
       " {'MANUFACTURE_YEAR': 1985, 'TAIL_NUM': 'N797AX', 'NUMBER_OF_SEATS': 0},\n",
       " {'MANUFACTURE_YEAR': 1985, 'TAIL_NUM': 'N306FE', 'NUMBER_OF_SEATS': 0},\n",
       " {'MANUFACTURE_YEAR': 1985, 'TAIL_NUM': 'N926FD', 'NUMBER_OF_SEATS': 0},\n",
       " {'MANUFACTURE_YEAR': 1985, 'TAIL_NUM': 'N936FD', 'NUMBER_OF_SEATS': 0},\n",
       " {'MANUFACTURE_YEAR': 1985, 'TAIL_NUM': 'N405LC', 'NUMBER_OF_SEATS': 0},\n",
       " {'MANUFACTURE_YEAR': 1985, 'TAIL_NUM': 'N361NC', 'NUMBER_OF_SEATS': 0},\n",
       " {'MANUFACTURE_YEAR': 1985, 'TAIL_NUM': 'N362NC', 'NUMBER_OF_SEATS': 0},\n",
       " {'MANUFACTURE_YEAR': 1985, 'TAIL_NUM': 'N708S', 'NUMBER_OF_SEATS': 100},\n",
       " {'MANUFACTURE_YEAR': 1986, 'TAIL_NUM': 'N620DL', 'NUMBER_OF_SEATS': 0},\n",
       " {'MANUFACTURE_YEAR': 1986, 'TAIL_NUM': 'N557CM', 'NUMBER_OF_SEATS': 0},\n",
       " {'MANUFACTURE_YEAR': 1986, 'TAIL_NUM': 'N465TW', 'NUMBER_OF_SEATS': 60},\n",
       " {'MANUFACTURE_YEAR': 1986, 'TAIL_NUM': 'N467TW', 'NUMBER_OF_SEATS': 60},\n",
       " {'MANUFACTURE_YEAR': 1986, 'TAIL_NUM': 'N902FE', 'NUMBER_OF_SEATS': 0},\n",
       " {'MANUFACTURE_YEAR': 1986, 'TAIL_NUM': 'N903FE', 'NUMBER_OF_SEATS': 0},\n",
       " {'MANUFACTURE_YEAR': 1986, 'TAIL_NUM': 'N904FE', 'NUMBER_OF_SEATS': 0},\n",
       " {'MANUFACTURE_YEAR': 1986, 'TAIL_NUM': 'N905FE', 'NUMBER_OF_SEATS': 0},\n",
       " {'MANUFACTURE_YEAR': 1986, 'TAIL_NUM': 'N906FE', 'NUMBER_OF_SEATS': 0},\n",
       " {'MANUFACTURE_YEAR': 1986, 'TAIL_NUM': 'N907FE', 'NUMBER_OF_SEATS': 0},\n",
       " {'MANUFACTURE_YEAR': 1986, 'TAIL_NUM': 'N908FE', 'NUMBER_OF_SEATS': 0},\n",
       " {'MANUFACTURE_YEAR': 1986, 'TAIL_NUM': 'N909FE', 'NUMBER_OF_SEATS': 0},\n",
       " {'MANUFACTURE_YEAR': 1986, 'TAIL_NUM': 'N910FE', 'NUMBER_OF_SEATS': 0},\n",
       " {'MANUFACTURE_YEAR': 1986, 'TAIL_NUM': 'N912FE', 'NUMBER_OF_SEATS': 0},\n",
       " {'MANUFACTURE_YEAR': 1986, 'TAIL_NUM': 'N307FE', 'NUMBER_OF_SEATS': 0},\n",
       " {'MANUFACTURE_YEAR': 1986, 'TAIL_NUM': 'N308FE', 'NUMBER_OF_SEATS': 0},\n",
       " {'MANUFACTURE_YEAR': 1986, 'TAIL_NUM': 'N942FD', 'NUMBER_OF_SEATS': 0},\n",
       " {'MANUFACTURE_YEAR': 1986, 'TAIL_NUM': 'N990FD', 'NUMBER_OF_SEATS': 0},\n",
       " {'MANUFACTURE_YEAR': 1986, 'TAIL_NUM': 'N991FD', 'NUMBER_OF_SEATS': 0},\n",
       " {'MANUFACTURE_YEAR': 1986, 'TAIL_NUM': 'N992FD', 'NUMBER_OF_SEATS': 0},\n",
       " {'MANUFACTURE_YEAR': 1987, 'TAIL_NUM': 'N809TA', 'NUMBER_OF_SEATS': 0},\n",
       " {'MANUFACTURE_YEAR': 1987, 'TAIL_NUM': 'N999YV', 'NUMBER_OF_SEATS': 0},\n",
       " {'MANUFACTURE_YEAR': 1987, 'TAIL_NUM': 'N961CE', 'NUMBER_OF_SEATS': 0},\n",
       " {'MANUFACTURE_YEAR': 1987, 'TAIL_NUM': 'N401UP', 'NUMBER_OF_SEATS': 0},\n",
       " {'MANUFACTURE_YEAR': 1987, 'TAIL_NUM': 'N402UP', 'NUMBER_OF_SEATS': 0},\n",
       " {'MANUFACTURE_YEAR': 1987, 'TAIL_NUM': 'N403UP', 'NUMBER_OF_SEATS': 0},\n",
       " {'MANUFACTURE_YEAR': 1987, 'TAIL_NUM': 'N404UP', 'NUMBER_OF_SEATS': 0},\n",
       " {'MANUFACTURE_YEAR': 1987, 'TAIL_NUM': 'N405UP', 'NUMBER_OF_SEATS': 0},\n",
       " {'MANUFACTURE_YEAR': 1987, 'TAIL_NUM': 'N798AX', 'NUMBER_OF_SEATS': 0},\n",
       " {'MANUFACTURE_YEAR': 1987, 'TAIL_NUM': 'N752AX', 'NUMBER_OF_SEATS': 0},\n",
       " {'MANUFACTURE_YEAR': 1987, 'TAIL_NUM': 'N905DL', 'NUMBER_OF_SEATS': 149},\n",
       " {'MANUFACTURE_YEAR': 1987, 'TAIL_NUM': 'N912DL', 'NUMBER_OF_SEATS': 149},\n",
       " {'MANUFACTURE_YEAR': 1987, 'TAIL_NUM': 'N717FD', 'NUMBER_OF_SEATS': 0},\n",
       " {'MANUFACTURE_YEAR': 1987, 'TAIL_NUM': 'N808FD', 'NUMBER_OF_SEATS': 0},\n",
       " {'MANUFACTURE_YEAR': 1987, 'TAIL_NUM': 'N911FX', 'NUMBER_OF_SEATS': 0},\n",
       " {'MANUFACTURE_YEAR': 1987, 'TAIL_NUM': 'N912FX', 'NUMBER_OF_SEATS': 0},\n",
       " {'MANUFACTURE_YEAR': 1987, 'TAIL_NUM': 'N797FE', 'NUMBER_OF_SEATS': 0},\n",
       " {'MANUFACTURE_YEAR': 1987, 'TAIL_NUM': 'N804FE', 'NUMBER_OF_SEATS': 0},\n",
       " {'MANUFACTURE_YEAR': 1987, 'TAIL_NUM': 'N807FE', 'NUMBER_OF_SEATS': 0},\n",
       " {'MANUFACTURE_YEAR': 1987, 'TAIL_NUM': 'N895FE', 'NUMBER_OF_SEATS': 0},\n",
       " {'MANUFACTURE_YEAR': 1987, 'TAIL_NUM': 'N900FE', 'NUMBER_OF_SEATS': 0},\n",
       " {'MANUFACTURE_YEAR': 1987, 'TAIL_NUM': 'N911FE', 'NUMBER_OF_SEATS': 0},\n",
       " {'MANUFACTURE_YEAR': 1987, 'TAIL_NUM': 'N914FE', 'NUMBER_OF_SEATS': 0},\n",
       " {'MANUFACTURE_YEAR': 1987, 'TAIL_NUM': 'N916FE', 'NUMBER_OF_SEATS': 0},\n",
       " {'MANUFACTURE_YEAR': 1987, 'TAIL_NUM': 'CFEXH', 'NUMBER_OF_SEATS': 0},\n",
       " {'MANUFACTURE_YEAR': 1987, 'TAIL_NUM': 'N918FE', 'NUMBER_OF_SEATS': 0},\n",
       " {'MANUFACTURE_YEAR': 1987, 'TAIL_NUM': 'N919FE', 'NUMBER_OF_SEATS': 0},\n",
       " {'MANUFACTURE_YEAR': 1987, 'TAIL_NUM': 'N920FE', 'NUMBER_OF_SEATS': 0},\n",
       " {'MANUFACTURE_YEAR': 1987, 'TAIL_NUM': 'N921FE', 'NUMBER_OF_SEATS': 0},\n",
       " {'MANUFACTURE_YEAR': 1987, 'TAIL_NUM': 'N922FE', 'NUMBER_OF_SEATS': 0},\n",
       " {'MANUFACTURE_YEAR': 1987, 'TAIL_NUM': 'N923FE', 'NUMBER_OF_SEATS': 0},\n",
       " {'MANUFACTURE_YEAR': 1987, 'TAIL_NUM': 'N925FE', 'NUMBER_OF_SEATS': 0},\n",
       " {'MANUFACTURE_YEAR': 1987, 'TAIL_NUM': 'N926FE', 'NUMBER_OF_SEATS': 0},\n",
       " {'MANUFACTURE_YEAR': 1987, 'TAIL_NUM': 'N927FE', 'NUMBER_OF_SEATS': 0},\n",
       " {'MANUFACTURE_YEAR': 1987, 'TAIL_NUM': 'N928FE', 'NUMBER_OF_SEATS': 0},\n",
       " {'MANUFACTURE_YEAR': 1987, 'TAIL_NUM': 'N929FE', 'NUMBER_OF_SEATS': 0},\n",
       " {'MANUFACTURE_YEAR': 1987, 'TAIL_NUM': 'N930FE', 'NUMBER_OF_SEATS': 0},\n",
       " {'MANUFACTURE_YEAR': 1987, 'TAIL_NUM': 'N931FE', 'NUMBER_OF_SEATS': 0},\n",
       " {'MANUFACTURE_YEAR': 1987, 'TAIL_NUM': 'N933FE', 'NUMBER_OF_SEATS': 0},\n",
       " {'MANUFACTURE_YEAR': 1987, 'TAIL_NUM': 'N934FE', 'NUMBER_OF_SEATS': 0},\n",
       " {'MANUFACTURE_YEAR': 1987, 'TAIL_NUM': 'N935FE', 'NUMBER_OF_SEATS': 0},\n",
       " {'MANUFACTURE_YEAR': 1987, 'TAIL_NUM': 'N936FE', 'NUMBER_OF_SEATS': 0},\n",
       " {'MANUFACTURE_YEAR': 1987, 'TAIL_NUM': 'N937FE', 'NUMBER_OF_SEATS': 0},\n",
       " {'MANUFACTURE_YEAR': 1987, 'TAIL_NUM': 'CFEXN', 'NUMBER_OF_SEATS': 0},\n",
       " {'MANUFACTURE_YEAR': 1987, 'TAIL_NUM': 'N940FE', 'NUMBER_OF_SEATS': 0},\n",
       " {'MANUFACTURE_YEAR': 1987, 'TAIL_NUM': 'N943FE', 'NUMBER_OF_SEATS': 0},\n",
       " {'MANUFACTURE_YEAR': 1987, 'TAIL_NUM': 'N946FE', 'NUMBER_OF_SEATS': 0},\n",
       " {'MANUFACTURE_YEAR': 1987, 'TAIL_NUM': 'N947FE', 'NUMBER_OF_SEATS': 0},\n",
       " {'MANUFACTURE_YEAR': 1987, 'TAIL_NUM': 'CFEXI', 'NUMBER_OF_SEATS': 0},\n",
       " {'MANUFACTURE_YEAR': 1987, 'TAIL_NUM': 'N952FE', 'NUMBER_OF_SEATS': 0},\n",
       " {'MANUFACTURE_YEAR': 1987, 'TAIL_NUM': 'N953FE', 'NUMBER_OF_SEATS': 0},\n",
       " {'MANUFACTURE_YEAR': 1987, 'TAIL_NUM': 'N954FE', 'NUMBER_OF_SEATS': 0},\n",
       " {'MANUFACTURE_YEAR': 1987, 'TAIL_NUM': 'N955FE', 'NUMBER_OF_SEATS': 0},\n",
       " {'MANUFACTURE_YEAR': 1987, 'TAIL_NUM': 'N956FE', 'NUMBER_OF_SEATS': 0},\n",
       " {'MANUFACTURE_YEAR': 1987, 'TAIL_NUM': 'N937FD', 'NUMBER_OF_SEATS': 0},\n",
       " {'MANUFACTURE_YEAR': 1987, 'TAIL_NUM': 'N941FD', 'NUMBER_OF_SEATS': 0},\n",
       " {'MANUFACTURE_YEAR': 1987, 'TAIL_NUM': 'N943FD', 'NUMBER_OF_SEATS': 0},\n",
       " {'MANUFACTURE_YEAR': 1987, 'TAIL_NUM': 'N331CK', 'NUMBER_OF_SEATS': 0},\n",
       " {'MANUFACTURE_YEAR': 1987, 'TAIL_NUM': 'N360WA', 'NUMBER_OF_SEATS': 0},\n",
       " {'MANUFACTURE_YEAR': 1987, 'TAIL_NUM': 'N804WA', 'NUMBER_OF_SEATS': 155},\n",
       " {'MANUFACTURE_YEAR': 1988, 'TAIL_NUM': 'N604KW', 'NUMBER_OF_SEATS': 236},\n",
       " {'MANUFACTURE_YEAR': 1988, 'TAIL_NUM': 'N881YV', 'NUMBER_OF_SEATS': 0},\n",
       " {'MANUFACTURE_YEAR': 1988, 'TAIL_NUM': 'N1105G', 'NUMBER_OF_SEATS': 0},\n",
       " {'MANUFACTURE_YEAR': 1988, 'TAIL_NUM': 'N568SW', 'NUMBER_OF_SEATS': 0},\n",
       " {'MANUFACTURE_YEAR': 1988, 'TAIL_NUM': 'N406UP', 'NUMBER_OF_SEATS': 0},\n",
       " {'MANUFACTURE_YEAR': 1988, 'TAIL_NUM': 'N407UP', 'NUMBER_OF_SEATS': 0},\n",
       " {'MANUFACTURE_YEAR': 1988, 'TAIL_NUM': 'N408UP', 'NUMBER_OF_SEATS': 0},\n",
       " {'MANUFACTURE_YEAR': 1988, 'TAIL_NUM': 'N409UP', 'NUMBER_OF_SEATS': 0},\n",
       " {'MANUFACTURE_YEAR': 1988, 'TAIL_NUM': 'N410UP', 'NUMBER_OF_SEATS': 0},\n",
       " {'MANUFACTURE_YEAR': 1988, 'TAIL_NUM': 'N411UP', 'NUMBER_OF_SEATS': 0},\n",
       " {'MANUFACTURE_YEAR': 1988, 'TAIL_NUM': 'N412UP', 'NUMBER_OF_SEATS': 0},\n",
       " {'MANUFACTURE_YEAR': 1988, 'TAIL_NUM': 'N413UP', 'NUMBER_OF_SEATS': 0},\n",
       " {'MANUFACTURE_YEAR': 1988, 'TAIL_NUM': 'N414UP', 'NUMBER_OF_SEATS': 0},\n",
       " {'MANUFACTURE_YEAR': 1988, 'TAIL_NUM': 'N415UP', 'NUMBER_OF_SEATS': 0},\n",
       " {'MANUFACTURE_YEAR': 1988, 'TAIL_NUM': 'N1709A', 'NUMBER_OF_SEATS': 269},\n",
       " {'MANUFACTURE_YEAR': 1988, 'TAIL_NUM': 'N359AZ', 'NUMBER_OF_SEATS': 0},\n",
       " {'MANUFACTURE_YEAR': 1988, 'TAIL_NUM': 'N397AZ', 'NUMBER_OF_SEATS': 0},\n",
       " {'MANUFACTURE_YEAR': 1988, 'TAIL_NUM': 'N360AA', 'NUMBER_OF_SEATS': 218},\n",
       " {'MANUFACTURE_YEAR': 1988, 'TAIL_NUM': 'N362CM', 'NUMBER_OF_SEATS': 0},\n",
       " {'MANUFACTURE_YEAR': 1988, 'TAIL_NUM': 'N317CM', 'NUMBER_OF_SEATS': 0},\n",
       " {'MANUFACTURE_YEAR': 1988, 'TAIL_NUM': 'N913DL', 'NUMBER_OF_SEATS': 149},\n",
       " {'MANUFACTURE_YEAR': 1988, 'TAIL_NUM': 'N916DL', 'NUMBER_OF_SEATS': 149},\n",
       " {'MANUFACTURE_YEAR': 1988, 'TAIL_NUM': 'N917DL', 'NUMBER_OF_SEATS': 149},\n",
       " {'MANUFACTURE_YEAR': 1988, 'TAIL_NUM': 'N722FD', 'NUMBER_OF_SEATS': 0},\n",
       " {'MANUFACTURE_YEAR': 1988, 'TAIL_NUM': 'N820FE', 'NUMBER_OF_SEATS': 0},\n",
       " {'MANUFACTURE_YEAR': 1988, 'TAIL_NUM': 'N828FE', 'NUMBER_OF_SEATS': 0},\n",
       " {'MANUFACTURE_YEAR': 1988, 'TAIL_NUM': 'N841FE', 'NUMBER_OF_SEATS': 0},\n",
       " {'MANUFACTURE_YEAR': 1988, 'TAIL_NUM': 'N957FE', 'NUMBER_OF_SEATS': 0},\n",
       " {'MANUFACTURE_YEAR': 1988, 'TAIL_NUM': 'N958FE', 'NUMBER_OF_SEATS': 0},\n",
       " {'MANUFACTURE_YEAR': 1988, 'TAIL_NUM': 'N959FE', 'NUMBER_OF_SEATS': 0},\n",
       " {'MANUFACTURE_YEAR': 1988, 'TAIL_NUM': 'N960FE', 'NUMBER_OF_SEATS': 0},\n",
       " {'MANUFACTURE_YEAR': 1988, 'TAIL_NUM': 'N961FE', 'NUMBER_OF_SEATS': 0},\n",
       " {'MANUFACTURE_YEAR': 1988, 'TAIL_NUM': 'N962FE', 'NUMBER_OF_SEATS': 0},\n",
       " {'MANUFACTURE_YEAR': 1988, 'TAIL_NUM': 'N963FE', 'NUMBER_OF_SEATS': 0},\n",
       " {'MANUFACTURE_YEAR': 1988, 'TAIL_NUM': 'N964FE', 'NUMBER_OF_SEATS': 0},\n",
       " {'MANUFACTURE_YEAR': 1988, 'TAIL_NUM': 'N965FE', 'NUMBER_OF_SEATS': 0},\n",
       " {'MANUFACTURE_YEAR': 1988, 'TAIL_NUM': 'N966FE', 'NUMBER_OF_SEATS': 0},\n",
       " {'MANUFACTURE_YEAR': 1988, 'TAIL_NUM': 'N967FE', 'NUMBER_OF_SEATS': 0},\n",
       " {'MANUFACTURE_YEAR': 1988, 'TAIL_NUM': 'N968FE', 'NUMBER_OF_SEATS': 0},\n",
       " {'MANUFACTURE_YEAR': 1988, 'TAIL_NUM': 'N969FE', 'NUMBER_OF_SEATS': 0},\n",
       " {'MANUFACTURE_YEAR': 1988, 'TAIL_NUM': 'N970FE', 'NUMBER_OF_SEATS': 0},\n",
       " {'MANUFACTURE_YEAR': 1988, 'TAIL_NUM': 'N971FE', 'NUMBER_OF_SEATS': 0},\n",
       " {'MANUFACTURE_YEAR': 1988, 'TAIL_NUM': 'N972FE', 'NUMBER_OF_SEATS': 0},\n",
       " {'MANUFACTURE_YEAR': 1988, 'TAIL_NUM': 'N973FE', 'NUMBER_OF_SEATS': 0},\n",
       " {'MANUFACTURE_YEAR': 1988, 'TAIL_NUM': 'N976FE', 'NUMBER_OF_SEATS': 0},\n",
       " {'MANUFACTURE_YEAR': 1988, 'TAIL_NUM': 'N977FE', 'NUMBER_OF_SEATS': 0},\n",
       " {'MANUFACTURE_YEAR': 1988, 'TAIL_NUM': 'N980FE', 'NUMBER_OF_SEATS': 0},\n",
       " {'MANUFACTURE_YEAR': 1988, 'TAIL_NUM': 'N981FE', 'NUMBER_OF_SEATS': 0},\n",
       " {'MANUFACTURE_YEAR': 1988, 'TAIL_NUM': 'N983FE', 'NUMBER_OF_SEATS': 0},\n",
       " {'MANUFACTURE_YEAR': 1988, 'TAIL_NUM': 'N984FE', 'NUMBER_OF_SEATS': 0},\n",
       " {'MANUFACTURE_YEAR': 1988, 'TAIL_NUM': 'N985FE', 'NUMBER_OF_SEATS': 0},\n",
       " {'MANUFACTURE_YEAR': 1988, 'TAIL_NUM': 'N989FE', 'NUMBER_OF_SEATS': 0},\n",
       " {'MANUFACTURE_YEAR': 1988, 'TAIL_NUM': 'N990FE', 'NUMBER_OF_SEATS': 0},\n",
       " {'MANUFACTURE_YEAR': 1988, 'TAIL_NUM': 'N991FE', 'NUMBER_OF_SEATS': 0},\n",
       " {'MANUFACTURE_YEAR': 1988, 'TAIL_NUM': 'N992FE', 'NUMBER_OF_SEATS': 0},\n",
       " {'MANUFACTURE_YEAR': 1988, 'TAIL_NUM': 'N993FE', 'NUMBER_OF_SEATS': 0},\n",
       " {'MANUFACTURE_YEAR': 1988, 'TAIL_NUM': 'N994FE', 'NUMBER_OF_SEATS': 0},\n",
       " {'MANUFACTURE_YEAR': 1988, 'TAIL_NUM': 'N995FE', 'NUMBER_OF_SEATS': 0},\n",
       " {'MANUFACTURE_YEAR': 1988, 'TAIL_NUM': 'N996FE', 'NUMBER_OF_SEATS': 0},\n",
       " {'MANUFACTURE_YEAR': 1988, 'TAIL_NUM': 'N998FE', 'NUMBER_OF_SEATS': 0},\n",
       " {'MANUFACTURE_YEAR': 1988, 'TAIL_NUM': 'N315FE', 'NUMBER_OF_SEATS': 0},\n",
       " {'MANUFACTURE_YEAR': 1988, 'TAIL_NUM': 'N313FE', 'NUMBER_OF_SEATS': 0},\n",
       " {'MANUFACTURE_YEAR': 1988, 'TAIL_NUM': 'N316FE', 'NUMBER_OF_SEATS': 0},\n",
       " {'MANUFACTURE_YEAR': 1988, 'TAIL_NUM': 'N912FD', 'NUMBER_OF_SEATS': 0},\n",
       " {'MANUFACTURE_YEAR': 1988, 'TAIL_NUM': 'N913FD', 'NUMBER_OF_SEATS': 0},\n",
       " {'MANUFACTURE_YEAR': 1988, 'TAIL_NUM': 'N915FD', 'NUMBER_OF_SEATS': 0},\n",
       " {'MANUFACTURE_YEAR': 1988, 'TAIL_NUM': 'N916FD', 'NUMBER_OF_SEATS': 0},\n",
       " {'MANUFACTURE_YEAR': 1988, 'TAIL_NUM': 'N933FD', 'NUMBER_OF_SEATS': 0},\n",
       " {'MANUFACTURE_YEAR': 1988, 'TAIL_NUM': 'N934FD', 'NUMBER_OF_SEATS': 0},\n",
       " {'MANUFACTURE_YEAR': 1988, 'TAIL_NUM': 'N962FD', 'NUMBER_OF_SEATS': 0},\n",
       " {'MANUFACTURE_YEAR': 1988, 'TAIL_NUM': 'N977FD', 'NUMBER_OF_SEATS': 0},\n",
       " {'MANUFACTURE_YEAR': 1988, 'TAIL_NUM': 'N978FD', 'NUMBER_OF_SEATS': 0},\n",
       " {'MANUFACTURE_YEAR': 1988, 'TAIL_NUM': 'N316CM'},\n",
       " {'MANUFACTURE_YEAR': 1988, 'TAIL_NUM': 'N319CM'},\n",
       " {'MANUFACTURE_YEAR': 1989, 'TAIL_NUM': 'N249BA', 'NUMBER_OF_SEATS': 0},\n",
       " {'MANUFACTURE_YEAR': 1989, 'TAIL_NUM': 'N1511A', 'NUMBER_OF_SEATS': 269},\n",
       " {'MANUFACTURE_YEAR': 1989, 'TAIL_NUM': 'N752CX', 'NUMBER_OF_SEATS': 42},\n",
       " {'MANUFACTURE_YEAR': 1989, 'TAIL_NUM': 'N219CY', 'NUMBER_OF_SEATS': 0},\n",
       " {'MANUFACTURE_YEAR': 1989, 'TAIL_NUM': 'N364CM', 'NUMBER_OF_SEATS': 0},\n",
       " {'MANUFACTURE_YEAR': 1989, 'TAIL_NUM': 'N719FD', 'NUMBER_OF_SEATS': 0},\n",
       " {'MANUFACTURE_YEAR': 1989, 'TAIL_NUM': 'N724FD', 'NUMBER_OF_SEATS': 0},\n",
       " {'MANUFACTURE_YEAR': 1989, 'TAIL_NUM': 'N749FD', 'NUMBER_OF_SEATS': 0},\n",
       " {'MANUFACTURE_YEAR': 1989, 'TAIL_NUM': 'N900FX', 'NUMBER_OF_SEATS': 0},\n",
       " {'MANUFACTURE_YEAR': 1989, 'TAIL_NUM': 'N923FX', 'NUMBER_OF_SEATS': 0},\n",
       " {'MANUFACTURE_YEAR': 1989, 'TAIL_NUM': 'N798FE', 'NUMBER_OF_SEATS': 0},\n",
       " {'MANUFACTURE_YEAR': 1989, 'TAIL_NUM': 'N843FE', 'NUMBER_OF_SEATS': 0},\n",
       " {'MANUFACTURE_YEAR': 1989, 'TAIL_NUM': 'N844FE', 'NUMBER_OF_SEATS': 0},\n",
       " {'MANUFACTURE_YEAR': 1989, 'TAIL_NUM': 'N845FE', 'NUMBER_OF_SEATS': 0},\n",
       " {'MANUFACTURE_YEAR': 1989, 'TAIL_NUM': 'N846FE', 'NUMBER_OF_SEATS': 0},\n",
       " {'MANUFACTURE_YEAR': 1989, 'TAIL_NUM': 'N847FE', 'NUMBER_OF_SEATS': 0},\n",
       " {'MANUFACTURE_YEAR': 1989, 'TAIL_NUM': 'N848FE', 'NUMBER_OF_SEATS': 0},\n",
       " {'MANUFACTURE_YEAR': 1989, 'TAIL_NUM': 'N849FE', 'NUMBER_OF_SEATS': 0},\n",
       " {'MANUFACTURE_YEAR': 1989, 'TAIL_NUM': 'N850FE', 'NUMBER_OF_SEATS': 0},\n",
       " {'MANUFACTURE_YEAR': 1989, 'TAIL_NUM': 'N851FE', 'NUMBER_OF_SEATS': 0},\n",
       " {'MANUFACTURE_YEAR': 1989, 'TAIL_NUM': 'N853FE', 'NUMBER_OF_SEATS': 0},\n",
       " {'MANUFACTURE_YEAR': 1989, 'TAIL_NUM': 'N856FE', 'NUMBER_OF_SEATS': 0},\n",
       " {'MANUFACTURE_YEAR': 1989, 'TAIL_NUM': 'N857FE', 'NUMBER_OF_SEATS': 0},\n",
       " {'MANUFACTURE_YEAR': 1989, 'TAIL_NUM': 'N858FE', 'NUMBER_OF_SEATS': 0},\n",
       " {'MANUFACTURE_YEAR': 1989, 'TAIL_NUM': 'N859FE', 'NUMBER_OF_SEATS': 0},\n",
       " {'MANUFACTURE_YEAR': 1989, 'TAIL_NUM': 'N861FE', 'NUMBER_OF_SEATS': 0},\n",
       " {'MANUFACTURE_YEAR': 1989, 'TAIL_NUM': 'N862FE', 'NUMBER_OF_SEATS': 0},\n",
       " {'MANUFACTURE_YEAR': 1989, 'TAIL_NUM': 'N863FE', 'NUMBER_OF_SEATS': 0},\n",
       " {'MANUFACTURE_YEAR': 1989, 'TAIL_NUM': 'N864FE', 'NUMBER_OF_SEATS': 0},\n",
       " {'MANUFACTURE_YEAR': 1989, 'TAIL_NUM': 'N865FE', 'NUMBER_OF_SEATS': 0},\n",
       " {'MANUFACTURE_YEAR': 1989, 'TAIL_NUM': 'N866FE', 'NUMBER_OF_SEATS': 0},\n",
       " {'MANUFACTURE_YEAR': 1989, 'TAIL_NUM': 'N867FE', 'NUMBER_OF_SEATS': 0},\n",
       " {'MANUFACTURE_YEAR': 1989, 'TAIL_NUM': 'N869FE', 'NUMBER_OF_SEATS': 0},\n",
       " {'MANUFACTURE_YEAR': 1989, 'TAIL_NUM': 'N870FE', 'NUMBER_OF_SEATS': 0},\n",
       " {'MANUFACTURE_YEAR': 1989, 'TAIL_NUM': 'N871FE', 'NUMBER_OF_SEATS': 0},\n",
       " {'MANUFACTURE_YEAR': 1989, 'TAIL_NUM': 'N872FE', 'NUMBER_OF_SEATS': 0},\n",
       " {'MANUFACTURE_YEAR': 1989, 'TAIL_NUM': 'N873FE', 'NUMBER_OF_SEATS': 0},\n",
       " {'MANUFACTURE_YEAR': 1989, 'TAIL_NUM': 'N885FE', 'NUMBER_OF_SEATS': 0},\n",
       " {'MANUFACTURE_YEAR': 1989, 'TAIL_NUM': 'N886FE', 'NUMBER_OF_SEATS': 0},\n",
       " {'MANUFACTURE_YEAR': 1989, 'TAIL_NUM': 'N939FE', 'NUMBER_OF_SEATS': 0},\n",
       " {'MANUFACTURE_YEAR': 1989, 'TAIL_NUM': 'N986FE', 'NUMBER_OF_SEATS': 0},\n",
       " {'MANUFACTURE_YEAR': 1989, 'TAIL_NUM': 'N987FE', 'NUMBER_OF_SEATS': 0},\n",
       " {'MANUFACTURE_YEAR': 1989, 'TAIL_NUM': 'N997FE', 'NUMBER_OF_SEATS': 0},\n",
       " {'MANUFACTURE_YEAR': 1989, 'TAIL_NUM': 'N914FD', 'NUMBER_OF_SEATS': 0},\n",
       " {'MANUFACTURE_YEAR': 1989, 'TAIL_NUM': 'N917FD', 'NUMBER_OF_SEATS': 0},\n",
       " {'MANUFACTURE_YEAR': 1989, 'TAIL_NUM': 'N918FD', 'NUMBER_OF_SEATS': 0},\n",
       " {'MANUFACTURE_YEAR': 1989, 'TAIL_NUM': 'N920FD', 'NUMBER_OF_SEATS': 0},\n",
       " {'MANUFACTURE_YEAR': 1989, 'TAIL_NUM': 'N922FD', 'NUMBER_OF_SEATS': 0},\n",
       " {'MANUFACTURE_YEAR': 1989, 'TAIL_NUM': 'N928FD', 'NUMBER_OF_SEATS': 0},\n",
       " {'MANUFACTURE_YEAR': 1989, 'TAIL_NUM': 'N939FD', 'NUMBER_OF_SEATS': 0},\n",
       " {'MANUFACTURE_YEAR': 1989, 'TAIL_NUM': 'N944FD', 'NUMBER_OF_SEATS': 0},\n",
       " {'MANUFACTURE_YEAR': 1989, 'TAIL_NUM': 'N946FD', 'NUMBER_OF_SEATS': 0},\n",
       " {'MANUFACTURE_YEAR': 1989, 'TAIL_NUM': 'N958FD', 'NUMBER_OF_SEATS': 0},\n",
       " {'MANUFACTURE_YEAR': 1989, 'TAIL_NUM': 'N938FD', 'NUMBER_OF_SEATS': 0},\n",
       " {'MANUFACTURE_YEAR': 1989, 'TAIL_NUM': 'N963FD', 'NUMBER_OF_SEATS': 0},\n",
       " {'MANUFACTURE_YEAR': 1989, 'TAIL_NUM': 'N740CK', 'NUMBER_OF_SEATS': 0},\n",
       " {'MANUFACTURE_YEAR': 1989, 'TAIL_NUM': 'N741CK', 'NUMBER_OF_SEATS': 0},\n",
       " {'MANUFACTURE_YEAR': 1989, 'TAIL_NUM': 'N761CK', 'NUMBER_OF_SEATS': 0},\n",
       " {'MANUFACTURE_YEAR': 1989, 'TAIL_NUM': 'N732CK', 'NUMBER_OF_SEATS': 0},\n",
       " {'MANUFACTURE_YEAR': 1989, 'TAIL_NUM': 'N831US', 'NUMBER_OF_SEATS': 0},\n",
       " {'MANUFACTURE_YEAR': 1989, 'TAIL_NUM': 'N502UA', 'NUMBER_OF_SEATS': 170},\n",
       " {'MANUFACTURE_YEAR': 1989, 'TAIL_NUM': 'N803WA', 'NUMBER_OF_SEATS': 153},\n",
       " {'MANUFACTURE_YEAR': 1990, 'TAIL_NUM': 'N688XA', 'NUMBER_OF_SEATS': 150},\n",
       " {'MANUFACTURE_YEAR': 1990, 'TAIL_NUM': 'N706KW', 'NUMBER_OF_SEATS': 280},\n",
       " {'MANUFACTURE_YEAR': 1990, 'TAIL_NUM': 'N416UP', 'NUMBER_OF_SEATS': 0},\n",
       " {'MANUFACTURE_YEAR': 1990, 'TAIL_NUM': 'N417UP', 'NUMBER_OF_SEATS': 0},\n",
       " {'MANUFACTURE_YEAR': 1990, 'TAIL_NUM': 'N418UP', 'NUMBER_OF_SEATS': 0},\n",
       " {'MANUFACTURE_YEAR': 1990, 'TAIL_NUM': 'N419UP', 'NUMBER_OF_SEATS': 0},\n",
       " {'MANUFACTURE_YEAR': 1990, 'TAIL_NUM': 'N420UP', 'NUMBER_OF_SEATS': 0},\n",
       " {'MANUFACTURE_YEAR': 1990, 'TAIL_NUM': 'N465MC', 'NUMBER_OF_SEATS': 524},\n",
       " {'MANUFACTURE_YEAR': 1990, 'TAIL_NUM': 'N780BA', 'NUMBER_OF_SEATS': 0},\n",
       " {'MANUFACTURE_YEAR': 1990, 'TAIL_NUM': 'N429MC', 'NUMBER_OF_SEATS': 0},\n",
       " {'MANUFACTURE_YEAR': 1990, 'TAIL_NUM': 'N640GT', 'NUMBER_OF_SEATS': 269},\n",
       " {'MANUFACTURE_YEAR': 1990, 'TAIL_NUM': 'N313AZ', 'NUMBER_OF_SEATS': 0},\n",
       " {'MANUFACTURE_YEAR': 1990, 'TAIL_NUM': 'N409AZ', 'NUMBER_OF_SEATS': 0},\n",
       " {'MANUFACTURE_YEAR': 1990, 'TAIL_NUM': 'N363CM', 'NUMBER_OF_SEATS': 0},\n",
       " {'MANUFACTURE_YEAR': 1990, 'TAIL_NUM': 'N658DL', 'NUMBER_OF_SEATS': 199},\n",
       " {'MANUFACTURE_YEAR': 1990, 'TAIL_NUM': 'N659DL', 'NUMBER_OF_SEATS': 199},\n",
       " {'MANUFACTURE_YEAR': 1990, 'TAIL_NUM': 'N660DL', 'NUMBER_OF_SEATS': 199},\n",
       " {'MANUFACTURE_YEAR': 1990, 'TAIL_NUM': 'N152DL', 'NUMBER_OF_SEATS': 226},\n",
       " {'MANUFACTURE_YEAR': 1990, 'TAIL_NUM': 'N171DN', 'NUMBER_OF_SEATS': 211},\n",
       " {'MANUFACTURE_YEAR': 1990, 'TAIL_NUM': 'N172DN', 'NUMBER_OF_SEATS': 211},\n",
       " {'MANUFACTURE_YEAR': 1990, 'TAIL_NUM': 'N174DN', 'NUMBER_OF_SEATS': 211},\n",
       " {'MANUFACTURE_YEAR': 1990, 'TAIL_NUM': 'N175DN', 'NUMBER_OF_SEATS': 211},\n",
       " {'MANUFACTURE_YEAR': 1990, 'TAIL_NUM': 'N176DN', 'NUMBER_OF_SEATS': 211},\n",
       " {'MANUFACTURE_YEAR': 1990, 'TAIL_NUM': 'N309US', 'NUMBER_OF_SEATS': 157},\n",
       " {'MANUFACTURE_YEAR': 1990, 'TAIL_NUM': 'N312US', 'NUMBER_OF_SEATS': 157},\n",
       " {'MANUFACTURE_YEAR': 1990, 'TAIL_NUM': 'N958DL', 'NUMBER_OF_SEATS': 149},\n",
       " {'MANUFACTURE_YEAR': 1990, 'TAIL_NUM': 'N960DL', 'NUMBER_OF_SEATS': 149},\n",
       " {'MANUFACTURE_YEAR': 1990, 'TAIL_NUM': 'N963DL', 'NUMBER_OF_SEATS': 149},\n",
       " {'MANUFACTURE_YEAR': 1990, 'TAIL_NUM': 'N964DL', 'NUMBER_OF_SEATS': 149},\n",
       " {'MANUFACTURE_YEAR': 1990, 'TAIL_NUM': 'N965DL', 'NUMBER_OF_SEATS': 149},\n",
       " {'MANUFACTURE_YEAR': 1990, 'TAIL_NUM': 'N966DL', 'NUMBER_OF_SEATS': 149},\n",
       " {'MANUFACTURE_YEAR': 1990, 'TAIL_NUM': 'N967DL', 'NUMBER_OF_SEATS': 149},\n",
       " {'MANUFACTURE_YEAR': 1990, 'TAIL_NUM': 'N968DL', 'NUMBER_OF_SEATS': 149},\n",
       " {'MANUFACTURE_YEAR': 1990, 'TAIL_NUM': 'N969DL', 'NUMBER_OF_SEATS': 149},\n",
       " {'MANUFACTURE_YEAR': 1990, 'TAIL_NUM': 'N970DL', 'NUMBER_OF_SEATS': 149},\n",
       " {'MANUFACTURE_YEAR': 1990, 'TAIL_NUM': 'N726FD', 'NUMBER_OF_SEATS': 0},\n",
       " {'MANUFACTURE_YEAR': 1990, 'TAIL_NUM': 'N728FD', 'NUMBER_OF_SEATS': 0},\n",
       " {'MANUFACTURE_YEAR': 1990, 'TAIL_NUM': 'N740FD', 'NUMBER_OF_SEATS': 0},\n",
       " {'MANUFACTURE_YEAR': 1990, 'TAIL_NUM': 'N723FD', 'NUMBER_OF_SEATS': 0},\n",
       " {'MANUFACTURE_YEAR': 1990, 'TAIL_NUM': 'N750FD', 'NUMBER_OF_SEATS': 0},\n",
       " {'MANUFACTURE_YEAR': 1990, 'TAIL_NUM': 'N901FX', 'NUMBER_OF_SEATS': 0},\n",
       " {'MANUFACTURE_YEAR': 1990, 'TAIL_NUM': 'N903FX', 'NUMBER_OF_SEATS': 0},\n",
       " {'MANUFACTURE_YEAR': 1990, 'TAIL_NUM': 'N750FE', 'NUMBER_OF_SEATS': 0},\n",
       " {'MANUFACTURE_YEAR': 1990, 'TAIL_NUM': 'CFEXX', 'NUMBER_OF_SEATS': 0},\n",
       " {'MANUFACTURE_YEAR': 1990, 'TAIL_NUM': 'N796FE', 'NUMBER_OF_SEATS': 0},\n",
       " {'MANUFACTURE_YEAR': 1990, 'TAIL_NUM': 'N831FE', 'NUMBER_OF_SEATS': 0},\n",
       " {'MANUFACTURE_YEAR': 1990, 'TAIL_NUM': 'N855FE', 'NUMBER_OF_SEATS': 0},\n",
       " {'MANUFACTURE_YEAR': 1990, 'TAIL_NUM': 'N874FE', 'NUMBER_OF_SEATS': 0},\n",
       " {'MANUFACTURE_YEAR': 1990, 'TAIL_NUM': 'N875FE', 'NUMBER_OF_SEATS': 0},\n",
       " {'MANUFACTURE_YEAR': 1990, 'TAIL_NUM': 'N876FE', 'NUMBER_OF_SEATS': 0},\n",
       " {'MANUFACTURE_YEAR': 1990, 'TAIL_NUM': 'N878FE', 'NUMBER_OF_SEATS': 0},\n",
       " {'MANUFACTURE_YEAR': 1990, 'TAIL_NUM': 'N879FE', 'NUMBER_OF_SEATS': 0},\n",
       " {'MANUFACTURE_YEAR': 1990, 'TAIL_NUM': 'N880FE', 'NUMBER_OF_SEATS': 0},\n",
       " {'MANUFACTURE_YEAR': 1990, 'TAIL_NUM': 'N881FE', 'NUMBER_OF_SEATS': 0},\n",
       " {'MANUFACTURE_YEAR': 1990, 'TAIL_NUM': 'N882FE', 'NUMBER_OF_SEATS': 0},\n",
       " {'MANUFACTURE_YEAR': 1990, 'TAIL_NUM': 'N883FE', 'NUMBER_OF_SEATS': 0},\n",
       " {'MANUFACTURE_YEAR': 1990, 'TAIL_NUM': 'N887FE', 'NUMBER_OF_SEATS': 0},\n",
       " {'MANUFACTURE_YEAR': 1990, 'TAIL_NUM': 'N888FE', 'NUMBER_OF_SEATS': 0},\n",
       " {'MANUFACTURE_YEAR': 1990, 'TAIL_NUM': 'N889FE', 'NUMBER_OF_SEATS': 0},\n",
       " {'MANUFACTURE_YEAR': 1990, 'TAIL_NUM': 'N890FE', 'NUMBER_OF_SEATS': 0},\n",
       " {'MANUFACTURE_YEAR': 1990, 'TAIL_NUM': 'N891FE', 'NUMBER_OF_SEATS': 0},\n",
       " {'MANUFACTURE_YEAR': 1990, 'TAIL_NUM': 'N892FE', 'NUMBER_OF_SEATS': 0},\n",
       " {'MANUFACTURE_YEAR': 1990, 'TAIL_NUM': 'N894FE', 'NUMBER_OF_SEATS': 0},\n",
       " {'MANUFACTURE_YEAR': 1990, 'TAIL_NUM': 'N896FE', 'NUMBER_OF_SEATS': 0},\n",
       " {'MANUFACTURE_YEAR': 1990, 'TAIL_NUM': 'N897FE', 'NUMBER_OF_SEATS': 0},\n",
       " {'MANUFACTURE_YEAR': 1990, 'TAIL_NUM': 'N898FE', 'NUMBER_OF_SEATS': 0},\n",
       " {'MANUFACTURE_YEAR': 1990, 'TAIL_NUM': 'N999FE', 'NUMBER_OF_SEATS': 0},\n",
       " {'MANUFACTURE_YEAR': 1990, 'TAIL_NUM': 'N747FE', 'NUMBER_OF_SEATS': 0},\n",
       " {'MANUFACTURE_YEAR': 1990, 'TAIL_NUM': 'N748FE', 'NUMBER_OF_SEATS': 0},\n",
       " {'MANUFACTURE_YEAR': 1990, 'TAIL_NUM': 'N749FE', 'NUMBER_OF_SEATS': 0},\n",
       " {'MANUFACTURE_YEAR': 1990, 'TAIL_NUM': 'N751FE', 'NUMBER_OF_SEATS': 0},\n",
       " {'MANUFACTURE_YEAR': 1990, 'TAIL_NUM': 'N752FE', 'NUMBER_OF_SEATS': 0},\n",
       " {'MANUFACTURE_YEAR': 1990, 'TAIL_NUM': 'N877FE', 'NUMBER_OF_SEATS': 0},\n",
       " {'MANUFACTURE_YEAR': 1990, 'TAIL_NUM': 'N884FE', 'NUMBER_OF_SEATS': 0},\n",
       " {'MANUFACTURE_YEAR': 1990, 'TAIL_NUM': 'N899FE', 'NUMBER_OF_SEATS': 0},\n",
       " {'MANUFACTURE_YEAR': 1990, 'TAIL_NUM': 'N919FD', 'NUMBER_OF_SEATS': 0},\n",
       " {'MANUFACTURE_YEAR': 1990, 'TAIL_NUM': 'N940FD', 'NUMBER_OF_SEATS': 0},\n",
       " {'MANUFACTURE_YEAR': 1990, 'TAIL_NUM': 'N947FD', 'NUMBER_OF_SEATS': 0},\n",
       " {'MANUFACTURE_YEAR': 1990, 'TAIL_NUM': 'N957FD', 'NUMBER_OF_SEATS': 0},\n",
       " {'MANUFACTURE_YEAR': 1990, 'TAIL_NUM': 'N964FD', 'NUMBER_OF_SEATS': 0},\n",
       " {'MANUFACTURE_YEAR': 1990, 'TAIL_NUM': 'N770FD', 'NUMBER_OF_SEATS': 0},\n",
       " {'MANUFACTURE_YEAR': 1990, 'TAIL_NUM': 'N997FD', 'NUMBER_OF_SEATS': 0},\n",
       " {'MANUFACTURE_YEAR': 1990, 'TAIL_NUM': 'N998FD', 'NUMBER_OF_SEATS': 0},\n",
       " {'MANUFACTURE_YEAR': 1990, 'TAIL_NUM': 'N985FD', 'NUMBER_OF_SEATS': 0},\n",
       " {'MANUFACTURE_YEAR': 1990, 'TAIL_NUM': 'N773FD', 'NUMBER_OF_SEATS': 0},\n",
       " {'MANUFACTURE_YEAR': 1990, 'TAIL_NUM': 'N771FD', 'NUMBER_OF_SEATS': 0},\n",
       " {'MANUFACTURE_YEAR': 1990, 'TAIL_NUM': 'N772FD', 'NUMBER_OF_SEATS': 0},\n",
       " {'MANUFACTURE_YEAR': 1990, 'TAIL_NUM': 'N999FD', 'NUMBER_OF_SEATS': 0},\n",
       " {'MANUFACTURE_YEAR': 1990, 'TAIL_NUM': 'N742CK', 'NUMBER_OF_SEATS': 0},\n",
       " {'MANUFACTURE_YEAR': 1990, 'TAIL_NUM': 'N703CK', 'NUMBER_OF_SEATS': 0},\n",
       " {'MANUFACTURE_YEAR': 1990, 'TAIL_NUM': 'N760CK', 'NUMBER_OF_SEATS': 0},\n",
       " {'MANUFACTURE_YEAR': 1990, 'TAIL_NUM': 'N411SN', 'NUMBER_OF_SEATS': 0},\n",
       " {'MANUFACTURE_YEAR': 1990, 'TAIL_NUM': 'N412SN', 'NUMBER_OF_SEATS': 0},\n",
       " {'MANUFACTURE_YEAR': 1990, 'TAIL_NUM': 'N373CM'},\n",
       " {'MANUFACTURE_YEAR': 1990, 'TAIL_NUM': 'N176CA', 'NUMBER_OF_SEATS': 170},\n",
       " {'MANUFACTURE_YEAR': 1990, 'TAIL_NUM': 'N5025', 'NUMBER_OF_SEATS': 0},\n",
       " {'MANUFACTURE_YEAR': 1990, 'TAIL_NUM': 'N510UA', 'NUMBER_OF_SEATS': 170},\n",
       " {'MANUFACTURE_YEAR': 1990, 'TAIL_NUM': 'N512UA', 'NUMBER_OF_SEATS': 170},\n",
       " {'MANUFACTURE_YEAR': 1990, 'TAIL_NUM': 'N802WA', 'NUMBER_OF_SEATS': 150},\n",
       " {'MANUFACTURE_YEAR': 1990, 'TAIL_NUM': 'N808WA', 'NUMBER_OF_SEATS': 155},\n",
       " {'MANUFACTURE_YEAR': 1991, 'TAIL_NUM': 'N703KW', 'NUMBER_OF_SEATS': 272},\n",
       " {'MANUFACTURE_YEAR': 1991, 'TAIL_NUM': 'N732KA', 'NUMBER_OF_SEATS': 58},\n",
       " {'MANUFACTURE_YEAR': 1991, 'TAIL_NUM': 'N258UP', 'NUMBER_OF_SEATS': 0},\n",
       " {'MANUFACTURE_YEAR': 1991, 'TAIL_NUM': 'N259UP', 'NUMBER_OF_SEATS': 0},\n",
       " {'MANUFACTURE_YEAR': 1991, 'TAIL_NUM': 'N282UP', 'NUMBER_OF_SEATS': 0},\n",
       " {'MANUFACTURE_YEAR': 1991, 'TAIL_NUM': 'N283UP', 'NUMBER_OF_SEATS': 0},\n",
       " {'MANUFACTURE_YEAR': 1991, 'TAIL_NUM': 'N286UP', 'NUMBER_OF_SEATS': 0},\n",
       " {'MANUFACTURE_YEAR': 1991, 'TAIL_NUM': 'N293UP', 'NUMBER_OF_SEATS': 0},\n",
       " {'MANUFACTURE_YEAR': 1991, 'TAIL_NUM': 'N294UP', 'NUMBER_OF_SEATS': 0},\n",
       " {'MANUFACTURE_YEAR': 1991, 'TAIL_NUM': 'N296UP', 'NUMBER_OF_SEATS': 0},\n",
       " {'MANUFACTURE_YEAR': 1991, 'TAIL_NUM': 'N421UP', 'NUMBER_OF_SEATS': 0},\n",
       " {'MANUFACTURE_YEAR': 1991, 'TAIL_NUM': 'N422UP', 'NUMBER_OF_SEATS': 0},\n",
       " {'MANUFACTURE_YEAR': 1991, 'TAIL_NUM': 'N423UP', 'NUMBER_OF_SEATS': 0},\n",
       " {'MANUFACTURE_YEAR': 1991, 'TAIL_NUM': 'N424UP', 'NUMBER_OF_SEATS': 0},\n",
       " {'MANUFACTURE_YEAR': 1991, 'TAIL_NUM': 'N425UP', 'NUMBER_OF_SEATS': 0},\n",
       " {'MANUFACTURE_YEAR': 1991, 'TAIL_NUM': 'N531UA', 'NUMBER_OF_SEATS': 0},\n",
       " {'MANUFACTURE_YEAR': 1991, 'TAIL_NUM': 'N311AZ', 'NUMBER_OF_SEATS': 0},\n",
       " {'MANUFACTURE_YEAR': 1991, 'TAIL_NUM': 'N331AZ', 'NUMBER_OF_SEATS': 0},\n",
       " {'MANUFACTURE_YEAR': 1991, 'TAIL_NUM': 'N654A', 'NUMBER_OF_SEATS': 184},\n",
       " {'MANUFACTURE_YEAR': 1991, 'TAIL_NUM': 'N220CY', 'NUMBER_OF_SEATS': 0},\n",
       " {'MANUFACTURE_YEAR': 1991, 'TAIL_NUM': 'N665DN', 'NUMBER_OF_SEATS': 199},\n",
       " {'MANUFACTURE_YEAR': 1991, 'TAIL_NUM': 'N667DN', 'NUMBER_OF_SEATS': 199},\n",
       " {'MANUFACTURE_YEAR': 1991, 'TAIL_NUM': 'N668DN', 'NUMBER_OF_SEATS': 199},\n",
       " {'MANUFACTURE_YEAR': 1991, 'TAIL_NUM': 'N669DN', 'NUMBER_OF_SEATS': 199},\n",
       " {'MANUFACTURE_YEAR': 1991, 'TAIL_NUM': 'N154DL', 'NUMBER_OF_SEATS': 226},\n",
       " {'MANUFACTURE_YEAR': 1991, 'TAIL_NUM': 'N155DL', 'NUMBER_OF_SEATS': 226},\n",
       " {'MANUFACTURE_YEAR': 1991, 'TAIL_NUM': 'N156DL', 'NUMBER_OF_SEATS': 226},\n",
       " {'MANUFACTURE_YEAR': 1991, 'TAIL_NUM': 'N177DN', 'NUMBER_OF_SEATS': 211},\n",
       " {'MANUFACTURE_YEAR': 1991, 'TAIL_NUM': 'N178DN', 'NUMBER_OF_SEATS': 211},\n",
       " {'MANUFACTURE_YEAR': 1991, 'TAIL_NUM': 'N179DN', 'NUMBER_OF_SEATS': 211},\n",
       " {'MANUFACTURE_YEAR': 1991, 'TAIL_NUM': 'N317US', 'NUMBER_OF_SEATS': 157},\n",
       " {'MANUFACTURE_YEAR': 1991, 'TAIL_NUM': 'N319US', 'NUMBER_OF_SEATS': 157},\n",
       " {'MANUFACTURE_YEAR': 1991, 'TAIL_NUM': 'N320US', 'NUMBER_OF_SEATS': 157},\n",
       " {'MANUFACTURE_YEAR': 1991, 'TAIL_NUM': 'N321US', 'NUMBER_OF_SEATS': 157},\n",
       " {'MANUFACTURE_YEAR': 1991, 'TAIL_NUM': 'N322US', 'NUMBER_OF_SEATS': 157},\n",
       " {'MANUFACTURE_YEAR': 1991, 'TAIL_NUM': 'N323US', 'NUMBER_OF_SEATS': 157},\n",
       " {'MANUFACTURE_YEAR': 1991, 'TAIL_NUM': 'N324US', 'NUMBER_OF_SEATS': 157},\n",
       " {'MANUFACTURE_YEAR': 1991, 'TAIL_NUM': 'N325US', 'NUMBER_OF_SEATS': 157},\n",
       " {'MANUFACTURE_YEAR': 1991, 'TAIL_NUM': 'N326US', 'NUMBER_OF_SEATS': 157},\n",
       " {'MANUFACTURE_YEAR': 1991, 'TAIL_NUM': 'N971DL', 'NUMBER_OF_SEATS': 149},\n",
       " {'MANUFACTURE_YEAR': 1991, 'TAIL_NUM': 'N972DL', 'NUMBER_OF_SEATS': 149},\n",
       " {'MANUFACTURE_YEAR': 1991, 'TAIL_NUM': 'N973DL', 'NUMBER_OF_SEATS': 149},\n",
       " {'MANUFACTURE_YEAR': 1991, 'TAIL_NUM': 'N974DL', 'NUMBER_OF_SEATS': 149},\n",
       " {'MANUFACTURE_YEAR': 1991, 'TAIL_NUM': 'N976DL', 'NUMBER_OF_SEATS': 149},\n",
       " {'MANUFACTURE_YEAR': 1991, 'TAIL_NUM': 'N978DL', 'NUMBER_OF_SEATS': 149},\n",
       " {'MANUFACTURE_YEAR': 1991, 'TAIL_NUM': 'N979DL', 'NUMBER_OF_SEATS': 149},\n",
       " {'MANUFACTURE_YEAR': 1991, 'TAIL_NUM': 'N990DL', 'NUMBER_OF_SEATS': 149},\n",
       " {'MANUFACTURE_YEAR': 1991, 'TAIL_NUM': 'N991DL', 'NUMBER_OF_SEATS': 149},\n",
       " {'MANUFACTURE_YEAR': 1991, 'TAIL_NUM': 'N993DL', 'NUMBER_OF_SEATS': 149},\n",
       " {'MANUFACTURE_YEAR': 1991, 'TAIL_NUM': 'N994DL', 'NUMBER_OF_SEATS': 149},\n",
       " {'MANUFACTURE_YEAR': 1991, 'TAIL_NUM': 'N995DL', 'NUMBER_OF_SEATS': 149},\n",
       " {'MANUFACTURE_YEAR': 1991, 'TAIL_NUM': 'N996DL', 'NUMBER_OF_SEATS': 149},\n",
       " {'MANUFACTURE_YEAR': 1991, 'TAIL_NUM': 'N727FD', 'NUMBER_OF_SEATS': 0},\n",
       " {'MANUFACTURE_YEAR': 1991, 'TAIL_NUM': 'N741FD', 'NUMBER_OF_SEATS': 0},\n",
       " {'MANUFACTURE_YEAR': 1991, 'TAIL_NUM': 'N742FD', 'NUMBER_OF_SEATS': 0},\n",
       " {'MANUFACTURE_YEAR': 1991, 'TAIL_NUM': 'N909FX', 'NUMBER_OF_SEATS': 0},\n",
       " {'MANUFACTURE_YEAR': 1991, 'TAIL_NUM': 'N910FX', 'NUMBER_OF_SEATS': 0},\n",
       " {'MANUFACTURE_YEAR': 1991, 'TAIL_NUM': 'N913FX', 'NUMBER_OF_SEATS': 0},\n",
       " {'MANUFACTURE_YEAR': 1991, 'TAIL_NUM': 'N915FX', 'NUMBER_OF_SEATS': 0},\n",
       " {'MANUFACTURE_YEAR': 1991, 'TAIL_NUM': 'N918FX', 'NUMBER_OF_SEATS': 0},\n",
       " {'MANUFACTURE_YEAR': 1991, 'TAIL_NUM': 'N919FX', 'NUMBER_OF_SEATS': 0},\n",
       " {'MANUFACTURE_YEAR': 1991, 'TAIL_NUM': 'EIFXB', 'NUMBER_OF_SEATS': 0},\n",
       " {'MANUFACTURE_YEAR': 1991, 'TAIL_NUM': 'EIFXD', 'NUMBER_OF_SEATS': 0},\n",
       " {'MANUFACTURE_YEAR': 1991, 'TAIL_NUM': 'ECKAI', 'NUMBER_OF_SEATS': 0},\n",
       " {'MANUFACTURE_YEAR': 1991, 'TAIL_NUM': 'CFTAR', 'NUMBER_OF_SEATS': 0},\n",
       " {'MANUFACTURE_YEAR': 1991, 'TAIL_NUM': 'N810FX', 'NUMBER_OF_SEATS': 0},\n",
       " {'MANUFACTURE_YEAR': 1991, 'TAIL_NUM': 'EIFXG', 'NUMBER_OF_SEATS': 0},\n",
       " {'MANUFACTURE_YEAR': 1991, 'TAIL_NUM': 'EIFXH', 'NUMBER_OF_SEATS': 0},\n",
       " {'MANUFACTURE_YEAR': 1991, 'TAIL_NUM': 'EIFXK', 'NUMBER_OF_SEATS': 0},\n",
       " {'MANUFACTURE_YEAR': 1991, 'TAIL_NUM': 'N820FX', 'NUMBER_OF_SEATS': 0},\n",
       " {'MANUFACTURE_YEAR': 1991, 'TAIL_NUM': 'N821FX', 'NUMBER_OF_SEATS': 0},\n",
       " {'MANUFACTURE_YEAR': 1991, 'TAIL_NUM': 'N761FE', 'NUMBER_OF_SEATS': 0},\n",
       " {'MANUFACTURE_YEAR': 1991, 'TAIL_NUM': 'N762FE', 'NUMBER_OF_SEATS': 0},\n",
       " {'MANUFACTURE_YEAR': 1991, 'TAIL_NUM': 'N763FE', 'NUMBER_OF_SEATS': 0},\n",
       " {'MANUFACTURE_YEAR': 1991, 'TAIL_NUM': 'N764FE', 'NUMBER_OF_SEATS': 0},\n",
       " {'MANUFACTURE_YEAR': 1991, 'TAIL_NUM': 'N765FE', 'NUMBER_OF_SEATS': 0},\n",
       " {'MANUFACTURE_YEAR': 1991, 'TAIL_NUM': 'N767FE', 'NUMBER_OF_SEATS': 0},\n",
       " {'MANUFACTURE_YEAR': 1991, 'TAIL_NUM': 'N768FE', 'NUMBER_OF_SEATS': 0},\n",
       " {'MANUFACTURE_YEAR': 1991, 'TAIL_NUM': 'N770FE', 'NUMBER_OF_SEATS': 0},\n",
       " {'MANUFACTURE_YEAR': 1991, 'TAIL_NUM': 'N771FE', 'NUMBER_OF_SEATS': 0},\n",
       " {'MANUFACTURE_YEAR': 1991, 'TAIL_NUM': 'N772FE', 'NUMBER_OF_SEATS': 0},\n",
       " {'MANUFACTURE_YEAR': 1991, 'TAIL_NUM': 'N773FE', 'NUMBER_OF_SEATS': 0},\n",
       " {'MANUFACTURE_YEAR': 1991, 'TAIL_NUM': 'N774FE', 'NUMBER_OF_SEATS': 0},\n",
       " {'MANUFACTURE_YEAR': 1991, 'TAIL_NUM': 'N775FE', 'NUMBER_OF_SEATS': 0},\n",
       " {'MANUFACTURE_YEAR': 1991, 'TAIL_NUM': 'N778FE', 'NUMBER_OF_SEATS': 0},\n",
       " {'MANUFACTURE_YEAR': 1991, 'TAIL_NUM': 'N779FE', 'NUMBER_OF_SEATS': 0},\n",
       " {'MANUFACTURE_YEAR': 1991, 'TAIL_NUM': 'N780FE', 'NUMBER_OF_SEATS': 0},\n",
       " {'MANUFACTURE_YEAR': 1991, 'TAIL_NUM': 'N781FE', 'NUMBER_OF_SEATS': 0},\n",
       " {'MANUFACTURE_YEAR': 1991, 'TAIL_NUM': 'N782FE', 'NUMBER_OF_SEATS': 0},\n",
       " {'MANUFACTURE_YEAR': 1991, 'TAIL_NUM': 'N783FE', 'NUMBER_OF_SEATS': 0},\n",
       " {'MANUFACTURE_YEAR': 1991, 'TAIL_NUM': 'N784FE', 'NUMBER_OF_SEATS': 0},\n",
       " {'MANUFACTURE_YEAR': 1991, 'TAIL_NUM': 'N785FE', 'NUMBER_OF_SEATS': 0},\n",
       " {'MANUFACTURE_YEAR': 1991, 'TAIL_NUM': 'N786FE', 'NUMBER_OF_SEATS': 0},\n",
       " {'MANUFACTURE_YEAR': 1991, 'TAIL_NUM': 'N787FE', 'NUMBER_OF_SEATS': 0},\n",
       " {'MANUFACTURE_YEAR': 1991, 'TAIL_NUM': 'N788FE', 'NUMBER_OF_SEATS': 0},\n",
       " {'MANUFACTURE_YEAR': 1991, 'TAIL_NUM': 'N789FE', 'NUMBER_OF_SEATS': 0},\n",
       " {'MANUFACTURE_YEAR': 1991, 'TAIL_NUM': 'N790FE', 'NUMBER_OF_SEATS': 0},\n",
       " {'MANUFACTURE_YEAR': 1991, 'TAIL_NUM': 'N792FE', 'NUMBER_OF_SEATS': 0},\n",
       " {'MANUFACTURE_YEAR': 1991, 'TAIL_NUM': 'N794FE', 'NUMBER_OF_SEATS': 0},\n",
       " {'MANUFACTURE_YEAR': 1991, 'TAIL_NUM': 'N795FE', 'NUMBER_OF_SEATS': 0},\n",
       " {'MANUFACTURE_YEAR': 1991, 'TAIL_NUM': 'N574FE', 'NUMBER_OF_SEATS': 0},\n",
       " {'MANUFACTURE_YEAR': 1991, 'TAIL_NUM': 'N631FE', 'NUMBER_OF_SEATS': 0},\n",
       " {'MANUFACTURE_YEAR': 1991, 'TAIL_NUM': 'N601FE', 'NUMBER_OF_SEATS': 0},\n",
       " {'MANUFACTURE_YEAR': 1991, 'TAIL_NUM': 'N603FE', 'NUMBER_OF_SEATS': 0},\n",
       " {'MANUFACTURE_YEAR': 1991, 'TAIL_NUM': 'N582FE', 'NUMBER_OF_SEATS': 0},\n",
       " {'MANUFACTURE_YEAR': 1991, 'TAIL_NUM': 'N586FE', 'NUMBER_OF_SEATS': 0},\n",
       " {'MANUFACTURE_YEAR': 1991, 'TAIL_NUM': 'N602FE', 'NUMBER_OF_SEATS': 0},\n",
       " {'MANUFACTURE_YEAR': 1991, 'TAIL_NUM': 'N592FE', 'NUMBER_OF_SEATS': 0},\n",
       " {'MANUFACTURE_YEAR': 1991, 'TAIL_NUM': 'N910FD', 'NUMBER_OF_SEATS': 0},\n",
       " {'MANUFACTURE_YEAR': 1991, 'TAIL_NUM': 'N921FD', 'NUMBER_OF_SEATS': 0},\n",
       " {'MANUFACTURE_YEAR': 1991, 'TAIL_NUM': 'N930FD', 'NUMBER_OF_SEATS': 0},\n",
       " {'MANUFACTURE_YEAR': 1991, 'TAIL_NUM': 'N948FD', 'NUMBER_OF_SEATS': 0},\n",
       " {'MANUFACTURE_YEAR': 1991, 'TAIL_NUM': 'N949FD', 'NUMBER_OF_SEATS': 0},\n",
       " {'MANUFACTURE_YEAR': 1991, 'TAIL_NUM': 'N959FD', 'NUMBER_OF_SEATS': 0},\n",
       " {'MANUFACTURE_YEAR': 1991, 'TAIL_NUM': 'N961FD', 'NUMBER_OF_SEATS': 0},\n",
       " {'MANUFACTURE_YEAR': 1991, 'TAIL_NUM': 'N786FD', 'NUMBER_OF_SEATS': 0},\n",
       " {'MANUFACTURE_YEAR': 1991, 'TAIL_NUM': 'N780FD', 'NUMBER_OF_SEATS': 0},\n",
       " {'MANUFACTURE_YEAR': 1991, 'TAIL_NUM': 'N775FD', 'NUMBER_OF_SEATS': 0},\n",
       " {'MANUFACTURE_YEAR': 1991, 'TAIL_NUM': 'N776FD', 'NUMBER_OF_SEATS': 0},\n",
       " {'MANUFACTURE_YEAR': 1991, 'TAIL_NUM': 'N777FD', 'NUMBER_OF_SEATS': 0},\n",
       " {'MANUFACTURE_YEAR': 1991, 'TAIL_NUM': 'N778FD', 'NUMBER_OF_SEATS': 0},\n",
       " {'MANUFACTURE_YEAR': 1991, 'TAIL_NUM': 'N779FD', 'NUMBER_OF_SEATS': 0},\n",
       " {'MANUFACTURE_YEAR': 1991, 'TAIL_NUM': 'N583FE', 'NUMBER_OF_SEATS': 0},\n",
       " {'MANUFACTURE_YEAR': 1991, 'TAIL_NUM': 'N590FE', 'NUMBER_OF_SEATS': 0},\n",
       " {'MANUFACTURE_YEAR': 1991, 'TAIL_NUM': 'N708CK', 'NUMBER_OF_SEATS': 0},\n",
       " {'MANUFACTURE_YEAR': 1991, 'TAIL_NUM': 'N435KD', 'NUMBER_OF_SEATS': 0},\n",
       " {'MANUFACTURE_YEAR': 1991, 'TAIL_NUM': 'N405CK', 'NUMBER_OF_SEATS': 0},\n",
       " {'MANUFACTURE_YEAR': 1991, 'TAIL_NUM': 'N407LC', 'NUMBER_OF_SEATS': 0},\n",
       " {'MANUFACTURE_YEAR': 1991, 'TAIL_NUM': 'N396CM'},\n",
       " {'MANUFACTURE_YEAR': 1991, 'TAIL_NUM': 'N567CA', 'NUMBER_OF_SEATS': 184},\n",
       " {'MANUFACTURE_YEAR': 1991, 'TAIL_NUM': 'N952CA', 'NUMBER_OF_SEATS': 0},\n",
       " {'MANUFACTURE_YEAR': 1991, 'TAIL_NUM': 'N919CA', 'NUMBER_OF_SEATS': 0},\n",
       " {'MANUFACTURE_YEAR': 1991, 'TAIL_NUM': 'N688SL', 'NUMBER_OF_SEATS': 0},\n",
       " {'MANUFACTURE_YEAR': 1991, 'TAIL_NUM': 'N641UA', 'NUMBER_OF_SEATS': 198},\n",
       " {'MANUFACTURE_YEAR': 1991, 'TAIL_NUM': 'N644UA', 'NUMBER_OF_SEATS': 198},\n",
       " {'MANUFACTURE_YEAR': 1991, 'TAIL_NUM': 'N546UA', 'NUMBER_OF_SEATS': 170},\n",
       " {'MANUFACTURE_YEAR': 1991, 'TAIL_NUM': 'N642UA', 'NUMBER_OF_SEATS': 198},\n",
       " {'MANUFACTURE_YEAR': 1991, 'TAIL_NUM': 'N643UA', 'NUMBER_OF_SEATS': 198},\n",
       " {'MANUFACTURE_YEAR': 1991, 'TAIL_NUM': 'N950AR', 'NUMBER_OF_SEATS': 0},\n",
       " {'MANUFACTURE_YEAR': 1991, 'TAIL_NUM': 'N806WA', 'NUMBER_OF_SEATS': 150},\n",
       " {'MANUFACTURE_YEAR': 1992, 'TAIL_NUM': 'N700KW', 'NUMBER_OF_SEATS': 240},\n",
       " {'MANUFACTURE_YEAR': 1992, 'TAIL_NUM': 'N705KW', 'NUMBER_OF_SEATS': 280},\n",
       " {'MANUFACTURE_YEAR': 1992, 'TAIL_NUM': 'N403TB', 'NUMBER_OF_SEATS': 16},\n",
       " {'MANUFACTURE_YEAR': 1992, 'TAIL_NUM': 'N964CE', 'NUMBER_OF_SEATS': 0},\n",
       " {'MANUFACTURE_YEAR': 1992, 'TAIL_NUM': 'N965CE', 'NUMBER_OF_SEATS': 0},\n",
       " {'MANUFACTURE_YEAR': 1992, 'TAIL_NUM': 'N255UP', 'NUMBER_OF_SEATS': 0},\n",
       " {'MANUFACTURE_YEAR': 1992, 'TAIL_NUM': 'N256UP', 'NUMBER_OF_SEATS': 0},\n",
       " {'MANUFACTURE_YEAR': 1992, 'TAIL_NUM': 'N257UP', 'NUMBER_OF_SEATS': 0},\n",
       " {'MANUFACTURE_YEAR': 1992, 'TAIL_NUM': 'N260UP', 'NUMBER_OF_SEATS': 0},\n",
       " {'MANUFACTURE_YEAR': 1992, 'TAIL_NUM': 'N285UP', 'NUMBER_OF_SEATS': 0},\n",
       " {'MANUFACTURE_YEAR': 1992, 'TAIL_NUM': 'N289UP', 'NUMBER_OF_SEATS': 0},\n",
       " {'MANUFACTURE_YEAR': 1992, 'TAIL_NUM': 'N290UP', 'NUMBER_OF_SEATS': 0},\n",
       " {'MANUFACTURE_YEAR': 1992, 'TAIL_NUM': 'N291UP', 'NUMBER_OF_SEATS': 0},\n",
       " {'MANUFACTURE_YEAR': 1992, 'TAIL_NUM': 'N295UP', 'NUMBER_OF_SEATS': 0},\n",
       " {'MANUFACTURE_YEAR': 1992, 'TAIL_NUM': 'N426UP', 'NUMBER_OF_SEATS': 0},\n",
       " {'MANUFACTURE_YEAR': 1992, 'TAIL_NUM': 'N427UP', 'NUMBER_OF_SEATS': 0},\n",
       " {'MANUFACTURE_YEAR': 1992, 'TAIL_NUM': 'N428UP', 'NUMBER_OF_SEATS': 0},\n",
       " {'MANUFACTURE_YEAR': 1992, 'TAIL_NUM': 'N429UP', 'NUMBER_OF_SEATS': 0},\n",
       " {'MANUFACTURE_YEAR': 1992, 'TAIL_NUM': 'N430UP', 'NUMBER_OF_SEATS': 0},\n",
       " {'MANUFACTURE_YEAR': 1992, 'TAIL_NUM': 'N464MC', 'NUMBER_OF_SEATS': 524},\n",
       " {'MANUFACTURE_YEAR': 1992, 'TAIL_NUM': 'N472MC', 'NUMBER_OF_SEATS': 0},\n",
       " {'MANUFACTURE_YEAR': 1992, 'TAIL_NUM': 'N718BA', 'NUMBER_OF_SEATS': 0},\n",
       " {'MANUFACTURE_YEAR': 1992, 'TAIL_NUM': 'N747BC', 'NUMBER_OF_SEATS': 0},\n",
       " {'MANUFACTURE_YEAR': 1992, 'TAIL_NUM': 'N1217A', 'NUMBER_OF_SEATS': 269},\n",
       " {'MANUFACTURE_YEAR': 1992, 'TAIL_NUM': 'N641GT', 'NUMBER_OF_SEATS': 269},\n",
       " {'MANUFACTURE_YEAR': 1992, 'TAIL_NUM': 'N649GT', 'NUMBER_OF_SEATS': 269},\n",
       " {'MANUFACTURE_YEAR': 1992, 'TAIL_NUM': 'N753CX', 'NUMBER_OF_SEATS': 42},\n",
       " {'MANUFACTURE_YEAR': 1992, 'TAIL_NUM': 'N353AZ', 'NUMBER_OF_SEATS': 0},\n",
       " {'MANUFACTURE_YEAR': 1992, 'TAIL_NUM': 'N379AZ', 'NUMBER_OF_SEATS': 0},\n",
       " {'MANUFACTURE_YEAR': 1992, 'TAIL_NUM': 'N376AN', 'NUMBER_OF_SEATS': 0},\n",
       " {'MANUFACTURE_YEAR': 1992, 'TAIL_NUM': 'N395CM', 'NUMBER_OF_SEATS': 0},\n",
       " {'MANUFACTURE_YEAR': 1992, 'TAIL_NUM': 'N360CM', 'NUMBER_OF_SEATS': 0},\n",
       " {'MANUFACTURE_YEAR': 1992, 'TAIL_NUM': 'N372CM', 'NUMBER_OF_SEATS': 0},\n",
       " {'MANUFACTURE_YEAR': 1992, 'TAIL_NUM': 'N226CY', 'NUMBER_OF_SEATS': 0},\n",
       " {'MANUFACTURE_YEAR': 1992, 'TAIL_NUM': 'N670DN', 'NUMBER_OF_SEATS': 199},\n",
       " {'MANUFACTURE_YEAR': 1992, 'TAIL_NUM': 'N671DN', 'NUMBER_OF_SEATS': 199},\n",
       " {'MANUFACTURE_YEAR': 1992, 'TAIL_NUM': 'N672DL', 'NUMBER_OF_SEATS': 199},\n",
       " {'MANUFACTURE_YEAR': 1992, 'TAIL_NUM': 'N673DL', 'NUMBER_OF_SEATS': 199},\n",
       " {'MANUFACTURE_YEAR': 1992, 'TAIL_NUM': 'N674DL', 'NUMBER_OF_SEATS': 199},\n",
       " {'MANUFACTURE_YEAR': 1992, 'TAIL_NUM': 'N675DL', 'NUMBER_OF_SEATS': 199},\n",
       " {'MANUFACTURE_YEAR': 1992, 'TAIL_NUM': 'N676DL', 'NUMBER_OF_SEATS': 199},\n",
       " {'MANUFACTURE_YEAR': 1992, 'TAIL_NUM': 'N678DL', 'NUMBER_OF_SEATS': 199},\n",
       " {'MANUFACTURE_YEAR': 1992, 'TAIL_NUM': 'N679DA', 'NUMBER_OF_SEATS': 199},\n",
       " {'MANUFACTURE_YEAR': 1992, 'TAIL_NUM': 'N680DA', 'NUMBER_OF_SEATS': 199},\n",
       " {'MANUFACTURE_YEAR': 1992, 'TAIL_NUM': 'N180DN', 'NUMBER_OF_SEATS': 226},\n",
       " {'MANUFACTURE_YEAR': 1992, 'TAIL_NUM': 'N181DN', 'NUMBER_OF_SEATS': 226},\n",
       " {'MANUFACTURE_YEAR': 1992, 'TAIL_NUM': 'N182DN', 'NUMBER_OF_SEATS': 226},\n",
       " {'MANUFACTURE_YEAR': 1992, 'TAIL_NUM': 'N327NW', 'NUMBER_OF_SEATS': 157},\n",
       " {'MANUFACTURE_YEAR': 1992, 'TAIL_NUM': 'N328NW', 'NUMBER_OF_SEATS': 157},\n",
       " {'MANUFACTURE_YEAR': 1992, 'TAIL_NUM': 'N329NW', 'NUMBER_OF_SEATS': 157},\n",
       " {'MANUFACTURE_YEAR': 1992, 'TAIL_NUM': 'N330NW', 'NUMBER_OF_SEATS': 157},\n",
       " {'MANUFACTURE_YEAR': 1992, 'TAIL_NUM': 'N331NW', 'NUMBER_OF_SEATS': 157},\n",
       " {'MANUFACTURE_YEAR': 1992, 'TAIL_NUM': 'N332NW', 'NUMBER_OF_SEATS': 157},\n",
       " {'MANUFACTURE_YEAR': 1992, 'TAIL_NUM': 'N333NW', 'NUMBER_OF_SEATS': 157},\n",
       " {'MANUFACTURE_YEAR': 1992, 'TAIL_NUM': 'N334NW', 'NUMBER_OF_SEATS': 157},\n",
       " {'MANUFACTURE_YEAR': 1992, 'TAIL_NUM': 'N335NW', 'NUMBER_OF_SEATS': 157},\n",
       " {'MANUFACTURE_YEAR': 1992, 'TAIL_NUM': 'N336NW', 'NUMBER_OF_SEATS': 157},\n",
       " {'MANUFACTURE_YEAR': 1992, 'TAIL_NUM': 'N337NW', 'NUMBER_OF_SEATS': 157},\n",
       " {'MANUFACTURE_YEAR': 1992, 'TAIL_NUM': 'N338NW', 'NUMBER_OF_SEATS': 157},\n",
       " {'MANUFACTURE_YEAR': 1992, 'TAIL_NUM': 'N339NW', 'NUMBER_OF_SEATS': 157},\n",
       " {'MANUFACTURE_YEAR': 1992, 'TAIL_NUM': 'N340NW', 'NUMBER_OF_SEATS': 157},\n",
       " {'MANUFACTURE_YEAR': 1992, 'TAIL_NUM': 'N341NW', 'NUMBER_OF_SEATS': 157},\n",
       " {'MANUFACTURE_YEAR': 1992, 'TAIL_NUM': 'N342NW', 'NUMBER_OF_SEATS': 157},\n",
       " {'MANUFACTURE_YEAR': 1992, 'TAIL_NUM': 'N343NW', 'NUMBER_OF_SEATS': 157},\n",
       " {'MANUFACTURE_YEAR': 1992, 'TAIL_NUM': 'N344NW', 'NUMBER_OF_SEATS': 157},\n",
       " {'MANUFACTURE_YEAR': 1992, 'TAIL_NUM': 'N900DE', 'NUMBER_OF_SEATS': 149},\n",
       " {'MANUFACTURE_YEAR': 1992, 'TAIL_NUM': 'N901DE', 'NUMBER_OF_SEATS': 149},\n",
       " {'MANUFACTURE_YEAR': 1992, 'TAIL_NUM': 'N902DE', 'NUMBER_OF_SEATS': 149},\n",
       " {'MANUFACTURE_YEAR': 1992, 'TAIL_NUM': 'N903DE', 'NUMBER_OF_SEATS': 149},\n",
       " {'MANUFACTURE_YEAR': 1992, 'TAIL_NUM': 'N904DE', 'NUMBER_OF_SEATS': 149},\n",
       " {'MANUFACTURE_YEAR': 1992, 'TAIL_NUM': 'N905DE', 'NUMBER_OF_SEATS': 149},\n",
       " {'MANUFACTURE_YEAR': 1992, 'TAIL_NUM': 'N906DE', 'NUMBER_OF_SEATS': 149},\n",
       " {'MANUFACTURE_YEAR': 1992, 'TAIL_NUM': 'N907DE', 'NUMBER_OF_SEATS': 149},\n",
       " {'MANUFACTURE_YEAR': 1992, 'TAIL_NUM': 'N908DE', 'NUMBER_OF_SEATS': 149},\n",
       " {'MANUFACTURE_YEAR': 1992, 'TAIL_NUM': 'N909DE', 'NUMBER_OF_SEATS': 149},\n",
       " {'MANUFACTURE_YEAR': 1992, 'TAIL_NUM': 'N910DE', 'NUMBER_OF_SEATS': 149},\n",
       " {'MANUFACTURE_YEAR': 1992, 'TAIL_NUM': 'N911DE', 'NUMBER_OF_SEATS': 149},\n",
       " {'MANUFACTURE_YEAR': 1992, 'TAIL_NUM': 'N912DE', 'NUMBER_OF_SEATS': 149},\n",
       " {'MANUFACTURE_YEAR': 1992, 'TAIL_NUM': 'N997DL', 'NUMBER_OF_SEATS': 149},\n",
       " {'MANUFACTURE_YEAR': 1992, 'TAIL_NUM': 'N998DL', 'NUMBER_OF_SEATS': 149},\n",
       " {'MANUFACTURE_YEAR': 1992, 'TAIL_NUM': 'N999DN', 'NUMBER_OF_SEATS': 149},\n",
       " {'MANUFACTURE_YEAR': 1992, 'TAIL_NUM': 'N729FD', 'NUMBER_OF_SEATS': 0},\n",
       " {'MANUFACTURE_YEAR': 1992, 'TAIL_NUM': 'N730FD', 'NUMBER_OF_SEATS': 0},\n",
       " {'MANUFACTURE_YEAR': 1992, 'TAIL_NUM': 'N743FD', 'NUMBER_OF_SEATS': 0},\n",
       " {'MANUFACTURE_YEAR': 1992, 'TAIL_NUM': 'N745FD', 'NUMBER_OF_SEATS': 0},\n",
       " {'MANUFACTURE_YEAR': 1992, 'TAIL_NUM': 'N748FD', 'NUMBER_OF_SEATS': 0},\n",
       " {'MANUFACTURE_YEAR': 1992, 'TAIL_NUM': 'N744FD', 'NUMBER_OF_SEATS': 0},\n",
       " {'MANUFACTURE_YEAR': 1992, 'TAIL_NUM': 'N751FD', 'NUMBER_OF_SEATS': 0},\n",
       " {'MANUFACTURE_YEAR': 1992, 'TAIL_NUM': 'N906FX', 'NUMBER_OF_SEATS': 0},\n",
       " {'MANUFACTURE_YEAR': 1992, 'TAIL_NUM': 'N907FX', 'NUMBER_OF_SEATS': 0},\n",
       " {'MANUFACTURE_YEAR': 1992, 'TAIL_NUM': 'N914FX', 'NUMBER_OF_SEATS': 0},\n",
       " {'MANUFACTURE_YEAR': 1992, 'TAIL_NUM': 'N916FX', 'NUMBER_OF_SEATS': 0},\n",
       " {'MANUFACTURE_YEAR': 1992, 'TAIL_NUM': 'N920FX', 'NUMBER_OF_SEATS': 0},\n",
       " {'MANUFACTURE_YEAR': 1992, 'TAIL_NUM': 'N921FX', 'NUMBER_OF_SEATS': 0},\n",
       " {'MANUFACTURE_YEAR': 1992, 'TAIL_NUM': 'EIFXA', 'NUMBER_OF_SEATS': 0},\n",
       " {'MANUFACTURE_YEAR': 1992, 'TAIL_NUM': 'EIFXC', 'NUMBER_OF_SEATS': 0},\n",
       " {'MANUFACTURE_YEAR': 1992, 'TAIL_NUM': 'EIFXE', 'NUMBER_OF_SEATS': 0},\n",
       " {'MANUFACTURE_YEAR': 1992, 'TAIL_NUM': 'N800FX', 'NUMBER_OF_SEATS': 0},\n",
       " {'MANUFACTURE_YEAR': 1992, 'TAIL_NUM': 'N801FX', 'NUMBER_OF_SEATS': 0},\n",
       " {'MANUFACTURE_YEAR': 1992, 'TAIL_NUM': 'N802FX', 'NUMBER_OF_SEATS': 0},\n",
       " {'MANUFACTURE_YEAR': 1992, 'TAIL_NUM': 'N811FX', 'NUMBER_OF_SEATS': 0},\n",
       " {'MANUFACTURE_YEAR': 1992, 'TAIL_NUM': 'EIFXJ', 'NUMBER_OF_SEATS': 0},\n",
       " {'MANUFACTURE_YEAR': 1992, 'TAIL_NUM': 'EIFXI', 'NUMBER_OF_SEATS': 0},\n",
       " {'MANUFACTURE_YEAR': 1992, 'TAIL_NUM': 'N521FE', 'NUMBER_OF_SEATS': 0},\n",
       " {'MANUFACTURE_YEAR': 1992, 'TAIL_NUM': 'N522FE', 'NUMBER_OF_SEATS': 0},\n",
       " {'MANUFACTURE_YEAR': 1992, 'TAIL_NUM': 'N575FE', 'NUMBER_OF_SEATS': 0},\n",
       " {'MANUFACTURE_YEAR': 1992, 'TAIL_NUM': 'N576FE', 'NUMBER_OF_SEATS': 0},\n",
       " {'MANUFACTURE_YEAR': 1992, 'TAIL_NUM': 'N578FE', 'NUMBER_OF_SEATS': 0},\n",
       " {'MANUFACTURE_YEAR': 1992, 'TAIL_NUM': 'N589FE', 'NUMBER_OF_SEATS': 0},\n",
       " {'MANUFACTURE_YEAR': 1992, 'TAIL_NUM': 'N593FE', 'NUMBER_OF_SEATS': 0},\n",
       " {'MANUFACTURE_YEAR': 1992, 'TAIL_NUM': 'N594FE', 'NUMBER_OF_SEATS': 0},\n",
       " {'MANUFACTURE_YEAR': 1992, 'TAIL_NUM': 'N642FE', 'NUMBER_OF_SEATS': 0},\n",
       " {'MANUFACTURE_YEAR': 1992, 'TAIL_NUM': 'N605FE', 'NUMBER_OF_SEATS': 0},\n",
       " {'MANUFACTURE_YEAR': 1992, 'TAIL_NUM': 'N587FE', 'NUMBER_OF_SEATS': 0},\n",
       " {'MANUFACTURE_YEAR': 1992, 'TAIL_NUM': 'N604FE', 'NUMBER_OF_SEATS': 0},\n",
       " {'MANUFACTURE_YEAR': 1992, 'TAIL_NUM': 'N608FE', 'NUMBER_OF_SEATS': 0},\n",
       " {'MANUFACTURE_YEAR': 1992, 'TAIL_NUM': 'N614FE', 'NUMBER_OF_SEATS': 0},\n",
       " {'MANUFACTURE_YEAR': 1992, 'TAIL_NUM': 'N607FE', 'NUMBER_OF_SEATS': 0},\n",
       " {'MANUFACTURE_YEAR': 1992, 'TAIL_NUM': 'N643FE', 'NUMBER_OF_SEATS': 0},\n",
       " {'MANUFACTURE_YEAR': 1992, 'TAIL_NUM': 'N960FD', 'NUMBER_OF_SEATS': 0},\n",
       " {'MANUFACTURE_YEAR': 1992, 'TAIL_NUM': 'N973FD', 'NUMBER_OF_SEATS': 0},\n",
       " {'MANUFACTURE_YEAR': 1992, 'TAIL_NUM': 'N784FD', 'NUMBER_OF_SEATS': 0},\n",
       " {'MANUFACTURE_YEAR': 1992, 'TAIL_NUM': 'N785FD', 'NUMBER_OF_SEATS': 0},\n",
       " {'MANUFACTURE_YEAR': 1992, 'TAIL_NUM': 'N993FD', 'NUMBER_OF_SEATS': 0},\n",
       " {'MANUFACTURE_YEAR': 1992, 'TAIL_NUM': 'N994FD', 'NUMBER_OF_SEATS': 0},\n",
       " {'MANUFACTURE_YEAR': 1992, 'TAIL_NUM': 'N995FD', 'NUMBER_OF_SEATS': 0},\n",
       " {'MANUFACTURE_YEAR': 1992, 'TAIL_NUM': 'N979FD', 'NUMBER_OF_SEATS': 0},\n",
       " {'MANUFACTURE_YEAR': 1992, 'TAIL_NUM': 'N783FD', 'NUMBER_OF_SEATS': 0},\n",
       " {'MANUFACTURE_YEAR': 1992, 'TAIL_NUM': 'N781FD', 'NUMBER_OF_SEATS': 0},\n",
       " {'MANUFACTURE_YEAR': 1992, 'TAIL_NUM': 'N782FD', 'NUMBER_OF_SEATS': 0},\n",
       " {'MANUFACTURE_YEAR': 1992, 'TAIL_NUM': 'N787FD', 'NUMBER_OF_SEATS': 0},\n",
       " {'MANUFACTURE_YEAR': 1992, 'TAIL_NUM': 'N788FD', 'NUMBER_OF_SEATS': 0},\n",
       " {'MANUFACTURE_YEAR': 1992, 'TAIL_NUM': 'N584FE', 'NUMBER_OF_SEATS': 0},\n",
       " {'MANUFACTURE_YEAR': 1992, 'TAIL_NUM': 'N585FE', 'NUMBER_OF_SEATS': 0},\n",
       " {'MANUFACTURE_YEAR': 1992, 'TAIL_NUM': 'N588FE', 'NUMBER_OF_SEATS': 0},\n",
       " {'MANUFACTURE_YEAR': 1992, 'TAIL_NUM': 'N591FE', 'NUMBER_OF_SEATS': 0},\n",
       " {'MANUFACTURE_YEAR': 1992, 'TAIL_NUM': 'N707CK', 'NUMBER_OF_SEATS': 0},\n",
       " {'MANUFACTURE_YEAR': 1992, 'TAIL_NUM': 'N762CK', 'NUMBER_OF_SEATS': 0},\n",
       " {'MANUFACTURE_YEAR': 1992, 'TAIL_NUM': 'N765CK', 'NUMBER_OF_SEATS': 0},\n",
       " {'MANUFACTURE_YEAR': 1992, 'TAIL_NUM': 'N512JN', 'NUMBER_OF_SEATS': 0},\n",
       " {'MANUFACTURE_YEAR': 1992, 'TAIL_NUM': 'N344KD', 'NUMBER_OF_SEATS': 0},\n",
       " {'MANUFACTURE_YEAR': 1992, 'TAIL_NUM': 'N730CK', 'NUMBER_OF_SEATS': 0},\n",
       " {'MANUFACTURE_YEAR': 1992, 'TAIL_NUM': 'N733CK', 'NUMBER_OF_SEATS': 0},\n",
       " {'MANUFACTURE_YEAR': 1992, 'TAIL_NUM': 'N403YK', 'NUMBER_OF_SEATS': 0},\n",
       " {'MANUFACTURE_YEAR': 1992, 'TAIL_NUM': 'N351CM', 'NUMBER_OF_SEATS': 0},\n",
       " {'MANUFACTURE_YEAR': 1992, 'TAIL_NUM': 'N379CX', 'NUMBER_OF_SEATS': 0},\n",
       " {'MANUFACTURE_YEAR': 1992, 'TAIL_NUM': 'N888LT', 'NUMBER_OF_SEATS': 0},\n",
       " {'MANUFACTURE_YEAR': 1992, 'TAIL_NUM': 'N647UA', 'NUMBER_OF_SEATS': 198},\n",
       " {'MANUFACTURE_YEAR': 1992, 'TAIL_NUM': 'N649UA', 'NUMBER_OF_SEATS': 198},\n",
       " {'MANUFACTURE_YEAR': 1992, 'TAIL_NUM': 'N651UA', 'NUMBER_OF_SEATS': 198},\n",
       " {'MANUFACTURE_YEAR': 1992, 'TAIL_NUM': 'N652UA', 'NUMBER_OF_SEATS': 198},\n",
       " {'MANUFACTURE_YEAR': 1992, 'TAIL_NUM': 'N653UA', 'NUMBER_OF_SEATS': 198},\n",
       " {'MANUFACTURE_YEAR': 1992, 'TAIL_NUM': 'N568UA', 'NUMBER_OF_SEATS': 170},\n",
       " {'MANUFACTURE_YEAR': 1992, 'TAIL_NUM': 'N654UA', 'NUMBER_OF_SEATS': 198},\n",
       " {'MANUFACTURE_YEAR': 1992, 'TAIL_NUM': 'N646UA', 'NUMBER_OF_SEATS': 198},\n",
       " {'MANUFACTURE_YEAR': 1992, 'TAIL_NUM': 'N648UA', 'NUMBER_OF_SEATS': 198},\n",
       " {'MANUFACTURE_YEAR': 1992, 'TAIL_NUM': 'N655UA', 'NUMBER_OF_SEATS': 198},\n",
       " {'MANUFACTURE_YEAR': 1992, 'TAIL_NUM': 'N801WA', 'NUMBER_OF_SEATS': 150},\n",
       " {'MANUFACTURE_YEAR': 1993, 'TAIL_NUM': 'N342AX', 'NUMBER_OF_SEATS': 248},\n",
       " {'MANUFACTURE_YEAR': 1993, 'TAIL_NUM': 'N477JB', 'NUMBER_OF_SEATS': 14},\n",
       " {'MANUFACTURE_YEAR': 1993, 'TAIL_NUM': 'N97EA', 'NUMBER_OF_SEATS': 50},\n",
       " {'MANUFACTURE_YEAR': 1993, 'TAIL_NUM': 'N155MW', 'NUMBER_OF_SEATS': 50},\n",
       " {'MANUFACTURE_YEAR': 1993, 'TAIL_NUM': 'N253UP', 'NUMBER_OF_SEATS': 0},\n",
       " {'MANUFACTURE_YEAR': 1993, 'TAIL_NUM': 'N254UP', 'NUMBER_OF_SEATS': 0},\n",
       " {'MANUFACTURE_YEAR': 1993, 'TAIL_NUM': 'N271UP', 'NUMBER_OF_SEATS': 0},\n",
       " {'MANUFACTURE_YEAR': 1993, 'TAIL_NUM': 'N272UP', 'NUMBER_OF_SEATS': 0},\n",
       " {'MANUFACTURE_YEAR': 1993, 'TAIL_NUM': 'N281UP', 'NUMBER_OF_SEATS': 0},\n",
       " {'MANUFACTURE_YEAR': 1993, 'TAIL_NUM': 'N292UP', 'NUMBER_OF_SEATS': 0},\n",
       " {'MANUFACTURE_YEAR': 1993, 'TAIL_NUM': 'N431UP', 'NUMBER_OF_SEATS': 0},\n",
       " {'MANUFACTURE_YEAR': 1993, 'TAIL_NUM': 'N432UP', 'NUMBER_OF_SEATS': 0},\n",
       " {'MANUFACTURE_YEAR': 1993, 'TAIL_NUM': 'N433UP', 'NUMBER_OF_SEATS': 0},\n",
       " {'MANUFACTURE_YEAR': 1993, 'TAIL_NUM': 'N434UP', 'NUMBER_OF_SEATS': 0},\n",
       " {'MANUFACTURE_YEAR': 1993, 'TAIL_NUM': 'N435UP', 'NUMBER_OF_SEATS': 0},\n",
       " {'MANUFACTURE_YEAR': 1993, 'TAIL_NUM': 'N578UP', 'NUMBER_OF_SEATS': 0},\n",
       " {'MANUFACTURE_YEAR': 1993, 'TAIL_NUM': 'N580UP', 'NUMBER_OF_SEATS': 0},\n",
       " {'MANUFACTURE_YEAR': 1993, 'TAIL_NUM': 'N581UP', 'NUMBER_OF_SEATS': 0},\n",
       " {'MANUFACTURE_YEAR': 1993, 'TAIL_NUM': 'N583UP', 'NUMBER_OF_SEATS': 0},\n",
       " {'MANUFACTURE_YEAR': 1993, 'TAIL_NUM': 'N473MC', 'NUMBER_OF_SEATS': 0},\n",
       " {'MANUFACTURE_YEAR': 1993, 'TAIL_NUM': 'N1181A', 'NUMBER_OF_SEATS': 269},\n",
       " {'MANUFACTURE_YEAR': 1993, 'TAIL_NUM': 'N399CM', 'NUMBER_OF_SEATS': 0},\n",
       " {'MANUFACTURE_YEAR': 1993, 'TAIL_NUM': 'N367AZ', 'NUMBER_OF_SEATS': 0},\n",
       " {'MANUFACTURE_YEAR': 1993, 'TAIL_NUM': 'N306GT', 'NUMBER_OF_SEATS': 0},\n",
       " {'MANUFACTURE_YEAR': 1993, 'TAIL_NUM': 'N307GT', 'NUMBER_OF_SEATS': 0},\n",
       " {'MANUFACTURE_YEAR': 1993, 'TAIL_NUM': 'N691AA', 'NUMBER_OF_SEATS': 176},\n",
       " {'MANUFACTURE_YEAR': 1993, 'TAIL_NUM': 'N692AA', 'NUMBER_OF_SEATS': 176},\n",
       " {'MANUFACTURE_YEAR': 1993, 'TAIL_NUM': 'N624AG', 'NUMBER_OF_SEATS': 168},\n",
       " {'MANUFACTURE_YEAR': 1993, 'TAIL_NUM': 'N681DA', 'NUMBER_OF_SEATS': 199},\n",
       " {'MANUFACTURE_YEAR': 1993, 'TAIL_NUM': 'N682DA', 'NUMBER_OF_SEATS': 199},\n",
       " {'MANUFACTURE_YEAR': 1993, 'TAIL_NUM': 'N683DA', 'NUMBER_OF_SEATS': 199},\n",
       " {'MANUFACTURE_YEAR': 1993, 'TAIL_NUM': 'N684DA', 'NUMBER_OF_SEATS': 199},\n",
       " {'MANUFACTURE_YEAR': 1993, 'TAIL_NUM': 'N183DN', 'NUMBER_OF_SEATS': 211},\n",
       " {'MANUFACTURE_YEAR': 1993, 'TAIL_NUM': 'N184DN', 'NUMBER_OF_SEATS': 226},\n",
       " {'MANUFACTURE_YEAR': 1993, 'TAIL_NUM': 'N345NW', 'NUMBER_OF_SEATS': 157},\n",
       " {'MANUFACTURE_YEAR': 1993, 'TAIL_NUM': 'N347NW', 'NUMBER_OF_SEATS': 157},\n",
       " {'MANUFACTURE_YEAR': 1993, 'TAIL_NUM': 'N348NW', 'NUMBER_OF_SEATS': 157},\n",
       " {'MANUFACTURE_YEAR': 1993, 'TAIL_NUM': 'N349NW', 'NUMBER_OF_SEATS': 157},\n",
       " {'MANUFACTURE_YEAR': 1993, 'TAIL_NUM': 'N350NA', 'NUMBER_OF_SEATS': 157},\n",
       " {'MANUFACTURE_YEAR': 1993, 'TAIL_NUM': 'N915DE', 'NUMBER_OF_SEATS': 149},\n",
       " {'MANUFACTURE_YEAR': 1993, 'TAIL_NUM': 'N918DE', 'NUMBER_OF_SEATS': 149},\n",
       " {'MANUFACTURE_YEAR': 1993, 'TAIL_NUM': 'N920DE', 'NUMBER_OF_SEATS': 149},\n",
       " {'MANUFACTURE_YEAR': 1993, 'TAIL_NUM': 'N731FD', 'NUMBER_OF_SEATS': 0},\n",
       " {'MANUFACTURE_YEAR': 1993, 'TAIL_NUM': 'N732FD', 'NUMBER_OF_SEATS': 0},\n",
       " {'MANUFACTURE_YEAR': 1993, 'TAIL_NUM': 'N733FD', 'NUMBER_OF_SEATS': 0},\n",
       " {'MANUFACTURE_YEAR': 1993, 'TAIL_NUM': 'N746FD', 'NUMBER_OF_SEATS': 0},\n",
       " {'MANUFACTURE_YEAR': 1993, 'TAIL_NUM': 'N650FE', 'NUMBER_OF_SEATS': 0},\n",
       " {'MANUFACTURE_YEAR': 1993, 'TAIL_NUM': 'N917FX', 'NUMBER_OF_SEATS': 0},\n",
       " {'MANUFACTURE_YEAR': 1993, 'TAIL_NUM': 'N803FX', 'NUMBER_OF_SEATS': 0},\n",
       " {'MANUFACTURE_YEAR': 1993, 'TAIL_NUM': 'N804FX', 'NUMBER_OF_SEATS': 0},\n",
       " {'MANUFACTURE_YEAR': 1993, 'TAIL_NUM': 'N805FX', 'NUMBER_OF_SEATS': 0},\n",
       " {'MANUFACTURE_YEAR': 1993, 'TAIL_NUM': 'N806FX', 'NUMBER_OF_SEATS': 0},\n",
       " {'MANUFACTURE_YEAR': 1993, 'TAIL_NUM': 'N807FX', 'NUMBER_OF_SEATS': 0},\n",
       " {'MANUFACTURE_YEAR': 1993, 'TAIL_NUM': 'N816FX', 'NUMBER_OF_SEATS': 0},\n",
       " {'MANUFACTURE_YEAR': 1993, 'TAIL_NUM': 'N819FX', 'NUMBER_OF_SEATS': 0},\n",
       " {'MANUFACTURE_YEAR': 1993, 'TAIL_NUM': 'N523FE', 'NUMBER_OF_SEATS': 0},\n",
       " {'MANUFACTURE_YEAR': 1993, 'TAIL_NUM': 'N525FE', 'NUMBER_OF_SEATS': 0},\n",
       " {'MANUFACTURE_YEAR': 1993, 'TAIL_NUM': 'N595FE', 'NUMBER_OF_SEATS': 0},\n",
       " {'MANUFACTURE_YEAR': 1993, 'TAIL_NUM': 'N597FE', 'NUMBER_OF_SEATS': 0},\n",
       " {'MANUFACTURE_YEAR': 1993, 'TAIL_NUM': 'N598FE', 'NUMBER_OF_SEATS': 0},\n",
       " {'MANUFACTURE_YEAR': 1993, 'TAIL_NUM': 'N599FE', 'NUMBER_OF_SEATS': 0},\n",
       " {'MANUFACTURE_YEAR': 1993, 'TAIL_NUM': 'N609FE', 'NUMBER_OF_SEATS': 0},\n",
       " {'MANUFACTURE_YEAR': 1993, 'TAIL_NUM': 'N606FE', 'NUMBER_OF_SEATS': 0},\n",
       " {'MANUFACTURE_YEAR': 1993, 'TAIL_NUM': 'N612FE', 'NUMBER_OF_SEATS': 0},\n",
       " {'MANUFACTURE_YEAR': 1993, 'TAIL_NUM': 'N610FE', 'NUMBER_OF_SEATS': 0},\n",
       " {'MANUFACTURE_YEAR': 1993, 'TAIL_NUM': 'N901FD', 'NUMBER_OF_SEATS': 0},\n",
       " {'MANUFACTURE_YEAR': 1993, 'TAIL_NUM': 'CFMEK', 'NUMBER_OF_SEATS': 0},\n",
       " {'MANUFACTURE_YEAR': 1993, 'TAIL_NUM': 'N903FD', 'NUMBER_OF_SEATS': 0},\n",
       " {'MANUFACTURE_YEAR': 1993, 'TAIL_NUM': 'CFMEP', 'NUMBER_OF_SEATS': 0},\n",
       " {'MANUFACTURE_YEAR': 1993, 'TAIL_NUM': 'CFMEQ', 'NUMBER_OF_SEATS': 0},\n",
       " {'MANUFACTURE_YEAR': 1993, 'TAIL_NUM': 'CFMOC', 'NUMBER_OF_SEATS': 0},\n",
       " {'MANUFACTURE_YEAR': 1993, 'TAIL_NUM': 'CFMFG', 'NUMBER_OF_SEATS': 0},\n",
       " {'MANUFACTURE_YEAR': 1993, 'TAIL_NUM': 'CFMAI', 'NUMBER_OF_SEATS': 0},\n",
       " {'MANUFACTURE_YEAR': 1993, 'TAIL_NUM': 'CFMEU', 'NUMBER_OF_SEATS': 0},\n",
       " {'MANUFACTURE_YEAR': 1993, 'TAIL_NUM': 'N923FD', 'NUMBER_OF_SEATS': 0},\n",
       " {'MANUFACTURE_YEAR': 1993, 'TAIL_NUM': 'N924FD', 'NUMBER_OF_SEATS': 0},\n",
       " {'MANUFACTURE_YEAR': 1993, 'TAIL_NUM': 'N794FD', 'NUMBER_OF_SEATS': 0},\n",
       " {'MANUFACTURE_YEAR': 1993, 'TAIL_NUM': 'N796FD', 'NUMBER_OF_SEATS': 0},\n",
       " {'MANUFACTURE_YEAR': 1993, 'TAIL_NUM': 'N976FD', 'NUMBER_OF_SEATS': 0},\n",
       " {'MANUFACTURE_YEAR': 1993, 'TAIL_NUM': 'CFMHA', 'NUMBER_OF_SEATS': 0},\n",
       " {'MANUFACTURE_YEAR': 1993, 'TAIL_NUM': 'N795FD', 'NUMBER_OF_SEATS': 0},\n",
       " {'MANUFACTURE_YEAR': 1993, 'TAIL_NUM': 'N996FD', 'NUMBER_OF_SEATS': 0},\n",
       " {'MANUFACTURE_YEAR': 1993, 'TAIL_NUM': 'N966FD', 'NUMBER_OF_SEATS': 0},\n",
       " {'MANUFACTURE_YEAR': 1993, 'TAIL_NUM': 'N988FD', 'NUMBER_OF_SEATS': 0},\n",
       " {'MANUFACTURE_YEAR': 1993, 'TAIL_NUM': 'N774FD', 'NUMBER_OF_SEATS': 0},\n",
       " {'MANUFACTURE_YEAR': 1993, 'TAIL_NUM': 'N789FD', 'NUMBER_OF_SEATS': 0},\n",
       " {'MANUFACTURE_YEAR': 1993, 'TAIL_NUM': 'N790FD', 'NUMBER_OF_SEATS': 0},\n",
       " {'MANUFACTURE_YEAR': 1993, 'TAIL_NUM': 'N791FD', 'NUMBER_OF_SEATS': 0},\n",
       " {'MANUFACTURE_YEAR': 1993, 'TAIL_NUM': 'N792FD', 'NUMBER_OF_SEATS': 0},\n",
       " {'MANUFACTURE_YEAR': 1993, 'TAIL_NUM': 'N793FD', 'NUMBER_OF_SEATS': 0},\n",
       " {'MANUFACTURE_YEAR': 1993, 'TAIL_NUM': 'N974FD', 'NUMBER_OF_SEATS': 0},\n",
       " {'MANUFACTURE_YEAR': 1993, 'TAIL_NUM': 'N596FE', 'NUMBER_OF_SEATS': 0},\n",
       " {'MANUFACTURE_YEAR': 1993, 'TAIL_NUM': 'N743CK', 'NUMBER_OF_SEATS': 0},\n",
       " {'MANUFACTURE_YEAR': 1993, 'TAIL_NUM': 'N744CK', 'NUMBER_OF_SEATS': 0},\n",
       " {'MANUFACTURE_YEAR': 1993, 'TAIL_NUM': 'N709CK', 'NUMBER_OF_SEATS': 0},\n",
       " {'MANUFACTURE_YEAR': 1993, 'TAIL_NUM': 'N763CK', 'NUMBER_OF_SEATS': 0},\n",
       " {'MANUFACTURE_YEAR': 1993, 'TAIL_NUM': 'N399CM', 'NUMBER_OF_SEATS': 0},\n",
       " {'MANUFACTURE_YEAR': 1993, 'TAIL_NUM': 'N734CK', 'NUMBER_OF_SEATS': 0},\n",
       " {'MANUFACTURE_YEAR': 1993, 'TAIL_NUM': 'N347CM'},\n",
       " {'MANUFACTURE_YEAR': 1993, 'TAIL_NUM': 'N401YK', 'NUMBER_OF_SEATS': 0},\n",
       " {'MANUFACTURE_YEAR': 1993, 'TAIL_NUM': 'N401UA', 'NUMBER_OF_SEATS': 142},\n",
       " {'MANUFACTURE_YEAR': 1993, 'TAIL_NUM': 'N402UA', 'NUMBER_OF_SEATS': 142},\n",
       " {'MANUFACTURE_YEAR': 1993, 'TAIL_NUM': 'N403UA', 'NUMBER_OF_SEATS': 142},\n",
       " {'MANUFACTURE_YEAR': 1993, 'TAIL_NUM': 'N404UA', 'NUMBER_OF_SEATS': 142},\n",
       " {'MANUFACTURE_YEAR': 1993, 'TAIL_NUM': 'N405UA', 'NUMBER_OF_SEATS': 142},\n",
       " {'MANUFACTURE_YEAR': 1993, 'TAIL_NUM': 'N662UA', 'NUMBER_OF_SEATS': 198},\n",
       " {'MANUFACTURE_YEAR': 1993, 'TAIL_NUM': 'N663UA', 'NUMBER_OF_SEATS': 198},\n",
       " {'MANUFACTURE_YEAR': 1993, 'TAIL_NUM': 'N587UA', 'NUMBER_OF_SEATS': 170},\n",
       " {'MANUFACTURE_YEAR': 1993, 'TAIL_NUM': 'N588UA', 'NUMBER_OF_SEATS': 170},\n",
       " {'MANUFACTURE_YEAR': 1993, 'TAIL_NUM': 'N656UA', 'NUMBER_OF_SEATS': 198},\n",
       " {'MANUFACTURE_YEAR': 1993, 'TAIL_NUM': 'N657UA', 'NUMBER_OF_SEATS': 198},\n",
       " {'MANUFACTURE_YEAR': 1993, 'TAIL_NUM': 'N658UA', 'NUMBER_OF_SEATS': 198},\n",
       " {'MANUFACTURE_YEAR': 1993, 'TAIL_NUM': 'N659UA', 'NUMBER_OF_SEATS': 198},\n",
       " {'MANUFACTURE_YEAR': 1993, 'TAIL_NUM': 'N660UA', 'NUMBER_OF_SEATS': 198},\n",
       " {'MANUFACTURE_YEAR': 1993, 'TAIL_NUM': 'N661UA', 'NUMBER_OF_SEATS': 198},\n",
       " {'MANUFACTURE_YEAR': 1994, 'TAIL_NUM': 'N407SW', 'NUMBER_OF_SEATS': 50},\n",
       " {'MANUFACTURE_YEAR': 1994, 'TAIL_NUM': 'N270UP', 'NUMBER_OF_SEATS': 0},\n",
       " {'MANUFACTURE_YEAR': 1994, 'TAIL_NUM': 'N273UP', 'NUMBER_OF_SEATS': 0},\n",
       " {'MANUFACTURE_YEAR': 1994, 'TAIL_NUM': 'N274UP', 'NUMBER_OF_SEATS': 0},\n",
       " {'MANUFACTURE_YEAR': 1994, 'TAIL_NUM': 'N279UP', 'NUMBER_OF_SEATS': 0},\n",
       " {'MANUFACTURE_YEAR': 1994, 'TAIL_NUM': 'N287UP', 'NUMBER_OF_SEATS': 0},\n",
       " {'MANUFACTURE_YEAR': 1994, 'TAIL_NUM': 'N288UP', 'NUMBER_OF_SEATS': 0},\n",
       " {'MANUFACTURE_YEAR': 1994, 'TAIL_NUM': 'N436UP', 'NUMBER_OF_SEATS': 0},\n",
       " {'MANUFACTURE_YEAR': 1994, 'TAIL_NUM': 'N437UP', 'NUMBER_OF_SEATS': 0},\n",
       " {'MANUFACTURE_YEAR': 1994, 'TAIL_NUM': 'N438UP', 'NUMBER_OF_SEATS': 0},\n",
       " {'MANUFACTURE_YEAR': 1994, 'TAIL_NUM': 'N439UP', 'NUMBER_OF_SEATS': 0},\n",
       " {'MANUFACTURE_YEAR': 1994, 'TAIL_NUM': 'N440UP', 'NUMBER_OF_SEATS': 0},\n",
       " {'MANUFACTURE_YEAR': 1994, 'TAIL_NUM': 'N441UP', 'NUMBER_OF_SEATS': 0},\n",
       " {'MANUFACTURE_YEAR': 1994, 'TAIL_NUM': 'N442UP', 'NUMBER_OF_SEATS': 0},\n",
       " {'MANUFACTURE_YEAR': 1994, 'TAIL_NUM': 'N443UP', 'NUMBER_OF_SEATS': 0},\n",
       " {'MANUFACTURE_YEAR': 1994, 'TAIL_NUM': 'N444UP', 'NUMBER_OF_SEATS': 0},\n",
       " {'MANUFACTURE_YEAR': 1994, 'TAIL_NUM': 'N445UP', 'NUMBER_OF_SEATS': 0},\n",
       " {'MANUFACTURE_YEAR': 1994, 'TAIL_NUM': 'N446UP', 'NUMBER_OF_SEATS': 0},\n",
       " {'MANUFACTURE_YEAR': 1994, 'TAIL_NUM': 'N447UP', 'NUMBER_OF_SEATS': 0},\n",
       " {'MANUFACTURE_YEAR': 1994, 'TAIL_NUM': 'N579UP', 'NUMBER_OF_SEATS': 0},\n",
       " {'MANUFACTURE_YEAR': 1994, 'TAIL_NUM': 'N1373A', 'NUMBER_OF_SEATS': 269},\n",
       " {'MANUFACTURE_YEAR': 1994, 'TAIL_NUM': 'N1489A', 'NUMBER_OF_SEATS': 269},\n",
       " {'MANUFACTURE_YEAR': 1994, 'TAIL_NUM': 'N1619A', 'NUMBER_OF_SEATS': 269},\n",
       " {'MANUFACTURE_YEAR': 1994, 'TAIL_NUM': 'N1997A', 'NUMBER_OF_SEATS': 269},\n",
       " {'MANUFACTURE_YEAR': 1994, 'TAIL_NUM': 'N751CX', 'NUMBER_OF_SEATS': 42},\n",
       " {'MANUFACTURE_YEAR': 1994, 'TAIL_NUM': 'N337AZ', 'NUMBER_OF_SEATS': 0},\n",
       " {'MANUFACTURE_YEAR': 1994, 'TAIL_NUM': 'N347AZ', 'NUMBER_OF_SEATS': 0},\n",
       " {'MANUFACTURE_YEAR': 1994, 'TAIL_NUM': 'N419AZ', 'NUMBER_OF_SEATS': 0},\n",
       " {'MANUFACTURE_YEAR': 1994, 'TAIL_NUM': 'N938UW', 'NUMBER_OF_SEATS': 188},\n",
       " {'MANUFACTURE_YEAR': 1994, 'TAIL_NUM': 'N385AM', 'NUMBER_OF_SEATS': 209},\n",
       " {'MANUFACTURE_YEAR': 1994, 'TAIL_NUM': 'N939UW', 'NUMBER_OF_SEATS': 188},\n",
       " {'MANUFACTURE_YEAR': 1994, 'TAIL_NUM': 'N698AN', 'NUMBER_OF_SEATS': 182},\n",
       " {'MANUFACTURE_YEAR': 1994, 'TAIL_NUM': 'N371CM', 'NUMBER_OF_SEATS': 0},\n",
       " {'MANUFACTURE_YEAR': 1994, 'TAIL_NUM': 'N651FE', 'NUMBER_OF_SEATS': 0},\n",
       " {'MANUFACTURE_YEAR': 1994, 'TAIL_NUM': 'N653FE', 'NUMBER_OF_SEATS': 0},\n",
       " {'MANUFACTURE_YEAR': 1994, 'TAIL_NUM': 'N654FE', 'NUMBER_OF_SEATS': 0},\n",
       " {'MANUFACTURE_YEAR': 1994, 'TAIL_NUM': 'N655FE', 'NUMBER_OF_SEATS': 0},\n",
       " {'MANUFACTURE_YEAR': 1994, 'TAIL_NUM': 'N812FX', 'NUMBER_OF_SEATS': 0},\n",
       " {'MANUFACTURE_YEAR': 1994, 'TAIL_NUM': 'N700FX', 'NUMBER_OF_SEATS': 0},\n",
       " {'MANUFACTURE_YEAR': 1994, 'TAIL_NUM': 'N701FX', 'NUMBER_OF_SEATS': 0},\n",
       " {'MANUFACTURE_YEAR': 1994, 'TAIL_NUM': 'N702FX', 'NUMBER_OF_SEATS': 0},\n",
       " {'MANUFACTURE_YEAR': 1994, 'TAIL_NUM': 'N925FD', 'NUMBER_OF_SEATS': 0},\n",
       " {'MANUFACTURE_YEAR': 1994, 'TAIL_NUM': 'N950FD', 'NUMBER_OF_SEATS': 0},\n",
       " {'MANUFACTURE_YEAR': 1994, 'TAIL_NUM': 'N927FD', 'NUMBER_OF_SEATS': 0},\n",
       " {'MANUFACTURE_YEAR': 1994, 'TAIL_NUM': 'N967FD', 'NUMBER_OF_SEATS': 0},\n",
       " {'MANUFACTURE_YEAR': 1994, 'TAIL_NUM': 'N652FE', 'NUMBER_OF_SEATS': 0},\n",
       " {'MANUFACTURE_YEAR': 1994, 'TAIL_NUM': 'N811FL', 'NUMBER_OF_SEATS': 0},\n",
       " {'MANUFACTURE_YEAR': 1994, 'TAIL_NUM': 'N764CK', 'NUMBER_OF_SEATS': 0},\n",
       " {'MANUFACTURE_YEAR': 1994, 'TAIL_NUM': 'N415JN', 'NUMBER_OF_SEATS': 0},\n",
       " {'MANUFACTURE_YEAR': 1994, 'TAIL_NUM': 'N513SN', 'NUMBER_OF_SEATS': 0},\n",
       " {'MANUFACTURE_YEAR': 1994, 'TAIL_NUM': 'N542KD', 'NUMBER_OF_SEATS': 0},\n",
       " {'MANUFACTURE_YEAR': 1994, 'TAIL_NUM': 'N543JN', 'NUMBER_OF_SEATS': 0},\n",
       " {'MANUFACTURE_YEAR': 1994, 'TAIL_NUM': 'N581JN', 'NUMBER_OF_SEATS': 0},\n",
       " {'MANUFACTURE_YEAR': 1994, 'TAIL_NUM': 'N356KD', 'NUMBER_OF_SEATS': 0},\n",
       " {'MANUFACTURE_YEAR': 1994, 'TAIL_NUM': 'N378CX'},\n",
       " {'MANUFACTURE_YEAR': 1994, 'TAIL_NUM': 'N757QM', 'NUMBER_OF_SEATS': 0},\n",
       " {'MANUFACTURE_YEAR': 1994, 'TAIL_NUM': 'N58101', 'NUMBER_OF_SEATS': 169},\n",
       " {'MANUFACTURE_YEAR': 1994, 'TAIL_NUM': 'N14102', 'NUMBER_OF_SEATS': 169},\n",
       " {'MANUFACTURE_YEAR': 1994, 'TAIL_NUM': 'N17104', 'NUMBER_OF_SEATS': 169},\n",
       " {'MANUFACTURE_YEAR': 1994, 'TAIL_NUM': 'N17105', 'NUMBER_OF_SEATS': 169},\n",
       " {'MANUFACTURE_YEAR': 1994, 'TAIL_NUM': 'N14106', 'NUMBER_OF_SEATS': 169},\n",
       " {'MANUFACTURE_YEAR': 1994, 'TAIL_NUM': 'N14107', 'NUMBER_OF_SEATS': 169},\n",
       " {'MANUFACTURE_YEAR': 1994, 'TAIL_NUM': 'N21108', 'NUMBER_OF_SEATS': 169},\n",
       " {'MANUFACTURE_YEAR': 1994, 'TAIL_NUM': 'N12109', 'NUMBER_OF_SEATS': 169},\n",
       " {'MANUFACTURE_YEAR': 1994, 'TAIL_NUM': 'N13110', 'NUMBER_OF_SEATS': 169},\n",
       " {'MANUFACTURE_YEAR': 1994, 'TAIL_NUM': 'N57111', 'NUMBER_OF_SEATS': 169},\n",
       " {'MANUFACTURE_YEAR': 1994, 'TAIL_NUM': 'N33103', 'NUMBER_OF_SEATS': 169},\n",
       " {'MANUFACTURE_YEAR': 1994, 'TAIL_NUM': 'N406UA', 'NUMBER_OF_SEATS': 142},\n",
       " {'MANUFACTURE_YEAR': 1994, 'TAIL_NUM': 'N407UA', 'NUMBER_OF_SEATS': 142},\n",
       " {'MANUFACTURE_YEAR': 1994, 'TAIL_NUM': 'N413UA', 'NUMBER_OF_SEATS': 142},\n",
       " {'MANUFACTURE_YEAR': 1994, 'TAIL_NUM': 'N416UA', 'NUMBER_OF_SEATS': 142},\n",
       " {'MANUFACTURE_YEAR': 1994, 'TAIL_NUM': 'N417UA', 'NUMBER_OF_SEATS': 142},\n",
       " {'MANUFACTURE_YEAR': 1994, 'TAIL_NUM': 'N410UA', 'NUMBER_OF_SEATS': 142},\n",
       " {'MANUFACTURE_YEAR': 1994, 'TAIL_NUM': 'N408UA', 'NUMBER_OF_SEATS': 142},\n",
       " {'MANUFACTURE_YEAR': 1994, 'TAIL_NUM': 'N409UA', 'NUMBER_OF_SEATS': 142},\n",
       " {'MANUFACTURE_YEAR': 1994, 'TAIL_NUM': 'N411UA', 'NUMBER_OF_SEATS': 142},\n",
       " {'MANUFACTURE_YEAR': 1994, 'TAIL_NUM': 'N412UA', 'NUMBER_OF_SEATS': 142},\n",
       " {'MANUFACTURE_YEAR': 1994, 'TAIL_NUM': 'N414UA', 'NUMBER_OF_SEATS': 142},\n",
       " {'MANUFACTURE_YEAR': 1994, 'TAIL_NUM': 'N415UA', 'NUMBER_OF_SEATS': 142},\n",
       " {'MANUFACTURE_YEAR': 1994, 'TAIL_NUM': 'N418UA', 'NUMBER_OF_SEATS': 142},\n",
       " {'MANUFACTURE_YEAR': 1994, 'TAIL_NUM': 'N419UA', 'NUMBER_OF_SEATS': 142},\n",
       " {'MANUFACTURE_YEAR': 1994, 'TAIL_NUM': 'N420UA', 'NUMBER_OF_SEATS': 142},\n",
       " {'MANUFACTURE_YEAR': 1994, 'TAIL_NUM': 'N421UA', 'NUMBER_OF_SEATS': 142},\n",
       " {'MANUFACTURE_YEAR': 1995, 'TAIL_NUM': 'N351AX', 'NUMBER_OF_SEATS': 272},\n",
       " {'MANUFACTURE_YEAR': 1995, 'TAIL_NUM': 'N432AX', 'NUMBER_OF_SEATS': 243},\n",
       " {'MANUFACTURE_YEAR': 1995, 'TAIL_NUM': 'N370RS', 'NUMBER_OF_SEATS': 12},\n",
       " {'MANUFACTURE_YEAR': 1995, 'TAIL_NUM': 'N208CE', 'NUMBER_OF_SEATS': 9},\n",
       " {'MANUFACTURE_YEAR': 1995, 'TAIL_NUM': 'N250UP', 'NUMBER_OF_SEATS': 0},\n",
       " {'MANUFACTURE_YEAR': 1995, 'TAIL_NUM': 'N251UP', 'NUMBER_OF_SEATS': 0},\n",
       " {'MANUFACTURE_YEAR': 1995, 'TAIL_NUM': 'N278UP', 'NUMBER_OF_SEATS': 0},\n",
       " {'MANUFACTURE_YEAR': 1995, 'TAIL_NUM': 'N301UP', 'NUMBER_OF_SEATS': 0},\n",
       " {'MANUFACTURE_YEAR': 1995, 'TAIL_NUM': 'N302UP', 'NUMBER_OF_SEATS': 0},\n",
       " {'MANUFACTURE_YEAR': 1995, 'TAIL_NUM': 'N303UP', 'NUMBER_OF_SEATS': 0},\n",
       " {'MANUFACTURE_YEAR': 1995, 'TAIL_NUM': 'N304UP', 'NUMBER_OF_SEATS': 0},\n",
       " {'MANUFACTURE_YEAR': 1995, 'TAIL_NUM': 'N305UP', 'NUMBER_OF_SEATS': 0},\n",
       " {'MANUFACTURE_YEAR': 1995, 'TAIL_NUM': 'N448UP', 'NUMBER_OF_SEATS': 0},\n",
       " {'MANUFACTURE_YEAR': 1995, 'TAIL_NUM': 'N449UP', 'NUMBER_OF_SEATS': 0},\n",
       " {'MANUFACTURE_YEAR': 1995, 'TAIL_NUM': 'N450UP', 'NUMBER_OF_SEATS': 0},\n",
       " {'MANUFACTURE_YEAR': 1995, 'TAIL_NUM': 'N451UP', 'NUMBER_OF_SEATS': 0},\n",
       " {'MANUFACTURE_YEAR': 1995, 'TAIL_NUM': 'N452UP', 'NUMBER_OF_SEATS': 0},\n",
       " {'MANUFACTURE_YEAR': 1995, 'TAIL_NUM': 'N453UP', 'NUMBER_OF_SEATS': 0},\n",
       " {'MANUFACTURE_YEAR': 1995, 'TAIL_NUM': 'N454UP', 'NUMBER_OF_SEATS': 0},\n",
       " {'MANUFACTURE_YEAR': 1995, 'TAIL_NUM': 'N455UP', 'NUMBER_OF_SEATS': 0},\n",
       " {'MANUFACTURE_YEAR': 1995, 'TAIL_NUM': 'N489MC', 'NUMBER_OF_SEATS': 0},\n",
       " {'MANUFACTURE_YEAR': 1995, 'TAIL_NUM': 'N1321A', 'NUMBER_OF_SEATS': 269},\n",
       " {'MANUFACTURE_YEAR': 1995, 'TAIL_NUM': 'N1361A', 'NUMBER_OF_SEATS': 269},\n",
       " {'MANUFACTURE_YEAR': 1995, 'TAIL_NUM': 'N645GT', 'NUMBER_OF_SEATS': 269},\n",
       " {'MANUFACTURE_YEAR': 1995, 'TAIL_NUM': 'N662GT', 'NUMBER_OF_SEATS': 269},\n",
       " {'MANUFACTURE_YEAR': 1995, 'TAIL_NUM': 'N663GT', 'NUMBER_OF_SEATS': 269},\n",
       " {'MANUFACTURE_YEAR': 1995, 'TAIL_NUM': 'N389AZ', 'NUMBER_OF_SEATS': 0},\n",
       " {'MANUFACTURE_YEAR': 1995, 'TAIL_NUM': 'N311GT', 'NUMBER_OF_SEATS': 0},\n",
       " {'MANUFACTURE_YEAR': 1995, 'TAIL_NUM': 'N201UU', 'NUMBER_OF_SEATS': 188},\n",
       " {'MANUFACTURE_YEAR': 1995, 'TAIL_NUM': 'N202UW', 'NUMBER_OF_SEATS': 188},\n",
       " {'MANUFACTURE_YEAR': 1995, 'TAIL_NUM': 'N200UU', 'NUMBER_OF_SEATS': 188},\n",
       " {'MANUFACTURE_YEAR': 1995, 'TAIL_NUM': 'N206UW', 'NUMBER_OF_SEATS': 188},\n",
       " {'MANUFACTURE_YEAR': 1995, 'TAIL_NUM': 'N388AA', 'NUMBER_OF_SEATS': 209},\n",
       " {'MANUFACTURE_YEAR': 1995, 'TAIL_NUM': 'N390AA', 'NUMBER_OF_SEATS': 209},\n",
       " {'MANUFACTURE_YEAR': 1995, 'TAIL_NUM': 'N391AA', 'NUMBER_OF_SEATS': 209},\n",
       " {'MANUFACTURE_YEAR': 1995, 'TAIL_NUM': 'N535US', 'NUMBER_OF_SEATS': 199},\n",
       " {'MANUFACTURE_YEAR': 1995, 'TAIL_NUM': 'N536US', 'NUMBER_OF_SEATS': 199},\n",
       " {'MANUFACTURE_YEAR': 1995, 'TAIL_NUM': 'N685DA', 'NUMBER_OF_SEATS': 199},\n",
       " {'MANUFACTURE_YEAR': 1995, 'TAIL_NUM': 'N686DA', 'NUMBER_OF_SEATS': 199},\n",
       " {'MANUFACTURE_YEAR': 1995, 'TAIL_NUM': 'N185DN', 'NUMBER_OF_SEATS': 211},\n",
       " {'MANUFACTURE_YEAR': 1995, 'TAIL_NUM': 'N186DN', 'NUMBER_OF_SEATS': 226},\n",
       " {'MANUFACTURE_YEAR': 1995, 'TAIL_NUM': 'N394DL', 'NUMBER_OF_SEATS': 226},\n",
       " {'MANUFACTURE_YEAR': 1995, 'TAIL_NUM': 'N908DA', 'NUMBER_OF_SEATS': 158},\n",
       " {'MANUFACTURE_YEAR': 1995, 'TAIL_NUM': 'N909DA', 'NUMBER_OF_SEATS': 158},\n",
       " {'MANUFACTURE_YEAR': 1995, 'TAIL_NUM': 'N910DN', 'NUMBER_OF_SEATS': 158},\n",
       " {'MANUFACTURE_YEAR': 1995, 'TAIL_NUM': 'N911DA', 'NUMBER_OF_SEATS': 158},\n",
       " {'MANUFACTURE_YEAR': 1995, 'TAIL_NUM': 'N901DA', 'NUMBER_OF_SEATS': 158},\n",
       " {'MANUFACTURE_YEAR': 1995, 'TAIL_NUM': 'N904DA', 'NUMBER_OF_SEATS': 158},\n",
       " {'MANUFACTURE_YEAR': 1995, 'TAIL_NUM': 'N905DA', 'NUMBER_OF_SEATS': 158},\n",
       " {'MANUFACTURE_YEAR': 1995, 'TAIL_NUM': 'N906DA', 'NUMBER_OF_SEATS': 158},\n",
       " {'MANUFACTURE_YEAR': 1995, 'TAIL_NUM': 'N907DA', 'NUMBER_OF_SEATS': 158},\n",
       " {'MANUFACTURE_YEAR': 1995, 'TAIL_NUM': 'N937DN', 'NUMBER_OF_SEATS': 158},\n",
       " {'MANUFACTURE_YEAR': 1995, 'TAIL_NUM': 'N946DN', 'NUMBER_OF_SEATS': 158},\n",
       " ...]"
      ]
     },
     "execution_count": 21,
     "metadata": {},
     "output_type": "execute_result"
    }
   ],
   "source": [
    "response_aircraft = requests.get(f'{API_URL}/aircraft', headers={'Authorization': APIKEY})\n",
    "response_aircraft.json()"
   ]
  },
  {
   "cell_type": "code",
   "execution_count": 22,
   "metadata": {},
   "outputs": [
    {
     "data": {
      "text/html": [
       "<div>\n",
       "<style scoped>\n",
       "    .dataframe tbody tr th:only-of-type {\n",
       "        vertical-align: middle;\n",
       "    }\n",
       "\n",
       "    .dataframe tbody tr th {\n",
       "        vertical-align: top;\n",
       "    }\n",
       "\n",
       "    .dataframe thead th {\n",
       "        text-align: right;\n",
       "    }\n",
       "</style>\n",
       "<table border=\"1\" class=\"dataframe\">\n",
       "  <thead>\n",
       "    <tr style=\"text-align: right;\">\n",
       "      <th></th>\n",
       "      <th>MANUFACTURE_YEAR</th>\n",
       "      <th>TAIL_NUM</th>\n",
       "      <th>NUMBER_OF_SEATS</th>\n",
       "    </tr>\n",
       "  </thead>\n",
       "  <tbody>\n",
       "    <tr>\n",
       "      <th>0</th>\n",
       "      <td>1944</td>\n",
       "      <td>N54514</td>\n",
       "      <td>0.0</td>\n",
       "    </tr>\n",
       "    <tr>\n",
       "      <th>1</th>\n",
       "      <td>1945</td>\n",
       "      <td>N1651M</td>\n",
       "      <td>0.0</td>\n",
       "    </tr>\n",
       "    <tr>\n",
       "      <th>2</th>\n",
       "      <td>1953</td>\n",
       "      <td>N100CE</td>\n",
       "      <td>0.0</td>\n",
       "    </tr>\n",
       "    <tr>\n",
       "      <th>3</th>\n",
       "      <td>1953</td>\n",
       "      <td>N141FL</td>\n",
       "      <td>0.0</td>\n",
       "    </tr>\n",
       "    <tr>\n",
       "      <th>4</th>\n",
       "      <td>1953</td>\n",
       "      <td>N151FL</td>\n",
       "      <td>0.0</td>\n",
       "    </tr>\n",
       "  </tbody>\n",
       "</table>\n",
       "</div>"
      ],
      "text/plain": [
       "   MANUFACTURE_YEAR TAIL_NUM  NUMBER_OF_SEATS\n",
       "0              1944   N54514              0.0\n",
       "1              1945   N1651M              0.0\n",
       "2              1953   N100CE              0.0\n",
       "3              1953   N141FL              0.0\n",
       "4              1953   N151FL              0.0"
      ]
     },
     "execution_count": 22,
     "metadata": {},
     "output_type": "execute_result"
    }
   ],
   "source": [
    "aircraft_df = pd.DataFrame.from_records(response_aircraft.json())\n",
    "aircraft_df.head()"
   ]
  },
  {
   "cell_type": "code",
   "execution_count": 22,
   "metadata": {},
   "outputs": [],
   "source": [
    "#aircraft_df.to_csv(r'..\\data\\raw\\aircraft.csv', index = False)"
   ]
  },
  {
   "cell_type": "markdown",
   "metadata": {},
   "source": [
    " # Collect data from `Flight` endpoint"
   ]
  },
  {
   "cell_type": "code",
   "execution_count": 26,
   "metadata": {
    "collapsed": true
   },
   "outputs": [
    {
     "name": "stderr",
     "output_type": "stream",
     "text": [
      "  5%|████                                                                             | 18/364 [00:33<10:41,  1.85s/it]"
     ]
    },
    {
     "name": "stdout",
     "output_type": "stream",
     "text": [
      "getting date 2019-01 from airport 10397\n",
      "getting date 2019-02 from airport 10397\n",
      "getting date 2019-03 from airport 10397\n",
      "getting date 2019-04 from airport 10397\n",
      "getting date 2019-05 from airport 10397\n",
      "getting date 2019-06 from airport 10397\n",
      "getting date 2019-07 from airport 10397\n",
      "getting date 2019-08 from airport 10397\n",
      "getting date 2019-09 from airport 10397\n",
      "getting date 2019-10 from airport 10397\n",
      "getting date 2019-11 from airport 10397\n",
      "getting date 2019-12 from airport 10397\n",
      "getting date 2020-01 from airport 10397\n",
      "getting date 2020-02 from airport 10397\n"
     ]
    },
    {
     "name": "stderr",
     "output_type": "stream",
     "text": [
      "\r",
      "  5%|████                                                                           | 19/364 [02:02<2:40:50, 27.97s/it]"
     ]
    },
    {
     "name": "stdout",
     "output_type": "stream",
     "text": [
      "getting date 2020-03 from airport 10397\n"
     ]
    },
    {
     "name": "stderr",
     "output_type": "stream",
     "text": [
      " 11%|█████████                                                                        | 41/364 [02:42<09:58,  1.85s/it]"
     ]
    },
    {
     "name": "stdout",
     "output_type": "stream",
     "text": [
      "getting date 2019-01 from airport 14831\n",
      "getting date 2019-02 from airport 14831\n",
      "getting date 2019-03 from airport 14831\n",
      "getting date 2019-04 from airport 14831\n",
      "getting date 2019-05 from airport 14831\n",
      "getting date 2019-06 from airport 14831\n",
      "getting date 2019-07 from airport 14831\n",
      "getting date 2019-08 from airport 14831\n",
      "getting date 2019-09 from airport 14831\n",
      "getting date 2019-10 from airport 14831\n",
      "getting date 2019-11 from airport 14831\n",
      "getting date 2019-12 from airport 14831\n",
      "getting date 2020-01 from airport 14831\n",
      "getting date 2020-02 from airport 14831\n"
     ]
    },
    {
     "name": "stderr",
     "output_type": "stream",
     "text": [
      "\r",
      " 12%|█████████                                                                      | 42/364 [03:15<1:00:05, 11.20s/it]"
     ]
    },
    {
     "name": "stdout",
     "output_type": "stream",
     "text": [
      "getting date 2020-03 from airport 14831\n"
     ]
    },
    {
     "name": "stderr",
     "output_type": "stream",
     "text": [
      " 15%|███████████▊                                                                     | 53/364 [03:35<10:14,  1.98s/it]"
     ]
    },
    {
     "name": "stdout",
     "output_type": "stream",
     "text": [
      "getting date 2019-01 from airport 11292\n",
      "getting date 2019-02 from airport 11292\n",
      "getting date 2019-03 from airport 11292\n",
      "getting date 2019-04 from airport 11292\n",
      "getting date 2019-05 from airport 11292\n",
      "getting date 2019-06 from airport 11292\n",
      "getting date 2019-07 from airport 11292\n",
      "getting date 2019-08 from airport 11292\n",
      "getting date 2019-09 from airport 11292\n",
      "getting date 2019-10 from airport 11292\n",
      "getting date 2019-11 from airport 11292\n",
      "getting date 2019-12 from airport 11292\n",
      "getting date 2020-01 from airport 11292\n",
      "getting date 2020-02 from airport 11292\n"
     ]
    },
    {
     "name": "stderr",
     "output_type": "stream",
     "text": [
      "\r",
      " 15%|███████████▋                                                                   | 54/364 [04:50<2:03:45, 23.95s/it]"
     ]
    },
    {
     "name": "stdout",
     "output_type": "stream",
     "text": [
      "getting date 2020-03 from airport 11292\n"
     ]
    },
    {
     "name": "stderr",
     "output_type": "stream",
     "text": [
      " 17%|██████████████                                                                   | 63/364 [05:07<13:40,  2.73s/it]"
     ]
    },
    {
     "name": "stdout",
     "output_type": "stream",
     "text": [
      "getting date 2019-01 from airport 11259\n",
      "getting date 2019-02 from airport 11259\n",
      "getting date 2019-03 from airport 11259\n",
      "getting date 2019-04 from airport 11259\n",
      "getting date 2019-05 from airport 11259\n",
      "getting date 2019-06 from airport 11259\n",
      "getting date 2019-07 from airport 11259\n",
      "getting date 2019-08 from airport 11259\n",
      "getting date 2019-09 from airport 11259\n",
      "getting date 2019-10 from airport 11259\n",
      "getting date 2019-11 from airport 11259\n",
      "getting date 2019-12 from airport 11259\n",
      "getting date 2020-01 from airport 11259\n",
      "getting date 2020-02 from airport 11259\n"
     ]
    },
    {
     "name": "stderr",
     "output_type": "stream",
     "text": [
      "\r",
      " 18%|██████████████▏                                                                  | 64/364 [05:40<59:13, 11.85s/it]"
     ]
    },
    {
     "name": "stdout",
     "output_type": "stream",
     "text": [
      "getting date 2020-03 from airport 11259\n"
     ]
    },
    {
     "name": "stderr",
     "output_type": "stream",
     "text": [
      " 18%|██████████████▋                                                                  | 66/364 [05:44<33:37,  6.77s/it]"
     ]
    },
    {
     "name": "stdout",
     "output_type": "stream",
     "text": [
      "getting date 2019-01 from airport 12402\n",
      "getting date 2019-02 from airport 12402\n",
      "getting date 2019-03 from airport 12402\n",
      "getting date 2019-04 from airport 12402\n",
      "getting date 2019-05 from airport 12402\n",
      "getting date 2019-06 from airport 12402\n",
      "getting date 2019-07 from airport 12402\n",
      "getting date 2019-08 from airport 12402\n",
      "getting date 2019-09 from airport 12402\n",
      "getting date 2019-10 from airport 12402\n",
      "getting date 2019-11 from airport 12402\n",
      "getting date 2019-12 from airport 12402\n",
      "getting date 2020-01 from airport 12402\n",
      "getting date 2020-02 from airport 12402\n"
     ]
    },
    {
     "name": "stderr",
     "output_type": "stream",
     "text": [
      "\r",
      " 18%|██████████████▌                                                                | 67/364 [06:16<1:11:25, 14.43s/it]"
     ]
    },
    {
     "name": "stdout",
     "output_type": "stream",
     "text": [
      "getting date 2020-03 from airport 12402\n"
     ]
    },
    {
     "name": "stderr",
     "output_type": "stream",
     "text": [
      " 23%|██████████████████▋                                                              | 84/364 [06:47<08:55,  1.91s/it]"
     ]
    },
    {
     "name": "stdout",
     "output_type": "stream",
     "text": [
      "getting date 2019-01 from airport 11618\n",
      "getting date 2019-02 from airport 11618\n",
      "getting date 2019-03 from airport 11618\n",
      "getting date 2019-04 from airport 11618\n",
      "getting date 2019-05 from airport 11618\n",
      "getting date 2019-06 from airport 11618\n",
      "getting date 2019-07 from airport 11618\n",
      "getting date 2019-08 from airport 11618\n",
      "getting date 2019-09 from airport 11618\n",
      "getting date 2019-10 from airport 11618\n",
      "getting date 2019-11 from airport 11618\n",
      "getting date 2019-12 from airport 11618\n",
      "getting date 2020-01 from airport 11618\n",
      "getting date 2020-02 from airport 11618\n"
     ]
    },
    {
     "name": "stderr",
     "output_type": "stream",
     "text": [
      "\r",
      " 23%|██████████████████▍                                                            | 85/364 [07:33<1:10:39, 15.20s/it]"
     ]
    },
    {
     "name": "stdout",
     "output_type": "stream",
     "text": [
      "getting date 2020-03 from airport 11618\n",
      "getting date 2019-01 from airport 15304\n",
      "getting date 2019-02 from airport 15304\n",
      "getting date 2019-03 from airport 15304\n",
      "getting date 2019-04 from airport 15304\n",
      "getting date 2019-05 from airport 15304\n",
      "getting date 2019-06 from airport 15304\n",
      "getting date 2019-07 from airport 15304\n",
      "getting date 2019-08 from airport 15304\n",
      "getting date 2019-09 from airport 15304\n",
      "getting date 2019-10 from airport 15304\n",
      "getting date 2019-11 from airport 15304\n",
      "getting date 2019-12 from airport 15304\n",
      "getting date 2020-01 from airport 15304\n",
      "getting date 2020-02 from airport 15304\n"
     ]
    },
    {
     "name": "stderr",
     "output_type": "stream",
     "text": [
      "\r",
      " 24%|██████████████████▋                                                            | 86/364 [08:04<1:32:29, 19.96s/it]"
     ]
    },
    {
     "name": "stdout",
     "output_type": "stream",
     "text": [
      "getting date 2020-03 from airport 15304\n"
     ]
    },
    {
     "name": "stderr",
     "output_type": "stream",
     "text": [
      " 36%|████████████████████████████▊                                                   | 131/364 [09:27<06:57,  1.79s/it]"
     ]
    },
    {
     "name": "stdout",
     "output_type": "stream",
     "text": [
      "getting date 2019-01 from airport 14107\n",
      "getting date 2019-02 from airport 14107\n",
      "getting date 2019-03 from airport 14107\n",
      "getting date 2019-04 from airport 14107\n",
      "getting date 2019-05 from airport 14107\n",
      "getting date 2019-06 from airport 14107\n",
      "getting date 2019-07 from airport 14107\n",
      "getting date 2019-08 from airport 14107\n",
      "getting date 2019-09 from airport 14107\n",
      "getting date 2019-10 from airport 14107\n",
      "getting date 2019-11 from airport 14107\n",
      "getting date 2019-12 from airport 14107\n",
      "getting date 2020-01 from airport 14107\n",
      "getting date 2020-02 from airport 14107\n"
     ]
    },
    {
     "name": "stderr",
     "output_type": "stream",
     "text": [
      "\r",
      " 36%|████████████████████████████▎                                                 | 132/364 [10:30<1:18:26, 20.29s/it]"
     ]
    },
    {
     "name": "stdout",
     "output_type": "stream",
     "text": [
      "getting date 2020-03 from airport 14107\n"
     ]
    },
    {
     "name": "stderr",
     "output_type": "stream",
     "text": [
      "\r",
      " 37%|█████████████████████████████▏                                                  | 133/364 [10:32<56:50, 14.77s/it]"
     ]
    },
    {
     "name": "stdout",
     "output_type": "stream",
     "text": [
      "getting date 2019-01 from airport 14747\n",
      "getting date 2019-02 from airport 14747\n",
      "getting date 2019-03 from airport 14747\n",
      "getting date 2019-04 from airport 14747\n",
      "getting date 2019-05 from airport 14747\n",
      "getting date 2019-06 from airport 14747\n",
      "getting date 2019-07 from airport 14747\n",
      "getting date 2019-08 from airport 14747\n",
      "getting date 2019-09 from airport 14747\n",
      "getting date 2019-10 from airport 14747\n",
      "getting date 2019-11 from airport 14747\n",
      "getting date 2019-12 from airport 14747\n",
      "getting date 2020-01 from airport 14747\n",
      "getting date 2020-02 from airport 14747\n"
     ]
    },
    {
     "name": "stderr",
     "output_type": "stream",
     "text": [
      "\r",
      " 37%|████████████████████████████▋                                                 | 134/364 [11:29<1:44:43, 27.32s/it]"
     ]
    },
    {
     "name": "stdout",
     "output_type": "stream",
     "text": [
      "getting date 2020-03 from airport 14747\n"
     ]
    },
    {
     "name": "stderr",
     "output_type": "stream",
     "text": [
      " 39%|██████████████████████████████▉                                                 | 141/364 [11:42<14:41,  3.95s/it]"
     ]
    },
    {
     "name": "stdout",
     "output_type": "stream",
     "text": [
      "getting date 2019-01 from airport 12889\n",
      "getting date 2019-02 from airport 12889\n",
      "getting date 2019-03 from airport 12889\n",
      "getting date 2019-04 from airport 12889\n",
      "getting date 2019-05 from airport 12889\n",
      "getting date 2019-06 from airport 12889\n",
      "getting date 2019-07 from airport 12889\n",
      "getting date 2019-08 from airport 12889\n",
      "getting date 2019-09 from airport 12889\n",
      "getting date 2019-10 from airport 12889\n",
      "getting date 2019-11 from airport 12889\n",
      "getting date 2019-12 from airport 12889\n",
      "getting date 2020-01 from airport 12889\n",
      "getting date 2020-02 from airport 12889\n"
     ]
    },
    {
     "name": "stderr",
     "output_type": "stream",
     "text": [
      "\r",
      " 39%|██████████████████████████████▍                                               | 142/364 [12:40<1:15:05, 20.30s/it]"
     ]
    },
    {
     "name": "stdout",
     "output_type": "stream",
     "text": [
      "getting date 2020-03 from airport 12889\n"
     ]
    },
    {
     "name": "stderr",
     "output_type": "stream",
     "text": [
      " 40%|████████████████████████████████                                                | 146/364 [12:47<22:40,  6.24s/it]"
     ]
    },
    {
     "name": "stdout",
     "output_type": "stream",
     "text": [
      "getting date 2019-01 from airport 14492\n",
      "getting date 2019-02 from airport 14492\n",
      "getting date 2019-03 from airport 14492\n",
      "getting date 2019-04 from airport 14492\n",
      "getting date 2019-05 from airport 14492\n",
      "getting date 2019-06 from airport 14492\n",
      "getting date 2019-07 from airport 14492\n",
      "getting date 2019-08 from airport 14492\n",
      "getting date 2019-09 from airport 14492\n",
      "getting date 2019-10 from airport 14492\n",
      "getting date 2019-11 from airport 14492\n",
      "getting date 2019-12 from airport 14492\n",
      "getting date 2020-01 from airport 14492\n",
      "getting date 2020-02 from airport 14492\n"
     ]
    },
    {
     "name": "stderr",
     "output_type": "stream",
     "text": [
      "\r",
      " 40%|████████████████████████████████▎                                               | 147/364 [13:22<53:32, 14.80s/it]"
     ]
    },
    {
     "name": "stdout",
     "output_type": "stream",
     "text": [
      "getting date 2020-03 from airport 14492\n"
     ]
    },
    {
     "name": "stderr",
     "output_type": "stream",
     "text": [
      "\r",
      " 41%|████████████████████████████████▌                                               | 148/364 [13:24<39:20, 10.93s/it]"
     ]
    },
    {
     "name": "stdout",
     "output_type": "stream",
     "text": [
      "getting date 2019-01 from airport 13204\n",
      "getting date 2019-02 from airport 13204\n",
      "getting date 2019-03 from airport 13204\n",
      "getting date 2019-04 from airport 13204\n",
      "getting date 2019-05 from airport 13204\n",
      "getting date 2019-06 from airport 13204\n",
      "getting date 2019-07 from airport 13204\n",
      "getting date 2019-08 from airport 13204\n",
      "getting date 2019-09 from airport 13204\n",
      "getting date 2019-10 from airport 13204\n",
      "getting date 2019-11 from airport 13204\n",
      "getting date 2019-12 from airport 13204\n",
      "getting date 2020-01 from airport 13204\n",
      "getting date 2020-02 from airport 13204\n"
     ]
    },
    {
     "name": "stderr",
     "output_type": "stream",
     "text": [
      "\r",
      " 41%|███████████████████████████████▉                                              | 149/364 [14:08<1:15:05, 20.96s/it]"
     ]
    },
    {
     "name": "stdout",
     "output_type": "stream",
     "text": [
      "getting date 2020-03 from airport 13204\n"
     ]
    },
    {
     "name": "stderr",
     "output_type": "stream",
     "text": [
      " 44%|███████████████████████████████████▍                                            | 161/364 [14:31<07:11,  2.12s/it]"
     ]
    },
    {
     "name": "stdout",
     "output_type": "stream",
     "text": [
      "getting date 2019-01 from airport 13487\n",
      "getting date 2019-02 from airport 13487\n",
      "getting date 2019-03 from airport 13487\n",
      "getting date 2019-04 from airport 13487\n",
      "getting date 2019-05 from airport 13487\n",
      "getting date 2019-06 from airport 13487\n",
      "getting date 2019-07 from airport 13487\n",
      "getting date 2019-08 from airport 13487\n",
      "getting date 2019-09 from airport 13487\n",
      "getting date 2019-10 from airport 13487\n",
      "getting date 2019-11 from airport 13487\n",
      "getting date 2019-12 from airport 13487\n",
      "getting date 2020-01 from airport 13487\n",
      "getting date 2020-02 from airport 13487\n"
     ]
    },
    {
     "name": "stderr",
     "output_type": "stream",
     "text": [
      "\r",
      " 45%|███████████████████████████████████▌                                            | 162/364 [15:11<46:08, 13.71s/it]"
     ]
    },
    {
     "name": "stdout",
     "output_type": "stream",
     "text": [
      "getting date 2020-03 from airport 13487\n"
     ]
    },
    {
     "name": "stderr",
     "output_type": "stream",
     "text": [
      " 46%|████████████████████████████████████▋                                           | 167/364 [15:21<12:40,  3.86s/it]"
     ]
    },
    {
     "name": "stdout",
     "output_type": "stream",
     "text": [
      "getting date 2019-01 from airport 10299\n",
      "getting date 2019-02 from airport 10299\n",
      "getting date 2019-03 from airport 10299\n",
      "getting date 2019-04 from airport 10299\n",
      "getting date 2019-05 from airport 10299\n",
      "getting date 2019-06 from airport 10299\n",
      "getting date 2019-07 from airport 10299\n",
      "getting date 2019-08 from airport 10299\n",
      "getting date 2019-09 from airport 10299\n",
      "getting date 2019-10 from airport 10299\n",
      "getting date 2019-11 from airport 10299\n",
      "getting date 2019-12 from airport 10299\n",
      "getting date 2020-01 from airport 10299\n",
      "getting date 2020-02 from airport 10299\n"
     ]
    },
    {
     "name": "stderr",
     "output_type": "stream",
     "text": [
      "\r",
      " 46%|████████████████████████████████████▉                                           | 168/364 [16:00<46:49, 14.33s/it]"
     ]
    },
    {
     "name": "stdout",
     "output_type": "stream",
     "text": [
      "getting date 2020-03 from airport 10299\n"
     ]
    },
    {
     "name": "stderr",
     "output_type": "stream",
     "text": [
      " 52%|█████████████████████████████████████████▌                                      | 189/364 [16:38<05:28,  1.88s/it]"
     ]
    },
    {
     "name": "stdout",
     "output_type": "stream",
     "text": [
      "getting date 2019-01 from airport 11278\n",
      "getting date 2019-02 from airport 11278\n",
      "getting date 2019-03 from airport 11278\n",
      "getting date 2019-04 from airport 11278\n",
      "getting date 2019-05 from airport 11278\n",
      "getting date 2019-06 from airport 11278\n",
      "getting date 2019-07 from airport 11278\n",
      "getting date 2019-08 from airport 11278\n",
      "getting date 2019-09 from airport 11278\n",
      "getting date 2019-10 from airport 11278\n",
      "getting date 2019-11 from airport 11278\n",
      "getting date 2019-12 from airport 11278\n",
      "getting date 2020-01 from airport 11278\n",
      "getting date 2020-02 from airport 11278\n"
     ]
    },
    {
     "name": "stderr",
     "output_type": "stream",
     "text": [
      "\r",
      " 52%|█████████████████████████████████████████▊                                      | 190/364 [17:27<45:53, 15.82s/it]"
     ]
    },
    {
     "name": "stdout",
     "output_type": "stream",
     "text": [
      "getting date 2020-03 from airport 11278\n"
     ]
    },
    {
     "name": "stderr",
     "output_type": "stream",
     "text": [
      "\r",
      " 52%|█████████████████████████████████████████▉                                      | 191/364 [17:29<33:27, 11.60s/it]"
     ]
    },
    {
     "name": "stdout",
     "output_type": "stream",
     "text": [
      "getting date 2019-01 from airport 14100\n",
      "getting date 2019-02 from airport 14100\n",
      "getting date 2019-03 from airport 14100\n",
      "getting date 2019-04 from airport 14100\n",
      "getting date 2019-05 from airport 14100\n",
      "getting date 2019-06 from airport 14100\n",
      "getting date 2019-07 from airport 14100\n",
      "getting date 2019-08 from airport 14100\n",
      "getting date 2019-09 from airport 14100\n",
      "getting date 2019-10 from airport 14100\n",
      "getting date 2019-11 from airport 14100\n",
      "getting date 2019-12 from airport 14100\n",
      "getting date 2020-01 from airport 14100\n",
      "getting date 2020-02 from airport 14100\n"
     ]
    },
    {
     "name": "stderr",
     "output_type": "stream",
     "text": [
      "\r",
      " 53%|██████████████████████████████████████████▏                                     | 192/364 [18:11<59:41, 20.82s/it]"
     ]
    },
    {
     "name": "stdout",
     "output_type": "stream",
     "text": [
      "getting date 2020-03 from airport 14100\n"
     ]
    },
    {
     "name": "stderr",
     "output_type": "stream",
     "text": [
      " 54%|███████████████████████████████████████████▌                                    | 198/364 [18:22<11:05,  4.01s/it]"
     ]
    },
    {
     "name": "stdout",
     "output_type": "stream",
     "text": [
      "getting date 2019-01 from airport 10821\n",
      "getting date 2019-02 from airport 10821\n",
      "getting date 2019-03 from airport 10821\n",
      "getting date 2019-04 from airport 10821\n",
      "getting date 2019-05 from airport 10821\n",
      "getting date 2019-06 from airport 10821\n",
      "getting date 2019-07 from airport 10821\n",
      "getting date 2019-08 from airport 10821\n",
      "getting date 2019-09 from airport 10821\n",
      "getting date 2019-10 from airport 10821\n",
      "getting date 2019-11 from airport 10821\n",
      "getting date 2019-12 from airport 10821\n",
      "getting date 2020-01 from airport 10821\n",
      "getting date 2020-02 from airport 10821\n"
     ]
    },
    {
     "name": "stderr",
     "output_type": "stream",
     "text": [
      "\r",
      " 55%|███████████████████████████████████████████▋                                    | 199/364 [19:00<39:42, 14.44s/it]"
     ]
    },
    {
     "name": "stdout",
     "output_type": "stream",
     "text": [
      "getting date 2020-03 from airport 10821\n",
      "getting date 2019-01 from airport 10721\n",
      "getting date 2019-02 from airport 10721\n",
      "getting date 2019-03 from airport 10721\n",
      "getting date 2019-04 from airport 10721\n",
      "getting date 2019-05 from airport 10721\n",
      "getting date 2019-06 from airport 10721\n",
      "getting date 2019-07 from airport 10721\n",
      "getting date 2019-08 from airport 10721\n",
      "getting date 2019-09 from airport 10721\n",
      "getting date 2019-10 from airport 10721\n",
      "getting date 2019-11 from airport 10721\n",
      "getting date 2019-12 from airport 10721\n",
      "getting date 2020-01 from airport 10721\n",
      "getting date 2020-02 from airport 10721\n"
     ]
    },
    {
     "name": "stderr",
     "output_type": "stream",
     "text": [
      "\r",
      " 55%|██████████████████████████████████████████▊                                   | 200/364 [19:53<1:10:52, 25.93s/it]"
     ]
    },
    {
     "name": "stdout",
     "output_type": "stream",
     "text": [
      "getting date 2020-03 from airport 10721\n"
     ]
    },
    {
     "name": "stderr",
     "output_type": "stream",
     "text": [
      " 56%|████████████████████████████████████████████▌                                   | 203/364 [19:59<27:20, 10.19s/it]"
     ]
    },
    {
     "name": "stdout",
     "output_type": "stream",
     "text": [
      "getting date 2019-01 from airport 12953\n",
      "getting date 2019-02 from airport 12953\n",
      "getting date 2019-03 from airport 12953\n",
      "getting date 2019-04 from airport 12953\n",
      "getting date 2019-05 from airport 12953\n",
      "getting date 2019-06 from airport 12953\n",
      "getting date 2019-07 from airport 12953\n",
      "getting date 2019-08 from airport 12953\n",
      "getting date 2019-09 from airport 12953\n",
      "getting date 2019-10 from airport 12953\n",
      "getting date 2019-11 from airport 12953\n",
      "getting date 2019-12 from airport 12953\n",
      "getting date 2020-01 from airport 12953\n",
      "getting date 2020-02 from airport 12953\n"
     ]
    },
    {
     "name": "stderr",
     "output_type": "stream",
     "text": [
      "\r",
      " 56%|███████████████████████████████████████████▋                                  | 204/364 [20:57<1:05:42, 24.64s/it]"
     ]
    },
    {
     "name": "stdout",
     "output_type": "stream",
     "text": [
      "getting date 2020-03 from airport 12953\n"
     ]
    },
    {
     "name": "stderr",
     "output_type": "stream",
     "text": [
      " 61%|████████████████████████████████████████████████▌                               | 221/364 [21:30<04:43,  1.98s/it]"
     ]
    },
    {
     "name": "stdout",
     "output_type": "stream",
     "text": [
      "getting date 2019-01 from airport 12758\n",
      "getting date 2019-02 from airport 12758\n",
      "getting date 2019-03 from airport 12758\n",
      "getting date 2019-04 from airport 12758\n",
      "getting date 2019-05 from airport 12758\n",
      "getting date 2019-06 from airport 12758\n",
      "getting date 2019-07 from airport 12758\n",
      "getting date 2019-08 from airport 12758\n",
      "getting date 2019-09 from airport 12758\n",
      "getting date 2019-10 from airport 12758\n",
      "getting date 2019-11 from airport 12758\n",
      "getting date 2019-12 from airport 12758\n",
      "getting date 2020-01 from airport 12758\n",
      "getting date 2020-02 from airport 12758\n"
     ]
    },
    {
     "name": "stderr",
     "output_type": "stream",
     "text": [
      "\r",
      " 61%|████████████████████████████████████████████████▊                               | 222/364 [22:05<28:36, 12.09s/it]"
     ]
    },
    {
     "name": "stdout",
     "output_type": "stream",
     "text": [
      "getting date 2020-03 from airport 12758\n"
     ]
    },
    {
     "name": "stderr",
     "output_type": "stream",
     "text": [
      " 63%|██████████████████████████████████████████████████▎                             | 229/364 [22:18<06:05,  2.70s/it]"
     ]
    },
    {
     "name": "stdout",
     "output_type": "stream",
     "text": [
      "getting date 2019-01 from airport 12266\n",
      "getting date 2019-02 from airport 12266\n",
      "getting date 2019-03 from airport 12266\n",
      "getting date 2019-04 from airport 12266\n",
      "getting date 2019-05 from airport 12266\n",
      "getting date 2019-06 from airport 12266\n",
      "getting date 2019-07 from airport 12266\n",
      "getting date 2019-08 from airport 12266\n",
      "getting date 2019-09 from airport 12266\n",
      "getting date 2019-10 from airport 12266\n",
      "getting date 2019-11 from airport 12266\n",
      "getting date 2019-12 from airport 12266\n",
      "getting date 2020-01 from airport 12266\n",
      "getting date 2020-02 from airport 12266\n"
     ]
    },
    {
     "name": "stderr",
     "output_type": "stream",
     "text": [
      "\r",
      " 63%|██████████████████████████████████████████████████▌                             | 230/364 [22:55<28:58, 12.97s/it]"
     ]
    },
    {
     "name": "stdout",
     "output_type": "stream",
     "text": [
      "getting date 2020-03 from airport 12266\n",
      "getting date 2019-01 from airport 12892\n",
      "getting date 2019-02 from airport 12892\n",
      "getting date 2019-03 from airport 12892\n",
      "getting date 2019-04 from airport 12892\n",
      "getting date 2019-05 from airport 12892\n",
      "getting date 2019-06 from airport 12892\n",
      "getting date 2019-07 from airport 12892\n",
      "getting date 2019-08 from airport 12892\n",
      "getting date 2019-09 from airport 12892\n",
      "getting date 2019-10 from airport 12892\n",
      "getting date 2019-11 from airport 12892\n",
      "getting date 2019-12 from airport 12892\n",
      "getting date 2020-01 from airport 12892\n",
      "getting date 2020-02 from airport 12892\n"
     ]
    },
    {
     "name": "stderr",
     "output_type": "stream",
     "text": [
      "\r",
      " 63%|█████████████████████████████████████████████████▌                            | 231/364 [24:23<1:18:38, 35.47s/it]"
     ]
    },
    {
     "name": "stdout",
     "output_type": "stream",
     "text": [
      "getting date 2020-03 from airport 12892\n"
     ]
    },
    {
     "name": "stderr",
     "output_type": "stream",
     "text": [
      " 66%|████████████████████████████████████████████████████▌                           | 239/364 [24:38<07:55,  3.80s/it]"
     ]
    },
    {
     "name": "stdout",
     "output_type": "stream",
     "text": [
      "getting date 2019-01 from airport 11697\n",
      "getting date 2019-02 from airport 11697\n",
      "getting date 2019-03 from airport 11697\n",
      "getting date 2019-04 from airport 11697\n",
      "getting date 2019-05 from airport 11697\n",
      "getting date 2019-06 from airport 11697\n",
      "getting date 2019-07 from airport 11697\n",
      "getting date 2019-08 from airport 11697\n",
      "getting date 2019-09 from airport 11697\n",
      "getting date 2019-10 from airport 11697\n",
      "getting date 2019-11 from airport 11697\n",
      "getting date 2019-12 from airport 11697\n",
      "getting date 2020-01 from airport 11697\n",
      "getting date 2020-02 from airport 11697\n"
     ]
    },
    {
     "name": "stderr",
     "output_type": "stream",
     "text": [
      "\r",
      " 66%|████████████████████████████████████████████████████▋                           | 240/364 [25:14<27:26, 13.28s/it]"
     ]
    },
    {
     "name": "stdout",
     "output_type": "stream",
     "text": [
      "getting date 2020-03 from airport 11697\n"
     ]
    },
    {
     "name": "stderr",
     "output_type": "stream",
     "text": [
      " 69%|██████████████████████████████████████████████████████▉                         | 250/364 [25:32<04:16,  2.25s/it]"
     ]
    },
    {
     "name": "stdout",
     "output_type": "stream",
     "text": [
      "getting date 2019-01 from airport 12173\n",
      "getting date 2019-02 from airport 12173\n",
      "getting date 2019-03 from airport 12173\n",
      "getting date 2019-04 from airport 12173\n",
      "getting date 2019-05 from airport 12173\n",
      "getting date 2019-06 from airport 12173\n",
      "getting date 2019-07 from airport 12173\n",
      "getting date 2019-08 from airport 12173\n",
      "getting date 2019-09 from airport 12173\n",
      "getting date 2019-10 from airport 12173\n",
      "getting date 2019-11 from airport 12173\n",
      "getting date 2019-12 from airport 12173\n",
      "getting date 2020-01 from airport 12173\n",
      "getting date 2020-02 from airport 12173\n"
     ]
    },
    {
     "name": "stderr",
     "output_type": "stream",
     "text": [
      "\r",
      " 69%|███████████████████████████████████████████████████████▏                        | 251/364 [26:30<35:16, 18.73s/it]"
     ]
    },
    {
     "name": "stdout",
     "output_type": "stream",
     "text": [
      "getting date 2020-03 from airport 12173\n"
     ]
    },
    {
     "name": "stderr",
     "output_type": "stream",
     "text": [
      " 70%|████████████████████████████████████████████████████████                        | 255/364 [26:37<10:46,  5.93s/it]"
     ]
    },
    {
     "name": "stdout",
     "output_type": "stream",
     "text": [
      "getting date 2019-01 from airport 11433\n",
      "getting date 2019-02 from airport 11433\n",
      "getting date 2019-03 from airport 11433\n",
      "getting date 2019-04 from airport 11433\n",
      "getting date 2019-05 from airport 11433\n",
      "getting date 2019-06 from airport 11433\n",
      "getting date 2019-07 from airport 11433\n",
      "getting date 2019-08 from airport 11433\n",
      "getting date 2019-09 from airport 11433\n",
      "getting date 2019-10 from airport 11433\n",
      "getting date 2019-11 from airport 11433\n",
      "getting date 2019-12 from airport 11433\n",
      "getting date 2020-01 from airport 11433\n",
      "getting date 2020-02 from airport 11433\n"
     ]
    },
    {
     "name": "stderr",
     "output_type": "stream",
     "text": [
      "\r",
      " 70%|████████████████████████████████████████████████████████▎                       | 256/364 [27:10<25:24, 14.12s/it]"
     ]
    },
    {
     "name": "stdout",
     "output_type": "stream",
     "text": [
      "getting date 2020-03 from airport 11433\n"
     ]
    },
    {
     "name": "stderr",
     "output_type": "stream",
     "text": [
      "\r",
      " 71%|████████████████████████████████████████████████████████▍                       | 257/364 [27:12<18:37, 10.44s/it]"
     ]
    },
    {
     "name": "stdout",
     "output_type": "stream",
     "text": [
      "getting date 2019-01 from airport 11298\n",
      "getting date 2019-02 from airport 11298\n",
      "getting date 2019-03 from airport 11298\n",
      "getting date 2019-04 from airport 11298\n",
      "getting date 2019-05 from airport 11298\n",
      "getting date 2019-06 from airport 11298\n",
      "getting date 2019-07 from airport 11298\n",
      "getting date 2019-08 from airport 11298\n",
      "getting date 2019-09 from airport 11298\n",
      "getting date 2019-10 from airport 11298\n",
      "getting date 2019-11 from airport 11298\n",
      "getting date 2019-12 from airport 11298\n",
      "getting date 2020-01 from airport 11298\n",
      "getting date 2020-02 from airport 11298\n"
     ]
    },
    {
     "name": "stderr",
     "output_type": "stream",
     "text": [
      "\r",
      " 71%|████████████████████████████████████████████████████████▋                       | 258/364 [28:06<41:29, 23.49s/it]"
     ]
    },
    {
     "name": "stdout",
     "output_type": "stream",
     "text": [
      "getting date 2020-03 from airport 11298\n",
      "getting date 2019-01 from airport 14771\n",
      "getting date 2019-02 from airport 14771\n",
      "getting date 2019-03 from airport 14771\n",
      "getting date 2019-04 from airport 14771\n",
      "getting date 2019-05 from airport 14771\n",
      "getting date 2019-06 from airport 14771\n",
      "getting date 2019-07 from airport 14771\n",
      "getting date 2019-08 from airport 14771\n",
      "getting date 2019-09 from airport 14771\n",
      "getting date 2019-10 from airport 14771\n",
      "getting date 2019-11 from airport 14771\n",
      "getting date 2019-12 from airport 14771\n",
      "getting date 2020-01 from airport 14771\n",
      "getting date 2020-02 from airport 14771\n"
     ]
    },
    {
     "name": "stderr",
     "output_type": "stream",
     "text": [
      "\r",
      " 71%|████████████████████████████████████████████████████████▉                       | 259/364 [28:58<56:07, 32.07s/it]"
     ]
    },
    {
     "name": "stdout",
     "output_type": "stream",
     "text": [
      "getting date 2020-03 from airport 14771\n"
     ]
    },
    {
     "name": "stderr",
     "output_type": "stream",
     "text": [
      " 72%|█████████████████████████████████████████████████████████▎                      | 261/364 [29:02<28:35, 16.66s/it]"
     ]
    },
    {
     "name": "stdout",
     "output_type": "stream",
     "text": [
      "getting date 2019-01 from airport 11057\n",
      "getting date 2019-02 from airport 11057\n",
      "getting date 2019-03 from airport 11057\n",
      "getting date 2019-04 from airport 11057\n",
      "getting date 2019-05 from airport 11057\n",
      "getting date 2019-06 from airport 11057\n",
      "getting date 2019-07 from airport 11057\n",
      "getting date 2019-08 from airport 11057\n",
      "getting date 2019-09 from airport 11057\n",
      "getting date 2019-10 from airport 11057\n",
      "getting date 2019-11 from airport 11057\n",
      "getting date 2019-12 from airport 11057\n",
      "getting date 2020-01 from airport 11057\n",
      "getting date 2020-02 from airport 11057\n"
     ]
    },
    {
     "name": "stderr",
     "output_type": "stream",
     "text": [
      "\r",
      " 72%|█████████████████████████████████████████████████████████▌                      | 262/364 [29:39<38:42, 22.77s/it]"
     ]
    },
    {
     "name": "stdout",
     "output_type": "stream",
     "text": [
      "getting date 2020-03 from airport 11057\n"
     ]
    },
    {
     "name": "stderr",
     "output_type": "stream",
     "text": [
      " 73%|██████████████████████████████████████████████████████████▍                     | 266/364 [29:46<11:12,  6.86s/it]"
     ]
    },
    {
     "name": "stdout",
     "output_type": "stream",
     "text": [
      "getting date 2019-01 from airport 14893\n",
      "getting date 2019-02 from airport 14893\n",
      "getting date 2019-03 from airport 14893\n",
      "getting date 2019-04 from airport 14893\n",
      "getting date 2019-05 from airport 14893\n",
      "getting date 2019-06 from airport 14893\n",
      "getting date 2019-07 from airport 14893\n",
      "getting date 2019-08 from airport 14893\n",
      "getting date 2019-09 from airport 14893\n",
      "getting date 2019-10 from airport 14893\n",
      "getting date 2019-11 from airport 14893\n",
      "getting date 2019-12 from airport 14893\n",
      "getting date 2020-01 from airport 14893\n",
      "getting date 2020-02 from airport 14893\n"
     ]
    },
    {
     "name": "stderr",
     "output_type": "stream",
     "text": [
      "\r",
      " 73%|██████████████████████████████████████████████████████████▋                     | 267/364 [30:20<23:56, 14.81s/it]"
     ]
    },
    {
     "name": "stdout",
     "output_type": "stream",
     "text": [
      "getting date 2020-03 from airport 14893\n"
     ]
    },
    {
     "name": "stderr",
     "output_type": "stream",
     "text": [
      "\r",
      " 74%|██████████████████████████████████████████████████████████▉                     | 268/364 [30:22<17:29, 10.93s/it]"
     ]
    },
    {
     "name": "stdout",
     "output_type": "stream",
     "text": [
      "getting date 2019-01 from airport 13495\n",
      "getting date 2019-02 from airport 13495\n",
      "getting date 2019-03 from airport 13495\n",
      "getting date 2019-04 from airport 13495\n",
      "getting date 2019-05 from airport 13495\n",
      "getting date 2019-06 from airport 13495\n",
      "getting date 2019-07 from airport 13495\n",
      "getting date 2019-08 from airport 13495\n",
      "getting date 2019-09 from airport 13495\n",
      "getting date 2019-10 from airport 13495\n",
      "getting date 2019-11 from airport 13495\n",
      "getting date 2019-12 from airport 13495\n",
      "getting date 2020-01 from airport 13495\n",
      "getting date 2020-02 from airport 13495\n"
     ]
    },
    {
     "name": "stderr",
     "output_type": "stream",
     "text": [
      "\r",
      " 74%|███████████████████████████████████████████████████████████                     | 269/364 [30:56<28:25, 17.95s/it]"
     ]
    },
    {
     "name": "stdout",
     "output_type": "stream",
     "text": [
      "getting date 2020-03 from airport 13495\n"
     ]
    },
    {
     "name": "stderr",
     "output_type": "stream",
     "text": [
      " 77%|█████████████████████████████████████████████████████████████▌                  | 280/364 [31:17<03:05,  2.21s/it]"
     ]
    },
    {
     "name": "stdout",
     "output_type": "stream",
     "text": [
      "getting date 2019-01 from airport 12191\n",
      "getting date 2019-02 from airport 12191\n",
      "getting date 2019-03 from airport 12191\n",
      "getting date 2019-04 from airport 12191\n",
      "getting date 2019-05 from airport 12191\n",
      "getting date 2019-06 from airport 12191\n",
      "getting date 2019-07 from airport 12191\n",
      "getting date 2019-08 from airport 12191\n",
      "getting date 2019-09 from airport 12191\n",
      "getting date 2019-10 from airport 12191\n",
      "getting date 2019-11 from airport 12191\n",
      "getting date 2019-12 from airport 12191\n",
      "getting date 2020-01 from airport 12191\n",
      "getting date 2020-02 from airport 12191\n"
     ]
    },
    {
     "name": "stderr",
     "output_type": "stream",
     "text": [
      "\r",
      " 77%|█████████████████████████████████████████████████████████████▊                  | 281/364 [31:52<16:39, 12.04s/it]"
     ]
    },
    {
     "name": "stdout",
     "output_type": "stream",
     "text": [
      "getting date 2020-03 from airport 12191\n"
     ]
    },
    {
     "name": "stderr",
     "output_type": "stream",
     "text": [
      " 79%|███████████████████████████████████████████████████████████████                 | 287/364 [32:04<04:00,  3.13s/it]"
     ]
    },
    {
     "name": "stdout",
     "output_type": "stream",
     "text": [
      "getting date 2019-01 from airport 14679\n",
      "getting date 2019-02 from airport 14679\n",
      "getting date 2019-03 from airport 14679\n",
      "getting date 2019-04 from airport 14679\n",
      "getting date 2019-05 from airport 14679\n",
      "getting date 2019-06 from airport 14679\n",
      "getting date 2019-07 from airport 14679\n",
      "getting date 2019-08 from airport 14679\n",
      "getting date 2019-09 from airport 14679\n",
      "getting date 2019-10 from airport 14679\n",
      "getting date 2019-11 from airport 14679\n",
      "getting date 2019-12 from airport 14679\n",
      "getting date 2020-01 from airport 14679\n",
      "getting date 2020-02 from airport 14679\n"
     ]
    },
    {
     "name": "stderr",
     "output_type": "stream",
     "text": [
      "\r",
      " 79%|███████████████████████████████████████████████████████████████▎                | 288/364 [32:44<18:11, 14.36s/it]"
     ]
    },
    {
     "name": "stdout",
     "output_type": "stream",
     "text": [
      "getting date 2020-03 from airport 14679\n"
     ]
    },
    {
     "name": "stderr",
     "output_type": "stream",
     "text": [
      " 81%|████████████████████████████████████████████████████████████████▌               | 294/364 [32:56<03:56,  3.38s/it]"
     ]
    },
    {
     "name": "stdout",
     "output_type": "stream",
     "text": [
      "getting date 2019-01 from airport 14869\n",
      "getting date 2019-02 from airport 14869\n",
      "getting date 2019-03 from airport 14869\n",
      "getting date 2019-04 from airport 14869\n",
      "getting date 2019-05 from airport 14869\n",
      "getting date 2019-06 from airport 14869\n",
      "getting date 2019-07 from airport 14869\n",
      "getting date 2019-08 from airport 14869\n",
      "getting date 2019-09 from airport 14869\n",
      "getting date 2019-10 from airport 14869\n",
      "getting date 2019-11 from airport 14869\n",
      "getting date 2019-12 from airport 14869\n",
      "getting date 2020-01 from airport 14869\n",
      "getting date 2020-02 from airport 14869\n"
     ]
    },
    {
     "name": "stderr",
     "output_type": "stream",
     "text": [
      "\r",
      " 81%|████████████████████████████████████████████████████████████████▊               | 295/364 [33:36<16:41, 14.52s/it]"
     ]
    },
    {
     "name": "stdout",
     "output_type": "stream",
     "text": [
      "getting date 2020-03 from airport 14869\n"
     ]
    },
    {
     "name": "stderr",
     "output_type": "stream",
     "text": [
      " 85%|████████████████████████████████████████████████████████████████████▎           | 311/364 [34:06<01:42,  1.93s/it]"
     ]
    },
    {
     "name": "stdout",
     "output_type": "stream",
     "text": [
      "getting date 2019-01 from airport 12982\n",
      "getting date 2019-02 from airport 12982\n",
      "getting date 2019-03 from airport 12982\n",
      "getting date 2019-04 from airport 12982\n",
      "getting date 2019-05 from airport 12982\n",
      "getting date 2019-06 from airport 12982\n",
      "getting date 2019-07 from airport 12982\n",
      "getting date 2019-08 from airport 12982\n",
      "getting date 2019-09 from airport 12982\n",
      "getting date 2019-10 from airport 12982\n",
      "getting date 2019-11 from airport 12982\n",
      "getting date 2019-12 from airport 12982\n",
      "getting date 2020-01 from airport 12982\n",
      "getting date 2020-02 from airport 12982\n"
     ]
    },
    {
     "name": "stderr",
     "output_type": "stream",
     "text": [
      "\r",
      " 86%|████████████████████████████████████████████████████████████████████▌           | 312/364 [34:41<10:14, 11.82s/it]"
     ]
    },
    {
     "name": "stdout",
     "output_type": "stream",
     "text": [
      "getting date 2020-03 from airport 12982\n"
     ]
    },
    {
     "name": "stderr",
     "output_type": "stream",
     "text": [
      " 87%|█████████████████████████████████████████████████████████████████████▏          | 315/364 [34:47<04:18,  5.28s/it]"
     ]
    },
    {
     "name": "stdout",
     "output_type": "stream",
     "text": [
      "getting date 2019-01 from airport 12478\n",
      "getting date 2019-02 from airport 12478\n",
      "getting date 2019-03 from airport 12478\n",
      "getting date 2019-04 from airport 12478\n",
      "getting date 2019-05 from airport 12478\n",
      "getting date 2019-06 from airport 12478\n",
      "getting date 2019-07 from airport 12478\n",
      "getting date 2019-08 from airport 12478\n",
      "getting date 2019-09 from airport 12478\n",
      "getting date 2019-10 from airport 12478\n",
      "getting date 2019-11 from airport 12478\n",
      "getting date 2019-12 from airport 12478\n",
      "getting date 2020-01 from airport 12478\n",
      "getting date 2020-02 from airport 12478\n"
     ]
    },
    {
     "name": "stderr",
     "output_type": "stream",
     "text": [
      "\r",
      " 87%|█████████████████████████████████████████████████████████████████████▍          | 316/364 [35:31<13:41, 17.11s/it]"
     ]
    },
    {
     "name": "stdout",
     "output_type": "stream",
     "text": [
      "getting date 2020-03 from airport 12478\n",
      "getting date 2019-01 from airport 13830\n",
      "getting date 2019-02 from airport 13830\n",
      "getting date 2019-03 from airport 13830\n",
      "getting date 2019-04 from airport 13830\n",
      "getting date 2019-05 from airport 13830\n",
      "getting date 2019-06 from airport 13830\n",
      "getting date 2019-07 from airport 13830\n",
      "getting date 2019-08 from airport 13830\n",
      "getting date 2019-09 from airport 13830\n",
      "getting date 2019-10 from airport 13830\n",
      "getting date 2019-11 from airport 13830\n",
      "getting date 2019-12 from airport 13830\n",
      "getting date 2020-01 from airport 13830\n",
      "getting date 2020-02 from airport 13830\n"
     ]
    },
    {
     "name": "stderr",
     "output_type": "stream",
     "text": [
      "\r",
      " 87%|█████████████████████████████████████████████████████████████████████▋          | 317/364 [36:11<18:35, 23.74s/it]"
     ]
    },
    {
     "name": "stdout",
     "output_type": "stream",
     "text": [
      "getting date 2020-03 from airport 13830\n"
     ]
    },
    {
     "name": "stderr",
     "output_type": "stream",
     "text": [
      "\r",
      " 87%|█████████████████████████████████████████████████████████████████████▉          | 318/364 [36:12<13:10, 17.18s/it]"
     ]
    },
    {
     "name": "stdout",
     "output_type": "stream",
     "text": [
      "getting date 2019-01 from airport 13930\n",
      "getting date 2019-02 from airport 13930\n",
      "getting date 2019-03 from airport 13930\n",
      "getting date 2019-04 from airport 13930\n",
      "getting date 2019-05 from airport 13930\n",
      "getting date 2019-06 from airport 13930\n",
      "getting date 2019-07 from airport 13930\n",
      "getting date 2019-08 from airport 13930\n",
      "getting date 2019-09 from airport 13930\n",
      "getting date 2019-10 from airport 13930\n",
      "getting date 2019-11 from airport 13930\n",
      "getting date 2019-12 from airport 13930\n",
      "getting date 2020-01 from airport 13930\n",
      "getting date 2020-02 from airport 13930\n"
     ]
    },
    {
     "name": "stderr",
     "output_type": "stream",
     "text": [
      "\r",
      " 88%|██████████████████████████████████████████████████████████████████████          | 319/364 [37:40<28:49, 38.44s/it]"
     ]
    },
    {
     "name": "stdout",
     "output_type": "stream",
     "text": [
      "getting date 2020-03 from airport 13930\n"
     ]
    },
    {
     "name": "stderr",
     "output_type": "stream",
     "text": [
      " 91%|████████████████████████████████████████████████████████████████████████▉       | 332/364 [38:05<01:12,  2.26s/it]"
     ]
    },
    {
     "name": "stdout",
     "output_type": "stream",
     "text": [
      "getting date 2019-01 from airport 11193\n",
      "getting date 2019-02 from airport 11193\n",
      "getting date 2019-03 from airport 11193\n",
      "getting date 2019-04 from airport 11193\n",
      "getting date 2019-05 from airport 11193\n",
      "getting date 2019-06 from airport 11193\n",
      "getting date 2019-07 from airport 11193\n",
      "getting date 2019-08 from airport 11193\n",
      "getting date 2019-09 from airport 11193\n",
      "getting date 2019-10 from airport 11193\n",
      "getting date 2019-11 from airport 11193\n",
      "getting date 2019-12 from airport 11193\n",
      "getting date 2020-01 from airport 11193\n",
      "getting date 2020-02 from airport 11193\n"
     ]
    },
    {
     "name": "stderr",
     "output_type": "stream",
     "text": [
      "\r",
      " 91%|█████████████████████████████████████████████████████████████████████████▏      | 333/364 [38:37<05:48, 11.25s/it]"
     ]
    },
    {
     "name": "stdout",
     "output_type": "stream",
     "text": [
      "getting date 2020-03 from airport 11193\n"
     ]
    },
    {
     "name": "stderr",
     "output_type": "stream",
     "text": [
      " 99%|██████████████████████████████████████████████████████████████████████████████▉ | 359/364 [39:26<00:09,  1.88s/it]"
     ]
    },
    {
     "name": "stdout",
     "output_type": "stream",
     "text": [
      "getting date 2019-01 from airport 13303\n",
      "getting date 2019-02 from airport 13303\n",
      "getting date 2019-03 from airport 13303\n",
      "getting date 2019-04 from airport 13303\n",
      "getting date 2019-05 from airport 13303\n",
      "getting date 2019-06 from airport 13303\n",
      "getting date 2019-07 from airport 13303\n",
      "getting date 2019-08 from airport 13303\n",
      "getting date 2019-09 from airport 13303\n",
      "getting date 2019-10 from airport 13303\n",
      "getting date 2019-11 from airport 13303\n",
      "getting date 2019-12 from airport 13303\n",
      "getting date 2020-01 from airport 13303\n",
      "getting date 2020-02 from airport 13303\n"
     ]
    },
    {
     "name": "stderr",
     "output_type": "stream",
     "text": [
      "\r",
      " 99%|███████████████████████████████████████████████████████████████████████████████ | 360/364 [40:05<00:51, 12.77s/it]"
     ]
    },
    {
     "name": "stdout",
     "output_type": "stream",
     "text": [
      "getting date 2020-03 from airport 13303\n"
     ]
    },
    {
     "name": "stderr",
     "output_type": "stream",
     "text": [
      "100%|████████████████████████████████████████████████████████████████████████████████| 364/364 [40:12<00:00,  6.63s/it]\n"
     ]
    }
   ],
   "source": [
    "flights_data=[]\n",
    "\n",
    "def download_airport_monthly_data(airport_id, month):\n",
    "    response_flights = requests.get(f'{API_URL}/flight?airportId={airport_id}&date={month}', headers={'Authorization': APIKEY})\n",
    "    \n",
    "    if response_flights.status_code != 204:  \n",
    "   \n",
    "        print(f'getting date {month} from airport {airport_id}')\n",
    "\n",
    "    elif response_flights.status_code == 204:\n",
    "        return None\n",
    "\n",
    "    else:\n",
    "        print(f\"AirportId: {airport_id} | Month: {month} | Status code: \" + int(response_flights.status_code))\n",
    "\n",
    "    result = response_flights.json() \n",
    "    return result\n",
    "\n",
    "def download_airport_data(airport):\n",
    "    result = []\n",
    "    for month in months:\n",
    "        sleep(60/1000)\n",
    "        data = download_airport_monthly_data(airport, month)\n",
    "\n",
    "        if data is None:\n",
    "            break\n",
    "\n",
    "        result += data\n",
    "    return result\n",
    "\n",
    "for airport in tqdm(airport_id_list):\n",
    "    flights_data += download_airport_data(airport)"
   ]
  },
  {
   "cell_type": "code",
   "execution_count": 27,
   "metadata": {
    "scrolled": true
   },
   "outputs": [
    {
     "data": {
      "text/plain": [
       "1386120"
      ]
     },
     "execution_count": 27,
     "metadata": {},
     "output_type": "execute_result"
    }
   ],
   "source": [
    "len(flights_data)\n",
    "    "
   ]
  },
  {
   "cell_type": "code",
   "execution_count": 28,
   "metadata": {},
   "outputs": [],
   "source": [
    "flight_df =pd.json_normalize(flights_data)"
   ]
  },
  {
   "cell_type": "code",
   "execution_count": 30,
   "metadata": {},
   "outputs": [
    {
     "data": {
      "text/plain": [
       "(1386120, 27)"
      ]
     },
     "execution_count": 30,
     "metadata": {},
     "output_type": "execute_result"
    }
   ],
   "source": [
    "flight_df.shape"
   ]
  },
  {
   "cell_type": "code",
   "execution_count": 32,
   "metadata": {},
   "outputs": [],
   "source": [
    "# flight_df.to_csv(r'..\\data\\raw\\flight.csv', index = False)"
   ]
  },
  {
   "cell_type": "markdown",
   "metadata": {},
   "source": [
    " # Summary\n",
    " \n",
    "The data from all available endpoints was collected successfully and saved to csv files. It can be accessed in project repository in data/raw/ folder.\n",
    "When collecting data from the Flight endpoint, a SLEEP function was employed in order to not exceed the API call limit. Also the 'tqdm' function was used to monitor the loops progress."
   ]
  }
 ],
 "metadata": {
  "kernelspec": {
   "display_name": "Flights_Analysis",
   "language": "python",
   "name": "flights_analysis"
  },
  "language_info": {
   "codemirror_mode": {
    "name": "ipython",
    "version": 3
   },
   "file_extension": ".py",
   "mimetype": "text/x-python",
   "name": "python",
   "nbconvert_exporter": "python",
   "pygments_lexer": "ipython3",
   "version": "3.11.5"
  },
  "vscode": {
   "interpreter": {
    "hash": "38d75d0df746d7f75dd34c5d1915af59cb55786647bd68b8d9064425d7680b12"
   }
  }
 },
 "nbformat": 4,
 "nbformat_minor": 4
}
