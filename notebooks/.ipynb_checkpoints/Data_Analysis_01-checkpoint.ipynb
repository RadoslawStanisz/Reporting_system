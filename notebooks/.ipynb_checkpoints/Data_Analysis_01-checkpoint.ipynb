{
 "cells": [
  {
   "cell_type": "markdown",
   "metadata": {},
   "source": [
    " ## Description\n",
    " \n",
    " The purpose of this notebook is to conduct and **EDA** of the data included in the database created in the previous step. The analysis starts with the 'flight' table focusing on **dep_delay_new** variable, which informs how much the flight was delayed. Also some data cleaning is performed according to **business requirements**:\n",
    " \n",
    "1. Flights from 2020 to be removed\n",
    "2. Cancelled flights to be removed\n",
    "3. Only delays > 15 minutes are taken into consideration \n",
    "4. Outliers > 95th percentile to be removed\n",
    "5. Weekend vs. Non-weekend flights - create new variable"
   ]
  },
  {
   "cell_type": "markdown",
   "metadata": {},
   "source": [
    " #### Notebook configuration"
   ]
  },
  {
   "cell_type": "code",
   "execution_count": 100,
   "metadata": {},
   "outputs": [],
   "source": [
    "from sqlalchemy import create_engine\n",
    "import psycopg2\n",
    "\n",
    "import os\n",
    "from dotenv import load_dotenv\n",
    "\n",
    "import pandas as pd\n",
    "import numpy as np\n",
    "\n",
    "import matplotlib.pyplot as plt\n",
    "import seaborn as sns"
   ]
  },
  {
   "cell_type": "code",
   "execution_count": 2,
   "metadata": {},
   "outputs": [
    {
     "data": {
      "text/plain": [
       "True"
      ]
     },
     "execution_count": 2,
     "metadata": {},
     "output_type": "execute_result"
    }
   ],
   "source": [
    "load_dotenv()"
   ]
  },
  {
   "cell_type": "code",
   "execution_count": 3,
   "metadata": {},
   "outputs": [],
   "source": [
    "username = 'postgres'\n",
    "password = os.environ.get('Db_PASSWORD')\n",
    "host = 'localhost'\n",
    "database = 'postgres'\n",
    "port = 5432"
   ]
  },
  {
   "cell_type": "markdown",
   "metadata": {},
   "source": [
    "#### Define a function that loads data from database tables"
   ]
  },
  {
   "cell_type": "code",
   "execution_count": 4,
   "metadata": {},
   "outputs": [],
   "source": [
    "def load_table_from_db(table_name):\n",
    "    try:\n",
    "        url = f\"postgresql://{username}:{password}@{host}:{port}/{database}\"\n",
    "        engine = create_engine(url)\n",
    "\n",
    "        df = pd.read_sql_table(f'{table_name}', engine)\n",
    "        return df\n",
    "\n",
    "    except Exception as e:\n",
    "        print(\"Error while retrieving data from database:\", e)\n",
    "        return None"
   ]
  },
  {
   "cell_type": "markdown",
   "metadata": {},
   "source": [
    " #### Load flight table from database into dataframe"
   ]
  },
  {
   "cell_type": "code",
   "execution_count": 5,
   "metadata": {},
   "outputs": [
    {
     "data": {
      "text/html": [
       "<div>\n",
       "<style scoped>\n",
       "    .dataframe tbody tr th:only-of-type {\n",
       "        vertical-align: middle;\n",
       "    }\n",
       "\n",
       "    .dataframe tbody tr th {\n",
       "        vertical-align: top;\n",
       "    }\n",
       "\n",
       "    .dataframe thead th {\n",
       "        text-align: right;\n",
       "    }\n",
       "</style>\n",
       "<table border=\"1\" class=\"dataframe\">\n",
       "  <thead>\n",
       "    <tr style=\"text-align: right;\">\n",
       "      <th></th>\n",
       "      <th>id</th>\n",
       "      <th>month</th>\n",
       "      <th>day_of_month</th>\n",
       "      <th>day_of_week</th>\n",
       "      <th>op_unique_carrier</th>\n",
       "      <th>tail_num</th>\n",
       "      <th>op_carrier_fl_num</th>\n",
       "      <th>origin_airport_id</th>\n",
       "      <th>dest_airport_id</th>\n",
       "      <th>crs_dep_time</th>\n",
       "      <th>...</th>\n",
       "      <th>crs_elapsed_time</th>\n",
       "      <th>actual_elapsed_time</th>\n",
       "      <th>distance</th>\n",
       "      <th>distance_group</th>\n",
       "      <th>carrier_delay</th>\n",
       "      <th>weather_delay</th>\n",
       "      <th>nas_delay</th>\n",
       "      <th>security_delay</th>\n",
       "      <th>late_aircraft_delay</th>\n",
       "      <th>year</th>\n",
       "    </tr>\n",
       "  </thead>\n",
       "  <tbody>\n",
       "    <tr>\n",
       "      <th>0</th>\n",
       "      <td>1</td>\n",
       "      <td>1</td>\n",
       "      <td>20</td>\n",
       "      <td>7</td>\n",
       "      <td>WN</td>\n",
       "      <td>N204WN</td>\n",
       "      <td>682</td>\n",
       "      <td>10397</td>\n",
       "      <td>11292</td>\n",
       "      <td>605</td>\n",
       "      <td>...</td>\n",
       "      <td>205.0</td>\n",
       "      <td>204.0</td>\n",
       "      <td>1199.0</td>\n",
       "      <td>5</td>\n",
       "      <td>NaN</td>\n",
       "      <td>NaN</td>\n",
       "      <td>NaN</td>\n",
       "      <td>NaN</td>\n",
       "      <td>NaN</td>\n",
       "      <td>2019</td>\n",
       "    </tr>\n",
       "    <tr>\n",
       "      <th>1</th>\n",
       "      <td>2</td>\n",
       "      <td>1</td>\n",
       "      <td>20</td>\n",
       "      <td>7</td>\n",
       "      <td>WN</td>\n",
       "      <td>N8682B</td>\n",
       "      <td>2622</td>\n",
       "      <td>10397</td>\n",
       "      <td>11292</td>\n",
       "      <td>2120</td>\n",
       "      <td>...</td>\n",
       "      <td>210.0</td>\n",
       "      <td>205.0</td>\n",
       "      <td>1199.0</td>\n",
       "      <td>5</td>\n",
       "      <td>NaN</td>\n",
       "      <td>NaN</td>\n",
       "      <td>NaN</td>\n",
       "      <td>NaN</td>\n",
       "      <td>NaN</td>\n",
       "      <td>2019</td>\n",
       "    </tr>\n",
       "    <tr>\n",
       "      <th>2</th>\n",
       "      <td>3</td>\n",
       "      <td>1</td>\n",
       "      <td>20</td>\n",
       "      <td>7</td>\n",
       "      <td>WN</td>\n",
       "      <td>N717SA</td>\n",
       "      <td>2939</td>\n",
       "      <td>10397</td>\n",
       "      <td>11292</td>\n",
       "      <td>1800</td>\n",
       "      <td>...</td>\n",
       "      <td>210.0</td>\n",
       "      <td>220.0</td>\n",
       "      <td>1199.0</td>\n",
       "      <td>5</td>\n",
       "      <td>4.0</td>\n",
       "      <td>0.0</td>\n",
       "      <td>10.0</td>\n",
       "      <td>0.0</td>\n",
       "      <td>3.0</td>\n",
       "      <td>2019</td>\n",
       "    </tr>\n",
       "    <tr>\n",
       "      <th>3</th>\n",
       "      <td>4</td>\n",
       "      <td>1</td>\n",
       "      <td>20</td>\n",
       "      <td>7</td>\n",
       "      <td>WN</td>\n",
       "      <td>N709SW</td>\n",
       "      <td>3848</td>\n",
       "      <td>10397</td>\n",
       "      <td>11292</td>\n",
       "      <td>1355</td>\n",
       "      <td>...</td>\n",
       "      <td>205.0</td>\n",
       "      <td>204.0</td>\n",
       "      <td>1199.0</td>\n",
       "      <td>5</td>\n",
       "      <td>NaN</td>\n",
       "      <td>NaN</td>\n",
       "      <td>NaN</td>\n",
       "      <td>NaN</td>\n",
       "      <td>NaN</td>\n",
       "      <td>2019</td>\n",
       "    </tr>\n",
       "    <tr>\n",
       "      <th>4</th>\n",
       "      <td>5</td>\n",
       "      <td>1</td>\n",
       "      <td>20</td>\n",
       "      <td>7</td>\n",
       "      <td>WN</td>\n",
       "      <td>N7864B</td>\n",
       "      <td>1352</td>\n",
       "      <td>10397</td>\n",
       "      <td>11697</td>\n",
       "      <td>1125</td>\n",
       "      <td>...</td>\n",
       "      <td>120.0</td>\n",
       "      <td>124.0</td>\n",
       "      <td>581.0</td>\n",
       "      <td>3</td>\n",
       "      <td>NaN</td>\n",
       "      <td>NaN</td>\n",
       "      <td>NaN</td>\n",
       "      <td>NaN</td>\n",
       "      <td>NaN</td>\n",
       "      <td>2019</td>\n",
       "    </tr>\n",
       "  </tbody>\n",
       "</table>\n",
       "<p>5 rows × 28 columns</p>\n",
       "</div>"
      ],
      "text/plain": [
       "   id  month  day_of_month  day_of_week op_unique_carrier tail_num  \\\n",
       "0   1      1            20            7                WN   N204WN   \n",
       "1   2      1            20            7                WN   N8682B   \n",
       "2   3      1            20            7                WN   N717SA   \n",
       "3   4      1            20            7                WN   N709SW   \n",
       "4   5      1            20            7                WN   N7864B   \n",
       "\n",
       "   op_carrier_fl_num  origin_airport_id  dest_airport_id  crs_dep_time  ...  \\\n",
       "0                682              10397            11292           605  ...   \n",
       "1               2622              10397            11292          2120  ...   \n",
       "2               2939              10397            11292          1800  ...   \n",
       "3               3848              10397            11292          1355  ...   \n",
       "4               1352              10397            11697          1125  ...   \n",
       "\n",
       "   crs_elapsed_time  actual_elapsed_time distance  distance_group  \\\n",
       "0             205.0                204.0   1199.0               5   \n",
       "1             210.0                205.0   1199.0               5   \n",
       "2             210.0                220.0   1199.0               5   \n",
       "3             205.0                204.0   1199.0               5   \n",
       "4             120.0                124.0    581.0               3   \n",
       "\n",
       "   carrier_delay  weather_delay nas_delay  security_delay  \\\n",
       "0            NaN            NaN       NaN             NaN   \n",
       "1            NaN            NaN       NaN             NaN   \n",
       "2            4.0            0.0      10.0             0.0   \n",
       "3            NaN            NaN       NaN             NaN   \n",
       "4            NaN            NaN       NaN             NaN   \n",
       "\n",
       "   late_aircraft_delay  year  \n",
       "0                  NaN  2019  \n",
       "1                  NaN  2019  \n",
       "2                  3.0  2019  \n",
       "3                  NaN  2019  \n",
       "4                  NaN  2019  \n",
       "\n",
       "[5 rows x 28 columns]"
      ]
     },
     "execution_count": 5,
     "metadata": {},
     "output_type": "execute_result"
    }
   ],
   "source": [
    "flight_df_raw = load_table_from_db('flight')\n",
    "flight_df_raw.head()"
   ]
  },
  {
   "cell_type": "markdown",
   "metadata": {},
   "source": [
    "#### Data Cleaning\n",
    "\n",
    "1. Remove flights:\n",
    "\n",
    "- from 2020\n",
    "- cancelled\n",
    "\n",
    "2. Rename the dep_delay_new column to dep_delay"
   ]
  },
  {
   "cell_type": "code",
   "execution_count": 6,
   "metadata": {},
   "outputs": [],
   "source": [
    "mask_1 = flight_df_raw['year'] == 2019\n",
    "mask_2 = flight_df_raw['cancelled'] == 0\n",
    "flight_df = flight_df_raw[mask_1 & mask_2]"
   ]
  },
  {
   "cell_type": "code",
   "execution_count": 7,
   "metadata": {},
   "outputs": [
    {
     "name": "stderr",
     "output_type": "stream",
     "text": [
      "C:\\Users\\sk-se\\AppData\\Local\\Temp\\ipykernel_21576\\2719310930.py:1: SettingWithCopyWarning: \n",
      "A value is trying to be set on a copy of a slice from a DataFrame\n",
      "\n",
      "See the caveats in the documentation: https://pandas.pydata.org/pandas-docs/stable/user_guide/indexing.html#returning-a-view-versus-a-copy\n",
      "  flight_df.rename(columns = {'dep_delay_new':'dep_delay'}, inplace = True)\n"
     ]
    }
   ],
   "source": [
    "flight_df.rename(columns = {'dep_delay_new':'dep_delay'}, inplace = True)"
   ]
  },
  {
   "cell_type": "markdown",
   "metadata": {},
   "source": [
    " #### Descriptive statistics for `dep_delay` variable"
   ]
  },
  {
   "cell_type": "code",
   "execution_count": 8,
   "metadata": {},
   "outputs": [
    {
     "data": {
      "text/plain": [
       "count    1095742.00\n",
       "mean          14.77\n",
       "std           46.49\n",
       "min            0.00\n",
       "10%            0.00\n",
       "25%            0.00\n",
       "50%            0.00\n",
       "75%            8.00\n",
       "90%           42.00\n",
       "95%           81.00\n",
       "99%          206.00\n",
       "max         1959.00\n",
       "Name: dep_delay, dtype: float64"
      ]
     },
     "execution_count": 8,
     "metadata": {},
     "output_type": "execute_result"
    }
   ],
   "source": [
    "dep_delay_statistics_df = flight_df['dep_delay'].describe(percentiles =[0.1, 0.25, 0.5, 0.75, 0.9, 0.95, 0.99]).round(decimals=2)\n",
    "dep_delay_statistics_df"
   ]
  },
  {
   "cell_type": "markdown",
   "metadata": {},
   "source": [
    " #### Create a histogram of delays (without outliers)"
   ]
  },
  {
   "cell_type": "markdown",
   "metadata": {},
   "source": [
    " Filter data to keep only delays up to 95th percentile:"
   ]
  },
  {
   "cell_type": "code",
   "execution_count": 9,
   "metadata": {},
   "outputs": [],
   "source": [
    "flight_df_filtered = flight_df[(flight_df['dep_delay'] > 0) & (flight_df['dep_delay'] < flight_df['dep_delay'].quantile(0.95))]"
   ]
  },
  {
   "cell_type": "code",
   "execution_count": 10,
   "metadata": {
    "scrolled": false
   },
   "outputs": [
    {
     "data": {
      "image/png": "[encoded data removed]",
      "text/plain": [
       "<Figure size 500x500 with 1 Axes>"
      ]
     },
     "metadata": {},
     "output_type": "display_data"
    }
   ],
   "source": [
    "bins = [0, 10, 20, 30, 40, 50, 60, 70, 80, 90]\n",
    "sns.displot(data=flight_df_filtered, x='dep_delay', bins=bins)\n",
    "plt.title('Histogram of flight delays')\n",
    "plt.xlabel('delay [min]')\n",
    "plt.ylabel('count of delays')\n",
    "plt.show()"
   ]
  },
  {
   "cell_type": "markdown",
   "metadata": {},
   "source": [
    "#### EDA"
   ]
  },
  {
   "cell_type": "markdown",
   "metadata": {},
   "source": [
    "Create a new variable **'is_delayed'** which classifies whether a flight is delayed or not based on the following condition:\n",
    "**dep_delay > 15 minutes.**"
   ]
  },
  {
   "cell_type": "code",
   "execution_count": 11,
   "metadata": {
    "scrolled": true
   },
   "outputs": [
    {
     "name": "stderr",
     "output_type": "stream",
     "text": [
      "C:\\Users\\sk-se\\AppData\\Local\\Temp\\ipykernel_21576\\3063191747.py:1: SettingWithCopyWarning: \n",
      "A value is trying to be set on a copy of a slice from a DataFrame.\n",
      "Try using .loc[row_indexer,col_indexer] = value instead\n",
      "\n",
      "See the caveats in the documentation: https://pandas.pydata.org/pandas-docs/stable/user_guide/indexing.html#returning-a-view-versus-a-copy\n",
      "  flight_df.loc[:, 'is_delayed'] = flight_df['dep_delay'].apply(lambda x: x > 15)\n"
     ]
    }
   ],
   "source": [
    "flight_df.loc[:, 'is_delayed'] = flight_df['dep_delay'].apply(lambda x: x > 15)"
   ]
  },
  {
   "cell_type": "code",
   "execution_count": 12,
   "metadata": {},
   "outputs": [
    {
     "data": {
      "text/plain": [
       "0.19"
      ]
     },
     "execution_count": 12,
     "metadata": {},
     "output_type": "execute_result"
    }
   ],
   "source": [
    "overall_delay_rate = round(flight_df['is_delayed'].mean(), 2)\n",
    "overall_delay_rate"
   ]
  },
  {
   "cell_type": "markdown",
   "metadata": {},
   "source": [
    "The flights that were delayed more than 15 minutes account for roughly 19% of all flights."
   ]
  },
  {
   "cell_type": "markdown",
   "metadata": {},
   "source": [
    " #### Delays rates vs. month and day of week"
   ]
  },
  {
   "cell_type": "code",
   "execution_count": 13,
   "metadata": {},
   "outputs": [],
   "source": [
    "flight_delays_by_month_df = flight_df.groupby('month')['is_delayed'].mean().reset_index()\n",
    "flight_delays_by_weekday_df = flight_df.groupby('day_of_week')['is_delayed'].mean().reset_index()"
   ]
  },
  {
   "cell_type": "code",
   "execution_count": 14,
   "metadata": {},
   "outputs": [
    {
     "data": {
      "image/png": "[encoded data removed]",
      "text/plain": [
       "<Figure size 1400x400 with 2 Axes>"
      ]
     },
     "metadata": {},
     "output_type": "display_data"
    }
   ],
   "source": [
    "plt.figure(figsize=(14,4))\n",
    "plt.subplot(1,2,1)\n",
    "ax1 = sns.barplot(data=flight_delays_by_month_df, x='month', y='is_delayed')\n",
    "plt.xlabel('Month')\n",
    "plt.ylabel('Delay Rate')\n",
    "plt.title('Flight Delay Rate by Month')\n",
    "plt.axhline(overall_delay_rate, color = \"red\")\n",
    "\n",
    "month_labels = ['January', 'February', 'March', 'April', 'May', 'June',\n",
    "                'July', 'August', 'September', 'October', 'November', 'December']\n",
    "ax1.set_xticks(range(12))\n",
    "ax1.set_xticklabels(month_labels, rotation=90)\n",
    "\n",
    "plt.subplot(1,2,2, sharey=ax1)\n",
    "ax2 = sns.barplot(data=flight_delays_by_weekday_df, x='day_of_week', y='is_delayed')\n",
    "plt.xlabel('Day of week')\n",
    "plt.ylabel('Delay Rate')\n",
    "plt.title('Flight Delay Rate by Day of week')\n",
    "plt.axhline(overall_delay_rate, color = \"red\")\n",
    "\n",
    "weekday_labels = ['Monday', 'Tuesday', 'Wednesday', 'Thursday', 'Friday', 'Saturday', 'Sunday']\n",
    "ax2.set_xticks(range(7))\n",
    "ax2.set_xticklabels(weekday_labels, rotation=90)\n",
    "\n",
    "plt.subplots_adjust(wspace=0.3)\n",
    "plt.show()"
   ]
  },
  {
   "cell_type": "markdown",
   "metadata": {},
   "source": [
    "The left chart shows that the highest delay rate by month is in June and the lowest in November. When it comes to day of the week, we see the maximum delay date on Thursday and minimum on Saturday.\n",
    "The horizontal red line on both charts represents the overall delay rate (without any aggregations)."
   ]
  },
  {
   "cell_type": "markdown",
   "metadata": {},
   "source": [
    " #### Delay vs. weekend"
   ]
  },
  {
   "cell_type": "markdown",
   "metadata": {},
   "source": [
    "Add new variable `is_weekend` that aggregate Saturday and Sunday"
   ]
  },
  {
   "cell_type": "code",
   "execution_count": 15,
   "metadata": {},
   "outputs": [
    {
     "name": "stderr",
     "output_type": "stream",
     "text": [
      "C:\\Users\\sk-se\\AppData\\Local\\Temp\\ipykernel_21576\\3086979329.py:1: SettingWithCopyWarning: \n",
      "A value is trying to be set on a copy of a slice from a DataFrame.\n",
      "Try using .loc[row_indexer,col_indexer] = value instead\n",
      "\n",
      "See the caveats in the documentation: https://pandas.pydata.org/pandas-docs/stable/user_guide/indexing.html#returning-a-view-versus-a-copy\n",
      "  flight_df.loc[:, 'is_weekend'] = flight_df['day_of_week'].apply(lambda day: day in [6, 7])\n"
     ]
    }
   ],
   "source": [
    "flight_df.loc[:, 'is_weekend'] = flight_df['day_of_week'].apply(lambda day: day in [6, 7])"
   ]
  },
  {
   "cell_type": "code",
   "execution_count": 52,
   "metadata": {},
   "outputs": [],
   "source": [
    "flight_delays_by_weekend_df = flight_df.groupby('is_weekend')['is_delayed'].mean().reset_index()"
   ]
  },
  {
   "cell_type": "code",
   "execution_count": 55,
   "metadata": {
    "scrolled": true
   },
   "outputs": [
    {
     "data": {
      "text/html": [
       "<div>\n",
       "<style scoped>\n",
       "    .dataframe tbody tr th:only-of-type {\n",
       "        vertical-align: middle;\n",
       "    }\n",
       "\n",
       "    .dataframe tbody tr th {\n",
       "        vertical-align: top;\n",
       "    }\n",
       "\n",
       "    .dataframe thead th {\n",
       "        text-align: right;\n",
       "    }\n",
       "</style>\n",
       "<table border=\"1\" class=\"dataframe\">\n",
       "  <thead>\n",
       "    <tr style=\"text-align: right;\">\n",
       "      <th></th>\n",
       "      <th>is_weekend</th>\n",
       "      <th>is_delayed</th>\n",
       "    </tr>\n",
       "  </thead>\n",
       "  <tbody>\n",
       "    <tr>\n",
       "      <th>0</th>\n",
       "      <td>False</td>\n",
       "      <td>0.194632</td>\n",
       "    </tr>\n",
       "    <tr>\n",
       "      <th>1</th>\n",
       "      <td>True</td>\n",
       "      <td>0.180632</td>\n",
       "    </tr>\n",
       "  </tbody>\n",
       "</table>\n",
       "</div>"
      ],
      "text/plain": [
       "   is_weekend  is_delayed\n",
       "0       False    0.194632\n",
       "1        True    0.180632"
      ]
     },
     "execution_count": 55,
     "metadata": {},
     "output_type": "execute_result"
    }
   ],
   "source": [
    "flight_delays_by_weekend_df"
   ]
  },
  {
   "cell_type": "code",
   "execution_count": 18,
   "metadata": {},
   "outputs": [
    {
     "data": {
      "image/png": "[encoded data removed]",
      "text/plain": [
       "<Figure size 331.111x400 with 1 Axes>"
      ]
     },
     "metadata": {},
     "output_type": "display_data"
    }
   ],
   "source": [
    "sns.catplot(data=flight_delays_by_weekend_df,\n",
    "            x=\"is_weekend\",\n",
    "            y=\"is_delayed\",\n",
    "            kind=\"bar\",\n",
    "            height=4,  \n",
    "            aspect=0.8)  \n",
    "\n",
    "plt.title('Flight Delay Rate by whether it\\'s weekend or not')\n",
    "plt.xlabel('')\n",
    "plt.ylabel('Delay Rate')\n",
    "\n",
    "plt.xticks(ticks=[0, 1], labels=['Not Weekend', 'Weekend'])\n",
    "\n",
    "plt.show()"
   ]
  },
  {
   "cell_type": "markdown",
   "metadata": {},
   "source": [
    "The difference between weekend and other days regarding flight delay rate is 1.4%. Below I check whether the difference is statistically significant."
   ]
  },
  {
   "cell_type": "markdown",
   "metadata": {},
   "source": [
    "#### Two-sample Z - test for proportion"
   ]
  },
  {
   "cell_type": "code",
   "execution_count": 99,
   "metadata": {
    "scrolled": true
   },
   "outputs": [
    {
     "name": "stdout",
     "output_type": "stream",
     "text": [
      "Test statistic Z: -15.975794870402888\n",
      "p_value: 1.8843687466373676e-57\n"
     ]
    }
   ],
   "source": [
    "import statsmodels.api as sm\n",
    "\n",
    "# Delay rates\n",
    "weekend = 0.180632\n",
    "weekday = 0.194632\n",
    "\n",
    "n_weekend = (flight_df['is_weekend']==True).sum()  # number of flights on weekends\n",
    "n_weekday = (flight_df['is_weekend']==False).sum()  # number of flights on weekdays\n",
    "\n",
    "# number of delayed flights\n",
    "count_weekend = weekend * n_weekend\n",
    "count_weekday = weekday * n_weekday\n",
    "\n",
    "counts = np.array([count_weekend, count_weekday])\n",
    "nobs = np.array([n_weekend, n_weekday])\n",
    "\n",
    "#Two sided test for proportions\n",
    "# Null hypothesis Ho: weekend = weekday, Alternative hypothesis Ha: weekend != weekday\n",
    "\n",
    "stat, pval = sm.stats.proportions_ztest(counts, nobs, alternative='two-sided')\n",
    "\n",
    "print(f\"Test statistic Z: {stat}\")\n",
    "print(f\"p_value: {pval}\")"
   ]
  },
  {
   "cell_type": "markdown",
   "metadata": {},
   "source": [
    "We can reject Null hypothesis since p value is basically equal to 0. That means there's a statistically significant difference between two proportions (delay rates)."
   ]
  },
  {
   "cell_type": "markdown",
   "metadata": {},
   "source": [
    "#### Delays vs. flight distance"
   ]
  },
  {
   "cell_type": "code",
   "execution_count": 21,
   "metadata": {},
   "outputs": [
    {
     "data": {
      "text/plain": [
       "count    1095742.00\n",
       "mean         758.08\n",
       "std          600.43\n",
       "min          100.00\n",
       "10%          216.00\n",
       "25%          337.00\n",
       "50%          606.00\n",
       "75%          937.00\n",
       "90%         1721.00\n",
       "95%         2475.00\n",
       "99%         2586.00\n",
       "max         2586.00\n",
       "Name: distance, dtype: float64"
      ]
     },
     "execution_count": 21,
     "metadata": {},
     "output_type": "execute_result"
    }
   ],
   "source": [
    "flight_distance_analysis_df = flight_df['distance'].describe(percentiles =[0.1, 0.25, 0.5, 0.75, 0.9, 0.95, 0.99]).round(decimals=2)\n",
    "flight_distance_analysis_df "
   ]
  },
  {
   "cell_type": "code",
   "execution_count": 22,
   "metadata": {},
   "outputs": [],
   "source": [
    "scatter_df = flight_df.sample(n=10000, random_state=42)"
   ]
  },
  {
   "cell_type": "code",
   "execution_count": 23,
   "metadata": {},
   "outputs": [
    {
     "data": {
      "image/png": "[encoded data removed]",
      "text/plain": [
       "<Figure size 500x500 with 1 Axes>"
      ]
     },
     "metadata": {},
     "output_type": "display_data"
    }
   ],
   "source": [
    "sns.relplot(data=scatter_df,\n",
    "      x=scatter_df[\"distance\"], \n",
    "      y=scatter_df[\"dep_delay\"])\n",
    "plt.title('delays vs. distance')\n",
    "plt.ylabel('delay [min]')\n",
    "plt.xlabel('distance [miles]')\n",
    "plt.show()"
   ]
  },
  {
   "cell_type": "markdown",
   "metadata": {},
   "source": [
    "removing outliers above `95th percentile`"
   ]
  },
  {
   "cell_type": "code",
   "execution_count": 24,
   "metadata": {},
   "outputs": [],
   "source": [
    "flight_df = flight_df[flight_df['distance'] <= flight_df['distance'].quantile(0.95)]"
   ]
  },
  {
   "cell_type": "markdown",
   "metadata": {},
   "source": [
    " #### Delays vs.distance group"
   ]
  },
  {
   "cell_type": "markdown",
   "metadata": {},
   "source": [
    "Check how the distance groups were created"
   ]
  },
  {
   "cell_type": "code",
   "execution_count": 25,
   "metadata": {},
   "outputs": [
    {
     "data": {
      "text/html": [
       "<div>\n",
       "<style scoped>\n",
       "    .dataframe tbody tr th:only-of-type {\n",
       "        vertical-align: middle;\n",
       "    }\n",
       "\n",
       "    .dataframe tbody tr th {\n",
       "        vertical-align: top;\n",
       "    }\n",
       "\n",
       "    .dataframe thead th {\n",
       "        text-align: right;\n",
       "    }\n",
       "</style>\n",
       "<table border=\"1\" class=\"dataframe\">\n",
       "  <thead>\n",
       "    <tr style=\"text-align: right;\">\n",
       "      <th></th>\n",
       "      <th>min</th>\n",
       "      <th>max</th>\n",
       "    </tr>\n",
       "    <tr>\n",
       "      <th>distance_group</th>\n",
       "      <th></th>\n",
       "      <th></th>\n",
       "    </tr>\n",
       "  </thead>\n",
       "  <tbody>\n",
       "    <tr>\n",
       "      <th>1</th>\n",
       "      <td>100.0</td>\n",
       "      <td>239.0</td>\n",
       "    </tr>\n",
       "    <tr>\n",
       "      <th>2</th>\n",
       "      <td>255.0</td>\n",
       "      <td>480.0</td>\n",
       "    </tr>\n",
       "    <tr>\n",
       "      <th>3</th>\n",
       "      <td>544.0</td>\n",
       "      <td>746.0</td>\n",
       "    </tr>\n",
       "    <tr>\n",
       "      <th>4</th>\n",
       "      <td>762.0</td>\n",
       "      <td>967.0</td>\n",
       "    </tr>\n",
       "    <tr>\n",
       "      <th>5</th>\n",
       "      <td>1024.0</td>\n",
       "      <td>1235.0</td>\n",
       "    </tr>\n",
       "    <tr>\n",
       "      <th>6</th>\n",
       "      <td>1389.0</td>\n",
       "      <td>1448.0</td>\n",
       "    </tr>\n",
       "    <tr>\n",
       "      <th>7</th>\n",
       "      <td>1721.0</td>\n",
       "      <td>1744.0</td>\n",
       "    </tr>\n",
       "    <tr>\n",
       "      <th>8</th>\n",
       "      <td>1846.0</td>\n",
       "      <td>1947.0</td>\n",
       "    </tr>\n",
       "    <tr>\n",
       "      <th>10</th>\n",
       "      <td>2475.0</td>\n",
       "      <td>2475.0</td>\n",
       "    </tr>\n",
       "  </tbody>\n",
       "</table>\n",
       "</div>"
      ],
      "text/plain": [
       "                   min     max\n",
       "distance_group                \n",
       "1                100.0   239.0\n",
       "2                255.0   480.0\n",
       "3                544.0   746.0\n",
       "4                762.0   967.0\n",
       "5               1024.0  1235.0\n",
       "6               1389.0  1448.0\n",
       "7               1721.0  1744.0\n",
       "8               1846.0  1947.0\n",
       "10              2475.0  2475.0"
      ]
     },
     "execution_count": 25,
     "metadata": {},
     "output_type": "execute_result"
    }
   ],
   "source": [
    "flight_distance_by_distance_group = flight_df.groupby('distance_group')['distance'].agg(['min', 'max'])\n",
    "flight_distance_by_distance_group"
   ]
  },
  {
   "cell_type": "markdown",
   "metadata": {},
   "source": [
    "Calculate the delay rates by distance group"
   ]
  },
  {
   "cell_type": "code",
   "execution_count": 26,
   "metadata": {},
   "outputs": [],
   "source": [
    "flight_delays_by_distance_group_df = flight_df.groupby('distance_group')['is_delayed'].mean().reset_index()"
   ]
  },
  {
   "cell_type": "code",
   "execution_count": 27,
   "metadata": {},
   "outputs": [
    {
     "data": {
      "image/png": "[encoded data removed]",
      "text/plain": [
       "<Figure size 411.111x400 with 1 Axes>"
      ]
     },
     "metadata": {},
     "output_type": "display_data"
    }
   ],
   "source": [
    "sns.catplot(data=flight_delays_by_distance_group_df,\n",
    "            x=\"distance_group\",\n",
    "            y=\"is_delayed\",\n",
    "            kind=\"bar\",\n",
    "            height=4,  \n",
    "            aspect=1)  \n",
    "\n",
    "plt.title('Flight Delay Rate by distance group')\n",
    "plt.xlabel('Distance group')\n",
    "plt.ylabel('Delay Rate')\n",
    "\n",
    "plt.show()"
   ]
  },
  {
   "cell_type": "markdown",
   "metadata": {},
   "source": [
    "The chart above shows that the percentage of delays by distance group ranges from ~16% to 23%. These are quite meaningful fluctuations, however, there's no clear pattern suggesting higher probability of delays occuring on longer routes."
   ]
  },
  {
   "cell_type": "markdown",
   "metadata": {},
   "source": [
    " # Summary\n",
    "\n",
    " In this notebook I have cleaned the data according to business requirements and conducted basic EDA of the flight table.\n",
    " \n",
    " Insights:\n",
    " - Longer delays are less frequent then short ones as expected\n",
    " - The flights that were delayed more than 15 minutes account for roughly 19% of all flights\n",
    " - Delay rates vary from month to month with its maximum in june. Generally, summer months have higher delay rates than the average for whole year. This might be a result of intensified traffic due to holidays period. Also December and February \n",
    "have delay rates above average, which also could be explained to some extent by christmas and winter holidays respectively.\n",
    " - Delay rates for weekend flights are lower by 1.4% compared to other weekdays. Z-test showed there's a statistically significant difference between these two proportions\n",
    " - The highest delay rates are observed on Thursdays\n",
    " - The flights are divided into several distance groups. The analysis showed no clear pattern suggesting long-distance flights are more likely to be delayed\n",
    " \n",
    " Next steps:\n",
    " In the following notebooks more tables from the database will be merged and analysed in order to further explore the data. "
   ]
  },
  {
   "cell_type": "code",
   "execution_count": 28,
   "metadata": {},
   "outputs": [],
   "source": [
    "#flight_df.to_csv(r'..\\data\\processed\\flight_df_01.csv', index=False)"
   ]
  }
 ],
 "metadata": {
  "kernelspec": {
   "display_name": "Flights_Analysis",
   "language": "python",
   "name": "flights_analysis"
  },
  "language_info": {
   "codemirror_mode": {
    "name": "ipython",
    "version": 3
   },
   "file_extension": ".py",
   "mimetype": "text/x-python",
   "name": "python",
   "nbconvert_exporter": "python",
   "pygments_lexer": "ipython3",
   "version": "3.11.5"
  },
  "vscode": {
   "interpreter": {
    "hash": "38d75d0df746d7f75dd34c5d1915af59cb55786647bd68b8d9064425d7680b12"
   }
  }
 },
 "nbformat": 4,
 "nbformat_minor": 2
}
